{
 "cells": [
  {
   "cell_type": "markdown",
   "id": "cef497dd",
   "metadata": {
    "id": "cef497dd"
   },
   "source": [
    "### Agentic AI PDF RAG Pipeline (Groq + FAISS + HuggingFace)\n",
    "This notebook demonstrates an end-to-end RAG (Retrieval-Augmented Generation) pipeline over a 288-page Agentic AI PDF book. It includes:\n",
    "\n",
    "📄 PDF loading and semantic chunking using LangChain's PyPDFLoader and RecursiveCharacterTextSplitter\n",
    "\n",
    "🔍 Embedding text with all-MiniLM-L6-v2 via HuggingFaceEmbeddings\n",
    "\n",
    "🧠 Local vector storage using FAISS with flat indexing\n",
    "\n",
    "🔄 Retrieval of top-k relevant chunks using vector similarity\n",
    "\n",
    "💬 Response generation using Groq's ultra-fast gemma-2b-it LLM\n",
    "\n",
    "🧱 Prompt orchestration using LangChain's hub + RunnablePassthrough + StrOutputParser\n",
    "\n",
    "Query Example:\n",
    "\"Explain the router in Agentic AI\" → returns a semantically accurate answer grounded in the book content.\n",
    "\n",
    "This pipeline is designed for fast, local prototyping of retrieval-based LLM applications with modular LangChain components.\n",
    "\n"
   ]
  },
  {
   "cell_type": "code",
   "execution_count": 1,
   "id": "281af728",
   "metadata": {
    "colab": {
     "base_uri": "https://localhost:8080/",
     "height": 383
    },
    "executionInfo": {
     "elapsed": 193,
     "status": "error",
     "timestamp": 1749042869859,
     "user": {
      "displayName": "Bhagwat Chate",
      "userId": "00521261954459483455"
     },
     "user_tz": -330
    },
    "id": "281af728",
    "outputId": "2ef18aeb-47f3-4985-ba6a-7112ff067116"
   },
   "outputs": [],
   "source": [
    "# 🌍 Environment Setup\n",
    "import os\n",
    "from dotenv import load_dotenv\n",
    "load_dotenv()\n",
    "os.environ['GROQ_API_KEY'] = os.getenv('GROQ_API_KEY')\n",
    "\n",
    "# 📄 Document Loading & Chunking\n",
    "from langchain.document_loaders import PyPDFLoader\n",
    "from langchain.text_splitter import RecursiveCharacterTextSplitter\n",
    "\n",
    "# 🔍 Embedding & Vector Store\n",
    "from langchain_huggingface import HuggingFaceEmbeddings\n",
    "from langchain.vectorstores import FAISS\n",
    "\n",
    "# 🤖 LLM, Prompting, and Chain Building\n",
    "from langchain_groq import ChatGroq\n",
    "from langchain_core.output_parsers import StrOutputParser\n",
    "from langchain_core.runnables import RunnablePassthrough\n",
    "from langchain import hub"
   ]
  },
  {
   "cell_type": "code",
   "execution_count": 2,
   "id": "7a73cf6b",
   "metadata": {
    "collapsed": true,
    "id": "7a73cf6b",
    "outputId": "50d08c3f-5308-41a2-bc01-4df04943f5c7"
   },
   "outputs": [
    {
     "data": {
      "text/plain": [
       "Document(metadata={'producer': 'Adobe PDF Library 17.0; modified using iText® 5.5.13 ©2000-2018 iText Group NV (AGPL-version)', 'creator': 'Adobe InDesign 18.5 (Windows)(Foxit Advanced PDF Editor)', 'creationdate': '2025-04-01T12:11:31+05:30', 'icnappname': 'Foxit Advanced PDF Editor', 'icnappplatform': 'Windows', 'icnappversion': '3.05', 'moddate': 'D:20250424033741', 'trapped': '/False', 'source': 'data\\\\agentic-ai-system.pdf', 'total_pages': 288, 'page': 111, 'page_label': '87'}, page_content='Implementing reflective capabilities 87\\nWe will then set up a crew with the defined agents and tasks and kick off the process:\\n1 from crewai import Agent, Task, Crew\\n2 crew = Crew(\\n3    agents=[preference_agent, meta_agent],\\n4    tasks=[generate_recommendation, adjust_weights],\\n5    verbose=True)\\n6\\n7 crew.kickoff()\\nThe output would look something like this:\\n# Agent: Travel destination recommender\\n## Task: Use the recommend_destination tool with these preferences: \\n{\\'budget\\': 0.04, \\'luxury\\': 0.02, \\'adventure\\': 0.94}\\nReturn only the destination name as a simple string (Paris, Bangkok, \\nor New York).\\n# Agent: Travel destination recommender\\n## Thought: I need to analyze the user\\'s preferences which heavily \\nfavor adventure and very little for budget and luxury.\\n## Using tool: Recommend travel destination based on preferences.\\n## Tool Input:\\n\"{\\\\\"user_preferences\\\\\": {\\\\\"budget\\\\\": 0.04, \\\\\"luxury\\\\\": 0.02, \\n\\\\\"adventure\\\\\": 0.94}}\"\\n## Tool Output:\\nNew York\\n# Agent: Travel destination recommender\\n## Final Answer:\\nNew York\\n# Agent: Preference weight adjuster\\n## Task: Use the update_weights_on_feedback tool with:\\n1. destination: Get from first task\\'s output (context[0])\\n2. feedback: Get from user input\\n3. adjustment_factor: a number between 0 and 1 that will be used to \\nadjust internal weights based on feedback\\nEnsure all inputs are in their correct types (string for destination, \\ninteger for feedback).\\n# Agent: Preference weight adjuster\\n## Thought: I need to adjust the preference weights based on the \\nprovided feedback for the destination \\'New York\\', which received \\na dissatisfied feedback of -1. I will choose an adjustment factor \\nbetween 0 and 1; for this case, I will use 0.1 for a slight')"
      ]
     },
     "execution_count": 2,
     "metadata": {},
     "output_type": "execute_result"
    }
   ],
   "source": [
    "loader = PyPDFLoader(r\"data\\agentic-ai-system.pdf\")\n",
    "pages = loader.load()\n",
    "pages[111]"
   ]
  },
  {
   "cell_type": "code",
   "execution_count": 3,
   "id": "51d2d32f",
   "metadata": {
    "id": "51d2d32f",
    "outputId": "8116a571-b9b9-4a19-e627-406a492baea1"
   },
   "outputs": [
    {
     "data": {
      "text/plain": [
       "288"
      ]
     },
     "execution_count": 3,
     "metadata": {},
     "output_type": "execute_result"
    }
   ],
   "source": [
    "len(pages)"
   ]
  },
  {
   "cell_type": "code",
   "execution_count": 4,
   "id": "0693f0c8",
   "metadata": {
    "id": "0693f0c8",
    "outputId": "4b3cb617-34f1-40bf-db76-3d422fa7216a"
   },
   "outputs": [
    {
     "data": {
      "text/plain": [
       "Document(metadata={'producer': 'Adobe PDF Library 17.0; modified using iText® 5.5.13 ©2000-2018 iText Group NV (AGPL-version)', 'creator': 'Adobe InDesign 18.5 (Windows)(Foxit Advanced PDF Editor)', 'creationdate': '2025-04-01T12:11:31+05:30', 'icnappname': 'Foxit Advanced PDF Editor', 'icnappplatform': 'Windows', 'icnappversion': '3.05', 'moddate': 'D:20250424033741', 'trapped': '/False', 'source': 'data\\\\agentic-ai-system.pdf', 'total_pages': 288, 'page': 0, 'page_label': 'i'}, page_content='')"
      ]
     },
     "execution_count": 4,
     "metadata": {},
     "output_type": "execute_result"
    }
   ],
   "source": [
    "pages[0]"
   ]
  },
  {
   "cell_type": "code",
   "execution_count": 5,
   "id": "62bcb4ff",
   "metadata": {
    "id": "62bcb4ff"
   },
   "outputs": [],
   "source": [
    "# Skip the first 12 pages (index 0–11), keep from page 13 onwards\n",
    "filtered_pages = pages[12:]"
   ]
  },
  {
   "cell_type": "code",
   "execution_count": 6,
   "id": "146457dd",
   "metadata": {
    "collapsed": true,
    "id": "146457dd",
    "outputId": "c4969e9b-1fae-41ce-bd7a-ded9cadc6576"
   },
   "outputs": [
    {
     "data": {
      "text/plain": [
       "{'producer': 'Adobe PDF Library 17.0; modified using iText® 5.5.13 ©2000-2018 iText Group NV (AGPL-version)',\n",
       " 'creator': 'Adobe InDesign 18.5 (Windows)(Foxit Advanced PDF Editor)',\n",
       " 'creationdate': '2025-04-01T12:11:31+05:30',\n",
       " 'icnappname': 'Foxit Advanced PDF Editor',\n",
       " 'icnappplatform': 'Windows',\n",
       " 'icnappversion': '3.05',\n",
       " 'moddate': 'D:20250424033741',\n",
       " 'trapped': '/False',\n",
       " 'source': 'data\\\\agentic-ai-system.pdf',\n",
       " 'total_pages': 288,\n",
       " 'page': 1,\n",
       " 'page_label': 'ii'}"
      ]
     },
     "execution_count": 6,
     "metadata": {},
     "output_type": "execute_result"
    }
   ],
   "source": [
    "pages[1].metadata"
   ]
  },
  {
   "cell_type": "code",
   "execution_count": 7,
   "id": "7340d710",
   "metadata": {
    "id": "7340d710",
    "outputId": "530bca67-ceb5-4cab-b1b2-6fb45a11a9fd"
   },
   "outputs": [
    {
     "name": "stdout",
     "output_type": "stream",
     "text": [
      "Building Agentic AI Systems\n",
      "Create intelligent, autonomous AI agents that can reason, plan, \n",
      "and adapt\n",
      "Anjanava Biswas\n",
      "Wrick Talukdar\n"
     ]
    }
   ],
   "source": [
    "print(pages[1].page_content)"
   ]
  },
  {
   "cell_type": "code",
   "execution_count": 8,
   "id": "c03890c4",
   "metadata": {
    "id": "c03890c4",
    "outputId": "c1f5b6fc-13b5-4792-a52b-f4fe20259a79"
   },
   "outputs": [
    {
     "data": {
      "text/plain": [
       "Document(metadata={'producer': 'Adobe PDF Library 17.0; modified using iText® 5.5.13 ©2000-2018 iText Group NV (AGPL-version)', 'creator': 'Adobe InDesign 18.5 (Windows)(Foxit Advanced PDF Editor)', 'creationdate': '2025-04-01T12:11:31+05:30', 'icnappname': 'Foxit Advanced PDF Editor', 'icnappplatform': 'Windows', 'icnappversion': '3.05', 'moddate': 'D:20250424033741', 'trapped': '/False', 'source': 'data\\\\agentic-ai-system.pdf', 'total_pages': 288, 'page': 12, 'page_label': 'xiii'}, page_content='')"
      ]
     },
     "execution_count": 8,
     "metadata": {},
     "output_type": "execute_result"
    }
   ],
   "source": [
    "filtered_pages[0]"
   ]
  },
  {
   "cell_type": "code",
   "execution_count": 9,
   "id": "224c18b5",
   "metadata": {
    "id": "224c18b5",
    "outputId": "830f998b-9d29-49b2-e8e1-ffcee54e0df3"
   },
   "outputs": [
    {
     "data": {
      "text/plain": [
       "Document(metadata={'producer': 'Adobe PDF Library 17.0; modified using iText® 5.5.13 ©2000-2018 iText Group NV (AGPL-version)', 'creator': 'Adobe InDesign 18.5 (Windows)(Foxit Advanced PDF Editor)', 'creationdate': '2025-04-01T12:11:31+05:30', 'icnappname': 'Foxit Advanced PDF Editor', 'icnappplatform': 'Windows', 'icnappversion': '3.05', 'moddate': 'D:20250424033741', 'trapped': '/False', 'source': 'data\\\\agentic-ai-system.pdf', 'total_pages': 288, 'page': 13, 'page_label': 'xiv'}, page_content='Preface xix\\nPart 1: Foundations of Generative AI and  \\nAgentic Systems\\n1\\nFundamentals of Generative AI 3\\nIntroduction to generative AI 3\\nTypes of generative AI models 4\\nV AEs 5\\nGANs 6\\nAutoregressive models and Transformer \\narchitecture 7\\nLLM-powered AI agents 10\\nApplications of generative AI 16\\nChallenges and limitations of \\ngenerative AI 20\\nQuality of data and bias 21\\nData privacy 21\\nComputational resources 22\\nEthical and social implications 23\\nGeneralization and creativity 23\\nSummary 23\\nQuestions 24\\nAnswers 24\\nFurther reading 24\\nReferences 24\\n2\\nPrinciples of Agentic Systems 27\\nTechnical requirements 28\\nUnderstanding self-governance, \\nagency, and autonomy 28\\nSelf-governance 29\\nAgency 29\\nAutonomy 30\\nExample of agency and autonomy in agents 32\\nReviewing intelligent agents and')"
      ]
     },
     "execution_count": 9,
     "metadata": {},
     "output_type": "execute_result"
    }
   ],
   "source": [
    "text_splitter = RecursiveCharacterTextSplitter(chunk_size=800, chunk_overlap=100, separators=['\\n\\n', '\\n', ' ', ''])\n",
    "\n",
    "semantic_chunks  = text_splitter.split_documents(filtered_pages)\n",
    "\n",
    "semantic_chunks[0]"
   ]
  },
  {
   "cell_type": "code",
   "execution_count": 10,
   "id": "3b040b8d",
   "metadata": {
    "id": "3b040b8d",
    "outputId": "cc5d213d-f12d-409d-ba6d-405ae20d153d"
   },
   "outputs": [
    {
     "data": {
      "text/plain": [
       "945"
      ]
     },
     "execution_count": 10,
     "metadata": {},
     "output_type": "execute_result"
    }
   ],
   "source": [
    "len(semantic_chunks)"
   ]
  },
  {
   "cell_type": "code",
   "execution_count": 11,
   "id": "c02f4c45",
   "metadata": {
    "id": "c02f4c45",
    "outputId": "5722ec35-796e-4ae3-b068-c2563175705a"
   },
   "outputs": [
    {
     "name": "stdout",
     "output_type": "stream",
     "text": [
      "Chunk 1:\n",
      "\n",
      "Preface xix\n",
      "Part 1: Foundations of Generative AI and  \n",
      "Agentic Systems\n",
      "1\n",
      "Fundamentals of Generative AI 3\n",
      "Introduction to generative AI 3\n",
      "Types of generative AI models 4\n",
      "V AEs 5\n",
      "GANs 6\n",
      "Autoregressive models and Transformer \n",
      "architecture 7\n",
      "LLM-powered AI agents 10\n",
      "Applications of generative AI 16\n",
      "Chal\n",
      "--------------------------------------------------\n",
      "Chunk 2:\n",
      "\n",
      "Agency 29\n",
      "Autonomy 30\n",
      "Example of agency and autonomy in agents 32\n",
      "Reviewing intelligent agents and \n",
      "their characteristics 35\n",
      "Table of Contents\n",
      "--------------------------------------------------\n"
     ]
    }
   ],
   "source": [
    "for i, chunk in enumerate(semantic_chunks[:2]):\n",
    "    print(f\"Chunk {i+1}:\\n\")\n",
    "    print(chunk.page_content[:300])\n",
    "    print(\"-\" * 50)\n"
   ]
  },
  {
   "cell_type": "code",
   "execution_count": 12,
   "id": "9883e4fe",
   "metadata": {
    "id": "9883e4fe",
    "outputId": "10e562de-dcaf-4ae1-fed1-c3c54480455d"
   },
   "outputs": [
    {
     "name": "stderr",
     "output_type": "stream",
     "text": [
      "e:\\Learning\\Agentic_AI_V2\\1-Pydantic\\venv\\Lib\\site-packages\\tqdm\\auto.py:21: TqdmWarning: IProgress not found. Please update jupyter and ipywidgets. See https://ipywidgets.readthedocs.io/en/stable/user_install.html\n",
      "  from .autonotebook import tqdm as notebook_tqdm\n"
     ]
    }
   ],
   "source": [
    "embedding_hf = HuggingFaceEmbeddings(model='all-MiniLM-L6-v2')"
   ]
  },
  {
   "cell_type": "code",
   "execution_count": 13,
   "id": "dcaad442",
   "metadata": {
    "id": "dcaad442",
    "outputId": "c24265b0-0cd0-411c-b7e0-6b44b5247dc0"
   },
   "outputs": [
    {
     "name": "stdout",
     "output_type": "stream",
     "text": [
      "[-0.01841013692319393, -0.05309692770242691, -0.05101615563035011, 0.006131480913609266, 0.02873179316520691]\n"
     ]
    }
   ],
   "source": [
    "text = \"Agentic AI systems require a router to delegate tasks.\"\n",
    "vector = embedding_hf.embed_query(text)\n",
    "print(vector[:5])  # Show first 5 dimensions"
   ]
  },
  {
   "cell_type": "code",
   "execution_count": 14,
   "id": "8cbea67b",
   "metadata": {
    "id": "8cbea67b"
   },
   "outputs": [],
   "source": [
    "# Extract the text content from Document objects\n",
    "texts = [doc.page_content for doc in semantic_chunks]\n",
    "\n",
    "# Pass only the raw text to the embed_documents method\n",
    "data_vector = embedding_hf.embed_documents(texts)\n"
   ]
  },
  {
   "cell_type": "code",
   "execution_count": 15,
   "id": "a85db5a8",
   "metadata": {
    "id": "a85db5a8",
    "outputId": "d12f82fd-f56b-4964-94f3-5418803937e3"
   },
   "outputs": [
    {
     "data": {
      "text/plain": [
       "384"
      ]
     },
     "execution_count": 15,
     "metadata": {},
     "output_type": "execute_result"
    }
   ],
   "source": [
    "len(data_vector[0])"
   ]
  },
  {
   "cell_type": "code",
   "execution_count": 16,
   "id": "3d860b9f",
   "metadata": {
    "id": "3d860b9f"
   },
   "outputs": [],
   "source": [
    "# milvus_client = MilvusClient('milvus_db.db')\n",
    "\n",
    "# from pymilvus import MilvusClient\n",
    "\n",
    "# client = MilvusClient(\"milvus_db.db\")  # This now uses embedded Milvus via milvus_lite\n",
    "\n",
    "# collection_name = \"agentic_chunks\"\n",
    "\n",
    "# client.create_collection(\n",
    "#     collection_name=collection_name,\n",
    "#     dimension=384,\n",
    "#     metric_type=\"COSINE\"\n",
    "# )\n",
    "\n"
   ]
  },
  {
   "cell_type": "markdown",
   "id": "2f09ae52",
   "metadata": {
    "id": "2f09ae52"
   },
   "source": [
    "⚠️ Note: The MilvusClient(\"milvus_db.db\") call requires milvus_lite, which is not publicly available via pip. Although pymilvus and milvus are installed, the embedded Milvus (milvus_lite) module is not included."
   ]
  },
  {
   "cell_type": "code",
   "execution_count": 17,
   "id": "d47b719b",
   "metadata": {
    "id": "d47b719b"
   },
   "outputs": [],
   "source": [
    "# FAISS Flat index creation (default behavior is Flat)\n",
    "faiss_index = FAISS.from_documents(documents=semantic_chunks, embedding=embedding_hf)\n",
    "faiss_index.save_local(r'db\\faiss_agentic_index_flat')"
   ]
  },
  {
   "cell_type": "code",
   "execution_count": 18,
   "id": "77aa34d6",
   "metadata": {
    "id": "77aa34d6"
   },
   "outputs": [],
   "source": [
    "faiss_index = FAISS.load_local(r'db\\faiss_agentic_index_flat', embeddings=embedding_hf, allow_dangerous_deserialization=True)"
   ]
  },
  {
   "cell_type": "code",
   "execution_count": 19,
   "id": "268caf21",
   "metadata": {
    "id": "268caf21"
   },
   "outputs": [],
   "source": [
    "retriever = faiss_index.as_retriever(kwargs={\"k\":10})"
   ]
  },
  {
   "cell_type": "code",
   "execution_count": 20,
   "id": "189982e4",
   "metadata": {
    "id": "189982e4",
    "outputId": "1934ed65-6dee-49b0-c4fb-73b800d86a2a"
   },
   "outputs": [
    {
     "data": {
      "text/plain": [
       "VectorStoreRetriever(tags=['FAISS', 'HuggingFaceEmbeddings'], vectorstore=<langchain_community.vectorstores.faiss.FAISS object at 0x00000205D51C0550>, search_kwargs={})"
      ]
     },
     "execution_count": 20,
     "metadata": {},
     "output_type": "execute_result"
    }
   ],
   "source": [
    "retriever"
   ]
  },
  {
   "cell_type": "code",
   "execution_count": 21,
   "id": "e05f0cec",
   "metadata": {
    "id": "e05f0cec",
    "outputId": "329722df-17b7-421f-f433-bd8d5919d384"
   },
   "outputs": [
    {
     "data": {
      "text/plain": [
       "[Document(id='b4c34659-b245-4f7e-ba72-1bf67e5bdbe7', metadata={'producer': 'Adobe PDF Library 17.0; modified using iText® 5.5.13 ©2000-2018 iText Group NV (AGPL-version)', 'creator': 'Adobe InDesign 18.5 (Windows)(Foxit Advanced PDF Editor)', 'creationdate': '2025-04-01T12:11:31+05:30', 'icnappname': 'Foxit Advanced PDF Editor', 'icnappplatform': 'Windows', 'icnappversion': '3.05', 'moddate': 'D:20250424033741', 'trapped': '/False', 'source': 'data\\\\agentic-ai-system.pdf', 'total_pages': 288, 'page': 268, 'page_label': '244'}, page_content='Overcoming these hurdles requires breakthroughs in areas such as causal reasoning, self-supervised \\nlearning, and embodied AI – moving beyond pattern recognition to develop truly adaptive, self-\\nimproving systems. While current AI models excel at narrow tasks, true AGI remains a distant goal, \\nrequiring a fundamental shift in how machines learn, reason, and interact with the world.\\nWhen we combine AGI with autonomous agents, we create something truly revolutionary – systems \\nthat can think deeply while acting independently in the world. These combined systems would make \\ncomplex decisions on their own, understanding not just the technical aspects but also the social and \\nethical implications of their choices. They would learn continuously from every interaction, whether'),\n",
       " Document(id='04079a80-31cc-4a0e-bf13-6eadf5ffbe95', metadata={'producer': 'Adobe PDF Library 17.0; modified using iText® 5.5.13 ©2000-2018 iText Group NV (AGPL-version)', 'creator': 'Adobe InDesign 18.5 (Windows)(Foxit Advanced PDF Editor)', 'creationdate': '2025-04-01T12:11:31+05:30', 'icnappname': 'Foxit Advanced PDF Editor', 'icnappplatform': 'Windows', 'icnappversion': '3.05', 'moddate': 'D:20250424033741', 'trapped': '/False', 'source': 'data\\\\agentic-ai-system.pdf', 'total_pages': 288, 'page': 263, 'page_label': '239'}, page_content='11\\nConclusion and Future Outlook\\nThis final chapter brings together everything we’ve learned in this book about AI-powered systems \\nthat can act on their own (agentic systems). We will start by going over the main ideas we’ve covered, \\nmaking sure you have a solid understanding of how these systems work. We will then look at what’s \\nnew and exciting in this field, exploring fresh ideas and research that could change how we think \\nabout and use these technologies.\\nWe will also talk about artificial general intelligence (AGI) – the idea of creating AI that can think \\nand learn like humans across many different tasks. While AGI remains a concept with no practical \\nimplementation yet, current AI systems are narrow AI, meaning they excel at specific tasks but lack'),\n",
       " Document(id='66ae0072-7304-4ff0-b115-47d2d203ccf4', metadata={'producer': 'Adobe PDF Library 17.0; modified using iText® 5.5.13 ©2000-2018 iText Group NV (AGPL-version)', 'creator': 'Adobe InDesign 18.5 (Windows)(Foxit Advanced PDF Editor)', 'creationdate': '2025-04-01T12:11:31+05:30', 'icnappname': 'Foxit Advanced PDF Editor', 'icnappplatform': 'Windows', 'icnappversion': '3.05', 'moddate': 'D:20250424033741', 'trapped': '/False', 'source': 'data\\\\agentic-ai-system.pdf', 'total_pages': 288, 'page': 19, 'page_label': 'xx'}, page_content='researcher, engineer, or technology leader, this book will equip you with the skills and knowledge to \\nbuild autonomous, adaptive, and intelligent AI agents that can reason, collaborate, and evolve.\\nLet’s embark on this journey together, shaping the future of intelligent systems—one agent at a time.'),\n",
       " Document(id='4ea265c0-d51d-47c4-aefc-95f4bfb99df6', metadata={'producer': 'Adobe PDF Library 17.0; modified using iText® 5.5.13 ©2000-2018 iText Group NV (AGPL-version)', 'creator': 'Adobe InDesign 18.5 (Windows)(Foxit Advanced PDF Editor)', 'creationdate': '2025-04-01T12:11:31+05:30', 'icnappname': 'Foxit Advanced PDF Editor', 'icnappplatform': 'Windows', 'icnappversion': '3.05', 'moddate': 'D:20250424033741', 'trapped': '/False', 'source': 'data\\\\agentic-ai-system.pdf', 'total_pages': 288, 'page': 270, 'page_label': '246'}, page_content='and keeping them secure. But the opportunities are incredible – imagine AI assistants that truly \\nunderstand us, educational tools that adapt perfectly to how each person learns, and systems that can \\nhelp us tackle global challenges such as climate change and disease.\\nThe idea of AGI – AI that can think and learn as humans do – might seem like a distant dream. But \\nthe work we’re doing today in building these autonomous systems that can reason, learn, and adapt \\nis laying the groundwork for that future. Each breakthrough in how AI agents learn from experience, \\nwork together, and understand the world brings us closer to that goal.\\nBut perhaps most importantly, we learned that creating these systems isn’t just a technical challenge')]"
      ]
     },
     "execution_count": 21,
     "metadata": {},
     "output_type": "execute_result"
    }
   ],
   "source": [
    "retriever.invoke(\"ai?\")"
   ]
  },
  {
   "cell_type": "code",
   "execution_count": 22,
   "id": "313aaea8",
   "metadata": {
    "id": "313aaea8"
   },
   "outputs": [],
   "source": [
    "model = ChatGroq(model='gemma2-9b-it')"
   ]
  },
  {
   "cell_type": "code",
   "execution_count": 23,
   "id": "6c2cd8c4",
   "metadata": {
    "id": "6c2cd8c4",
    "outputId": "d1914bdf-1b74-4e83-934d-eb23dc5cc85d"
   },
   "outputs": [
    {
     "name": "stdout",
     "output_type": "stream",
     "text": [
      "• Reviewing intelligent agents and their characteristics\n",
      "• Exploring the architecture of agentic systems\n",
      "• Understanding multi-agent systems\n",
      "By the end of this chapter, you will have an overview of the basics of intelligent agents and the most \n",
      "critical aspects of agentic system architecture that must be considered while building an intelligent \n",
      "agentic system.\n"
     ]
    }
   ],
   "source": [
    "query = \"Explain the router in Agentic AI.\"\n",
    "results = faiss_index.similarity_search(query, k=3)\n",
    "print(results[0].page_content)\n"
   ]
  },
  {
   "cell_type": "code",
   "execution_count": 24,
   "id": "db724e78",
   "metadata": {
    "id": "db724e78",
    "outputId": "088a1fb8-3cf1-45c6-b0fa-c3a7658a7d5b"
   },
   "outputs": [],
   "source": [
    "prompt = hub.pull('rlm/rag-prompt')\n",
    "\n",
    "def format_docs(docs):\n",
    "    return \"\\n\\n\".join(doc.page_content for doc in docs)\n",
    "\n",
    "rag_chain = (\n",
    "    {\"context\": retriever | format_docs, 'question': RunnablePassthrough()}\n",
    "    | prompt\n",
    "    | model\n",
    "    | StrOutputParser()\n",
    ")"
   ]
  },
  {
   "cell_type": "code",
   "execution_count": 25,
   "id": "36e735cb",
   "metadata": {
    "id": "36e735cb"
   },
   "outputs": [],
   "source": [
    "result = rag_chain.invoke(\"what is ai?\")"
   ]
  },
  {
   "cell_type": "markdown",
   "id": "a53d92f4",
   "metadata": {
    "id": "a53d92f4"
   },
   "source": [
    "### Flat + Huggingface + FAISS + Groq"
   ]
  },
  {
   "cell_type": "code",
   "execution_count": 26,
   "id": "9c24e70c",
   "metadata": {
    "id": "9c24e70c",
    "outputId": "2fb6d33e-9346-4a7e-f458-e09fd920c2bb"
   },
   "outputs": [
    {
     "name": "stdout",
     "output_type": "stream",
     "text": [
      "AI, or artificial intelligence, refers to computer systems designed to perform tasks that typically require human intelligence, such as learning, problem-solving, and decision-making.  These systems learn from data and can adapt to new information, enabling them to perform complex tasks and improve over time. \n",
      "AI is rapidly advancing and is being applied in various fields, including healthcare, finance, and entertainment. \n",
      "\n",
      "\n",
      "\n"
     ]
    }
   ],
   "source": [
    "import os\n",
    "from dotenv import load_dotenv\n",
    "load_dotenv()\n",
    "\n",
    "import warnings\n",
    "warnings.filterwarnings('ignore')\n",
    "\n",
    "# --- LangChain + Integrations ---\n",
    "from langchain.document_loaders import PyPDFLoader\n",
    "from langchain.text_splitter import RecursiveCharacterTextSplitter\n",
    "from langchain_huggingface import HuggingFaceEmbeddings\n",
    "from langchain.vectorstores import FAISS\n",
    "from langchain_groq import ChatGroq\n",
    "from langchain import hub\n",
    "from langchain_core.output_parsers import StrOutputParser\n",
    "from langchain_core.runnables import RunnablePassthrough\n",
    "\n",
    "# --- Set API Key ---\n",
    "os.environ['GROQ_API_KEY'] = os.getenv('GROQ_API_KEY')\n",
    "\n",
    "# --- Load PDF & Skip Front Matter ---\n",
    "loader = PyPDFLoader(\"data/agentic-ai-system.pdf\")\n",
    "pages = loader.load()[12:]  # Skip first 12 pages\n",
    "\n",
    "# --- Semantic Chunking ---\n",
    "text_splitter = RecursiveCharacterTextSplitter(\n",
    "    chunk_size=800,\n",
    "    chunk_overlap=100,\n",
    "    separators=[\"\\n\\n\", \"\\n\", \" \", \"\"]\n",
    ")\n",
    "semantic_chunks = text_splitter.split_documents(pages)\n",
    "\n",
    "# --- Embedding & FAISS Index ---\n",
    "embedding_hf = HuggingFaceEmbeddings(model=\"all-MiniLM-L6-v2\")\n",
    "faiss_index = FAISS.from_documents(semantic_chunks, embedding=embedding_hf)\n",
    "faiss_index.save_local(\"db/faiss_agentic_index_flat\")\n",
    "\n",
    "# --- Load Index & Set Up Retriever ---\n",
    "faiss_index = FAISS.load_local(\"db/faiss_agentic_index_flat\", embeddings=embedding_hf, allow_dangerous_deserialization=True)\n",
    "retriever = faiss_index.as_retriever(search_kwargs={\"k\": 10})\n",
    "\n",
    "# --- Load Prompt Template & Model ---\n",
    "prompt = hub.pull(\"rlm/rag-prompt\")\n",
    "model = ChatGroq(model=\"gemma2-9b-it\")\n",
    "\n",
    "# --- Define RAG Chain ---\n",
    "def format_docs(docs):\n",
    "    return \"\\n\\n\".join(doc.page_content for doc in docs)\n",
    "\n",
    "rag_chain = (\n",
    "    {\"context\": retriever | format_docs, \"question\": RunnablePassthrough()}\n",
    "    | prompt\n",
    "    | model\n",
    "    | StrOutputParser()\n",
    ")\n",
    "\n",
    "# --- Query Example ---\n",
    "result = rag_chain.invoke(\"What is AI?\")\n",
    "print(result)\n"
   ]
  },
  {
   "cell_type": "markdown",
   "id": "3d883f28",
   "metadata": {
    "id": "3d883f28"
   },
   "source": [
    "### HNSW + Huggingface + FAISS + Groq"
   ]
  },
  {
   "cell_type": "code",
   "execution_count": 27,
   "id": "e45ad9b5",
   "metadata": {
    "id": "e45ad9b5"
   },
   "outputs": [],
   "source": [
    "import os\n",
    "from dotenv import load_dotenv\n",
    "load_dotenv()\n",
    "\n",
    "import warnings\n",
    "warnings.filterwarnings('ignore')\n",
    "\n",
    "from langchain.document_loaders import PyPDFLoader\n",
    "from langchain.text_splitter import RecursiveCharacterTextSplitter\n",
    "from langchain.embeddings import HuggingFaceEmbeddings\n",
    "from langchain_groq import ChatGroq\n",
    "from sklearn.metrics.pairwise import cosine_similarity\n",
    "from langchain import hub\n",
    "from langchain_core.runnables import RunnablePassthrough\n"
   ]
  },
  {
   "cell_type": "code",
   "execution_count": 28,
   "id": "ae0efc22",
   "metadata": {
    "id": "ae0efc22"
   },
   "outputs": [],
   "source": [
    "loader = PyPDFLoader(\"data/agentic-ai-system.pdf\")\n",
    "pages = loader.load()\n",
    "\n",
    "pages = pages[12:]"
   ]
  },
  {
   "cell_type": "code",
   "execution_count": 29,
   "id": "a5ace163",
   "metadata": {
    "id": "a5ace163"
   },
   "outputs": [],
   "source": [
    "text_splitter = RecursiveCharacterTextSplitter(chunk_size=1000, chunk_overlap=100)\n",
    "\n",
    "text_splited = text_splitter.split_documents(pages)"
   ]
  },
  {
   "cell_type": "code",
   "execution_count": 30,
   "id": "ec399ec1",
   "metadata": {
    "id": "ec399ec1",
    "outputId": "8f65ed73-5eaa-4afc-b6b3-183c1f40c1cf"
   },
   "outputs": [
    {
     "data": {
      "text/plain": [
       "'Table of Contents xiv\\nExploring the architecture  \\nof agentic systems 36\\nDeliberative architectures 36\\nReactive architectures 38\\nHybrid architectures 39\\nUnderstanding multi-agent systems 40\\nDefinition and characteristics of MASs 42\\nInteraction mechanisms in MASs 43\\nSummary 48\\nQuestions 49\\nAnswers 49\\n3\\nEssential Components of Intelligent Agents 51\\nTechnical requirements 51\\nKnowledge representation in \\nintelligent agents 52\\nSemantic networks 52\\nFrames 54\\nLogic-based representations 55\\nReasoning in intelligent agents 56\\nDeductive reasoning 57\\nInductive reasoning 58\\nAbductive reasoning 59\\nLearning mechanisms for  \\nadaptive agents 61\\nDecision-making and planning in \\nagentic systems 62\\nUtility function 63\\nPlanning algorithms 65\\nEnhancing agent capabilities with \\ngenerative AI 68\\nStart building agentic AI 69\\nSummary 72\\nQuestions 72\\nAnswers 72\\nPart 2: Designing and Implementing Generative \\nAI-Based Agents\\n4\\nReflection and Introspection  \\nin Agents 77\\nTechnical requirements 78'"
      ]
     },
     "execution_count": 30,
     "metadata": {},
     "output_type": "execute_result"
    }
   ],
   "source": [
    "text_splited[1].page_content"
   ]
  },
  {
   "cell_type": "code",
   "execution_count": 31,
   "id": "8c529d69",
   "metadata": {
    "id": "8c529d69",
    "outputId": "4a2d235b-be22-419a-cfd5-22035e76461a"
   },
   "outputs": [
    {
     "data": {
      "text/plain": [
       "{'producer': 'Adobe PDF Library 17.0; modified using iText® 5.5.13 ©2000-2018 iText Group NV (AGPL-version)',\n",
       " 'creator': 'Adobe InDesign 18.5 (Windows)(Foxit Advanced PDF Editor)',\n",
       " 'creationdate': '2025-04-01T12:11:31+05:30',\n",
       " 'icnappname': 'Foxit Advanced PDF Editor',\n",
       " 'icnappplatform': 'Windows',\n",
       " 'icnappversion': '3.05',\n",
       " 'moddate': 'D:20250424033741',\n",
       " 'trapped': '/False',\n",
       " 'source': 'data/agentic-ai-system.pdf',\n",
       " 'total_pages': 288,\n",
       " 'page': 57,\n",
       " 'page_label': '33'}"
      ]
     },
     "execution_count": 31,
     "metadata": {},
     "output_type": "execute_result"
    }
   ],
   "source": [
    "text_splited[110].metadata"
   ]
  },
  {
   "cell_type": "code",
   "execution_count": 32,
   "id": "da1449d1",
   "metadata": {
    "id": "da1449d1"
   },
   "outputs": [],
   "source": [
    "embedding_hf = HuggingFaceEmbeddings(model_name=\"all-MiniLM-L6-v2\")"
   ]
  },
  {
   "cell_type": "code",
   "execution_count": 33,
   "id": "6d437a0c",
   "metadata": {
    "id": "6d437a0c",
    "outputId": "b7524bcb-e841-4d4c-c205-397bdfd2130d"
   },
   "outputs": [
    {
     "data": {
      "text/plain": [
       "[-0.05215435102581978,\n",
       " -0.028457490727305412,\n",
       " -0.06018109247088432,\n",
       " 0.0734371691942215,\n",
       " -0.10013759136199951,\n",
       " -0.03263907507061958,\n",
       " 0.14939884841442108,\n",
       " 0.006166362669318914,\n",
       " 0.0018060653237625957,\n",
       " -0.021175390109419823,\n",
       " -0.0205252505838871,\n",
       " -0.14886103570461273,\n",
       " 0.06308189034461975,\n",
       " -0.01124359481036663,\n",
       " 0.02466544695198536,\n",
       " 0.09470432251691818,\n",
       " 0.012575981207191944,\n",
       " -0.054297663271427155,\n",
       " -0.08138665556907654,\n",
       " -0.08164478838443756,\n",
       " -0.04732225462794304,\n",
       " 0.11897630244493484,\n",
       " -0.011571512557566166,\n",
       " -0.015285871922969818,\n",
       " -0.05452505499124527,\n",
       " -0.0017737828893586993,\n",
       " 0.014821115881204605,\n",
       " 0.035811059176921844,\n",
       " -0.024308891966938972,\n",
       " 0.02245725318789482,\n",
       " -0.03316447138786316,\n",
       " -0.014292985200881958,\n",
       " 0.02366502210497856,\n",
       " 0.03701024129986763,\n",
       " -0.008929131552577019,\n",
       " 0.03026132471859455,\n",
       " -0.11209756880998611,\n",
       " 0.05432495102286339,\n",
       " 0.013018644414842129,\n",
       " 0.00465072738006711,\n",
       " -0.05469384789466858,\n",
       " -0.05322590470314026,\n",
       " -0.0038592780474573374,\n",
       " -0.03174032270908356,\n",
       " 0.009313097223639488,\n",
       " 0.020407382398843765,\n",
       " 0.015869472175836563,\n",
       " 0.021444182842969894,\n",
       " -0.011419984512031078,\n",
       " 0.06851419061422348,\n",
       " -0.04069285839796066,\n",
       " -0.04898589849472046,\n",
       " -0.00048088395851664245,\n",
       " 0.054925743490457535,\n",
       " 0.06617949903011322,\n",
       " -0.06725197285413742,\n",
       " -0.005965211894363165,\n",
       " 0.09210540354251862,\n",
       " 0.028175802901387215,\n",
       " 0.06452883034944534,\n",
       " -0.029974056407809258,\n",
       " 0.03459615260362625,\n",
       " -0.08558019250631332,\n",
       " -0.033991750329732895,\n",
       " -0.02120862528681755,\n",
       " -0.016628306359052658,\n",
       " 0.028746312484145164,\n",
       " -0.01356243621557951,\n",
       " -0.005746399983763695,\n",
       " -0.011126959696412086,\n",
       " -0.016897868365049362,\n",
       " -0.011137365363538265,\n",
       " 0.04777558520436287,\n",
       " 0.025856181979179382,\n",
       " 0.0009606487583369017,\n",
       " -0.021530648693442345,\n",
       " 0.043600894510746,\n",
       " 0.005646907724440098,\n",
       " -0.009663529694080353,\n",
       " 0.05188354477286339,\n",
       " -0.009079493582248688,\n",
       " -0.0574939027428627,\n",
       " -0.03888193145394325,\n",
       " 0.034778621047735214,\n",
       " -0.06299932301044464,\n",
       " -0.011494689621031284,\n",
       " 0.0007755898986943066,\n",
       " -0.0460490845143795,\n",
       " -0.10314947366714478,\n",
       " -0.10861579328775406,\n",
       " 0.04456225782632828,\n",
       " -0.0510728619992733,\n",
       " -0.03539000079035759,\n",
       " 0.005568032618612051,\n",
       " -0.015942685306072235,\n",
       " -0.06148570775985718,\n",
       " -0.013933067210018635,\n",
       " -0.0056280833669006824,\n",
       " -0.05148469656705856,\n",
       " 0.10833097994327545,\n",
       " -0.10813677310943604,\n",
       " 0.008363998495042324,\n",
       " 0.04338545352220535,\n",
       " 0.08629973977804184,\n",
       " 0.013524557463824749,\n",
       " 0.040630750358104706,\n",
       " -0.05586763098835945,\n",
       " 0.05577866733074188,\n",
       " 0.09067399799823761,\n",
       " -0.0672503113746643,\n",
       " 0.036667075008153915,\n",
       " 0.03705466538667679,\n",
       " -0.024647194892168045,\n",
       " 0.11010412871837616,\n",
       " 0.06439539790153503,\n",
       " 0.05515359342098236,\n",
       " 0.02908516675233841,\n",
       " -0.008433576673269272,\n",
       " -0.09383464604616165,\n",
       " -0.04476694390177727,\n",
       " 0.044198837131261826,\n",
       " 0.031318455934524536,\n",
       " -0.025881187990307808,\n",
       " 0.010279811918735504,\n",
       " -0.08300872892141342,\n",
       " -0.06043773144483566,\n",
       " 0.004172174260020256,\n",
       " 3.5143785601013883e-35,\n",
       " -0.003743507666513324,\n",
       " 0.047842953354120255,\n",
       " 0.021204404532909393,\n",
       " 0.027622655034065247,\n",
       " -0.0022472559940069914,\n",
       " -0.005621545948088169,\n",
       " -0.018392691388726234,\n",
       " 0.010913284495472908,\n",
       " 0.0018608946120366454,\n",
       " -0.026547430083155632,\n",
       " 0.08475036919116974,\n",
       " -0.0007613447960466146,\n",
       " -0.028299499303102493,\n",
       " 0.011883193626999855,\n",
       " -0.01356157474219799,\n",
       " 0.02846449241042137,\n",
       " -0.04262948036193848,\n",
       " 0.04512850195169449,\n",
       " 0.009682985953986645,\n",
       " 0.0778319463133812,\n",
       " -0.06239879131317139,\n",
       " 0.01606754958629608,\n",
       " 0.00587272085249424,\n",
       " -0.05118151754140854,\n",
       " -0.0501650795340538,\n",
       " -0.031084900721907616,\n",
       " 0.09751179069280624,\n",
       " -0.03610590472817421,\n",
       " 0.02024712599813938,\n",
       " 0.018400585278868675,\n",
       " 0.11624076962471008,\n",
       " 0.02572735957801342,\n",
       " -0.05915975570678711,\n",
       " -0.0503864511847496,\n",
       " -0.019527316093444824,\n",
       " -0.06428176164627075,\n",
       " -0.0023613902740180492,\n",
       " -0.09642971307039261,\n",
       " -0.028403058648109436,\n",
       " 0.02250947430729866,\n",
       " 0.04156576842069626,\n",
       " -0.008823256939649582,\n",
       " -0.11283116042613983,\n",
       " 0.03698498755693436,\n",
       " 0.028882911428809166,\n",
       " 0.00585981784388423,\n",
       " 0.01675611548125744,\n",
       " -0.04187208041548729,\n",
       " -0.048614252358675,\n",
       " -0.00455280439928174,\n",
       " -0.10438557714223862,\n",
       " 0.004624448250979185,\n",
       " -0.04592054337263107,\n",
       " 0.0010636578081175685,\n",
       " -0.06016375496983528,\n",
       " -0.017780425027012825,\n",
       " 0.08777881413698196,\n",
       " -0.016300052404403687,\n",
       " -0.019840586930513382,\n",
       " 0.031135261058807373,\n",
       " -0.011991562321782112,\n",
       " -0.031137634068727493,\n",
       " -0.07773242890834808,\n",
       " 0.0056161945685744286,\n",
       " -0.02921588160097599,\n",
       " -0.0959983766078949,\n",
       " 0.08334232866764069,\n",
       " 0.004017869476228952,\n",
       " 0.010075119324028492,\n",
       " -0.10716957598924637,\n",
       " 0.022402342408895493,\n",
       " -0.0632290467619896,\n",
       " 0.02977735549211502,\n",
       " 0.0015511172823607922,\n",
       " -0.028391100466251373,\n",
       " -0.061778657138347626,\n",
       " 0.014080045744776726,\n",
       " 0.06372886151075363,\n",
       " -0.06456675380468369,\n",
       " 0.028097080066800117,\n",
       " 0.017048513516783714,\n",
       " 0.07609111070632935,\n",
       " 0.0125405453145504,\n",
       " -0.03743566945195198,\n",
       " 0.0052835699170827866,\n",
       " -0.014577336609363556,\n",
       " 0.009796098805963993,\n",
       " -0.10259430855512619,\n",
       " -0.02479369379580021,\n",
       " -0.09006913751363754,\n",
       " -0.1112198457121849,\n",
       " -0.013327160850167274,\n",
       " 0.05303799360990524,\n",
       " -0.026892486959695816,\n",
       " -0.06496281921863556,\n",
       " -8.224241533062514e-34,\n",
       " 0.01616206020116806,\n",
       " -0.00901742186397314,\n",
       " -0.007703991606831551,\n",
       " 0.014917070977389812,\n",
       " 0.04276810586452484,\n",
       " -0.026246938854455948,\n",
       " 0.13758805394172668,\n",
       " 0.1011955663561821,\n",
       " -0.015115294605493546,\n",
       " 0.05327264219522476,\n",
       " 0.04601695388555527,\n",
       " 0.052195191383361816,\n",
       " -0.01675812527537346,\n",
       " 0.04634537920355797,\n",
       " 0.11870116740465164,\n",
       " -0.0005198116414248943,\n",
       " 0.10688583552837372,\n",
       " 0.041004154831171036,\n",
       " -0.06254037469625473,\n",
       " 0.03376414254307747,\n",
       " -0.050541557371616364,\n",
       " 0.06141812726855278,\n",
       " -0.08600708097219467,\n",
       " 0.07839519530534744,\n",
       " 0.03379683941602707,\n",
       " 0.012258547358214855,\n",
       " 0.019370652735233307,\n",
       " -0.018860384821891785,\n",
       " 0.012178552336990833,\n",
       " 0.04679621011018753,\n",
       " -0.03892626240849495,\n",
       " 0.01638546586036682,\n",
       " -0.11866261065006256,\n",
       " 0.003939427901059389,\n",
       " -0.022049294784665108,\n",
       " -0.041749075055122375,\n",
       " 0.009121302515268326,\n",
       " -0.03178849071264267,\n",
       " -0.05562017485499382,\n",
       " 0.01896369643509388,\n",
       " -0.05055902153253555,\n",
       " 0.1128394827246666,\n",
       " -0.059930723160505295,\n",
       " 0.007607507985085249,\n",
       " -0.02397536300122738,\n",
       " -0.019511941820383072,\n",
       " -0.04750920087099075,\n",
       " 0.05192076787352562,\n",
       " 0.01261674053966999,\n",
       " 0.05226091295480728,\n",
       " 0.005526955705136061,\n",
       " 0.00766512518748641,\n",
       " -0.0014902851544320583,\n",
       " -0.07185538113117218,\n",
       " 0.030926750972867012,\n",
       " -0.03548271581530571,\n",
       " 0.05710172653198242,\n",
       " 0.011778363026678562,\n",
       " -0.023355673998594284,\n",
       " 0.04940933734178543,\n",
       " -0.05832463130354881,\n",
       " 0.005748629570007324,\n",
       " 0.07504238188266754,\n",
       " 0.09311644732952118,\n",
       " 0.027820751070976257,\n",
       " 0.01605561189353466,\n",
       " -0.020850464701652527,\n",
       " -0.05706017091870308,\n",
       " -0.0032730060629546642,\n",
       " -0.12559369206428528,\n",
       " -0.014073111116886139,\n",
       " -0.008026838302612305,\n",
       " -0.08145438879728317,\n",
       " 0.031141644343733788,\n",
       " -0.08379815518856049,\n",
       " -0.06413120776414871,\n",
       " 0.055493514984846115,\n",
       " 0.0054688421078026295,\n",
       " -0.04514801502227783,\n",
       " 0.02643374539911747,\n",
       " 0.05885884538292885,\n",
       " 0.04302232339978218,\n",
       " 0.062007371336221695,\n",
       " 0.035604119300842285,\n",
       " 0.017015861347317696,\n",
       " -0.03481900691986084,\n",
       " 0.07410157471895218,\n",
       " 0.08218670636415482,\n",
       " 0.028691979125142097,\n",
       " -0.07125087082386017,\n",
       " -0.016686949878931046,\n",
       " 0.05691499263048172,\n",
       " 0.06258488446474075,\n",
       " 0.0066993054933846,\n",
       " 0.05725191533565521,\n",
       " -2.1222987811597704e-08,\n",
       " -0.02980058081448078,\n",
       " 0.011917119845747948,\n",
       " 0.06883879005908966,\n",
       " 0.04048030823469162,\n",
       " 0.0354984775185585,\n",
       " -0.0035224677994847298,\n",
       " -0.05606849119067192,\n",
       " -0.024002520367503166,\n",
       " -0.008727369830012321,\n",
       " 0.03868177533149719,\n",
       " -0.005436459090560675,\n",
       " 0.012712294235825539,\n",
       " -0.008890427649021149,\n",
       " 0.03960632160305977,\n",
       " -0.005753676872700453,\n",
       " -0.01685068942606449,\n",
       " -0.0359981507062912,\n",
       " -0.004432562738656998,\n",
       " 0.004471880383789539,\n",
       " 0.008469347842037678,\n",
       " -0.03985530138015747,\n",
       " -0.023238278925418854,\n",
       " 0.012551352381706238,\n",
       " -0.003095353487879038,\n",
       " 0.05269569531083107,\n",
       " 0.02148449793457985,\n",
       " 0.021545419469475746,\n",
       " 0.03784363716840744,\n",
       " 0.04613252729177475,\n",
       " 0.07903585582971573,\n",
       " -0.012728986330330372,\n",
       " 0.10659018903970718,\n",
       " -0.002366870641708374,\n",
       " 0.02846076339483261,\n",
       " -0.04038262367248535,\n",
       " 0.008397003635764122,\n",
       " 0.008676616474986076,\n",
       " 0.05601997300982475,\n",
       " -0.0165631752461195,\n",
       " 0.052022602409124374,\n",
       " 0.001306278514675796,\n",
       " 0.04365253075957298,\n",
       " 0.13940119743347168,\n",
       " 0.03391968458890915,\n",
       " -0.07630950957536697,\n",
       " 0.08729901164770126,\n",
       " -0.04206036031246185,\n",
       " -0.046891409903764725,\n",
       " -0.004841160494834185,\n",
       " -0.017109254375100136,\n",
       " 0.004039504565298557,\n",
       " -0.08132700622081757,\n",
       " 0.1102919951081276,\n",
       " 0.0235670767724514,\n",
       " 0.02806546539068222,\n",
       " 0.040140550583601,\n",
       " -0.02896612510085106,\n",
       " 0.047403763979673386,\n",
       " 0.03854159638285637,\n",
       " -0.003471487434580922,\n",
       " 0.129442036151886,\n",
       " 0.009416680783033371,\n",
       " -0.03988266363739967,\n",
       " -0.09210357815027237]"
      ]
     },
     "execution_count": 33,
     "metadata": {},
     "output_type": "execute_result"
    }
   ],
   "source": [
    "sample_data = ['my name is bhagwat', 'i live in pune', 'i am a ai solution architect']\n",
    "\n",
    "vectors = embedding_hf.embed_documents(sample_data)\n",
    "vectors[0]"
   ]
  },
  {
   "cell_type": "code",
   "execution_count": 34,
   "id": "16e2c1d6",
   "metadata": {
    "id": "16e2c1d6",
    "outputId": "bef656c9-acd1-48c1-8b0e-1f04fec61788"
   },
   "outputs": [
    {
     "data": {
      "text/plain": [
       "3"
      ]
     },
     "execution_count": 34,
     "metadata": {},
     "output_type": "execute_result"
    }
   ],
   "source": [
    "len(vectors)"
   ]
  },
  {
   "cell_type": "code",
   "execution_count": 35,
   "id": "9ead9654",
   "metadata": {
    "id": "9ead9654",
    "outputId": "eccfd51d-6b6b-4969-b156-70728313d9f4"
   },
   "outputs": [
    {
     "data": {
      "text/plain": [
       "384"
      ]
     },
     "execution_count": 35,
     "metadata": {},
     "output_type": "execute_result"
    }
   ],
   "source": [
    "len(vectors[0])"
   ]
  },
  {
   "cell_type": "code",
   "execution_count": 36,
   "id": "ee2aa005",
   "metadata": {
    "id": "ee2aa005",
    "outputId": "9c301a63-bd1b-4489-d40c-76eded6f32d9"
   },
   "outputs": [
    {
     "data": {
      "text/plain": [
       "[-0.12938393652439117,\n",
       " 0.08283582329750061,\n",
       " -0.08256246894598007,\n",
       " -0.004697174299508333,\n",
       " -0.08572892099618912,\n",
       " 0.011185230687260628,\n",
       " 0.15421408414840698,\n",
       " 0.01532006449997425,\n",
       " 0.029017232358455658,\n",
       " 0.012395162135362625,\n",
       " 0.01656029187142849,\n",
       " -0.09195587784051895,\n",
       " -0.019430451095104218,\n",
       " -0.02143518626689911,\n",
       " -0.08794497698545456,\n",
       " 0.034275103360414505,\n",
       " -0.036462604999542236,\n",
       " 0.07902806997299194,\n",
       " 0.03665642440319061,\n",
       " -0.056194473057985306,\n",
       " -0.0677170529961586,\n",
       " -0.03890253230929375,\n",
       " -0.03010411188006401,\n",
       " 0.0007049685809761286,\n",
       " 0.019226975739002228,\n",
       " -0.0175187848508358,\n",
       " -0.030687952414155006,\n",
       " -0.03002936951816082,\n",
       " -0.010599694214761257,\n",
       " -0.03619292378425598,\n",
       " 0.020409926772117615,\n",
       " -0.040945012122392654,\n",
       " 0.06686566770076752,\n",
       " 0.11534159630537033,\n",
       " -0.03739703819155693,\n",
       " -0.007018722593784332,\n",
       " -0.05022764205932617,\n",
       " 0.11874319612979889,\n",
       " -0.017581168562173843,\n",
       " -0.043544184416532516,\n",
       " 0.03803153336048126,\n",
       " -0.04004983976483345,\n",
       " -0.04223741218447685,\n",
       " -0.07027076184749603,\n",
       " -0.048942383378744125,\n",
       " -0.052056483924388885,\n",
       " 0.028766967356204987,\n",
       " -0.011096961796283722,\n",
       " 0.049147829413414,\n",
       " 0.010118681937456131,\n",
       " -0.107666015625,\n",
       " -0.08224231004714966,\n",
       " -0.025346169248223305,\n",
       " 0.037063565105199814,\n",
       " 0.057848960161209106,\n",
       " -0.015448078513145447,\n",
       " 0.0647507831454277,\n",
       " 0.013987691141664982,\n",
       " 0.040709249675273895,\n",
       " 0.028183773159980774,\n",
       " 0.020195946097373962,\n",
       " 0.030006248503923416,\n",
       " -0.07780631631612778,\n",
       " -0.007062219083309174,\n",
       " -0.019962556660175323,\n",
       " 0.016986003145575523,\n",
       " 0.008169954642653465,\n",
       " -0.05406852439045906,\n",
       " 0.03979223966598511,\n",
       " -0.024754509329795837,\n",
       " 0.031906209886074066,\n",
       " 0.015812182798981667,\n",
       " 0.04394780099391937,\n",
       " -0.0531068779528141,\n",
       " -0.016198711469769478,\n",
       " -0.06795269250869751,\n",
       " 0.015584965236485004,\n",
       " 0.03755777329206467,\n",
       " -0.04204576462507248,\n",
       " 0.005034551955759525,\n",
       " 0.007071588188409805,\n",
       " -0.05061947926878929,\n",
       " -0.011276675388216972,\n",
       " -0.05415075272321701,\n",
       " 0.022171948105096817,\n",
       " 0.0947611853480339,\n",
       " -0.021071255207061768,\n",
       " 0.0125679736956954,\n",
       " -0.010773254558444023,\n",
       " -0.05173986777663231,\n",
       " -0.06285791099071503,\n",
       " 0.02709343098104,\n",
       " 0.017814861610531807,\n",
       " -0.02860022895038128,\n",
       " -0.05231018364429474,\n",
       " 0.03621446713805199,\n",
       " -0.01022348552942276,\n",
       " 0.03574465960264206,\n",
       " -0.09963737428188324,\n",
       " 0.1511889100074768,\n",
       " -0.08492688834667206,\n",
       " 0.07068460434675217,\n",
       " 0.009381143376231194,\n",
       " 0.01956985890865326,\n",
       " 0.026033924892544746,\n",
       " 0.0019292200449854136,\n",
       " 0.00015924360195640475,\n",
       " -0.02568426914513111,\n",
       " -0.0017613365780562162,\n",
       " -0.023976879194378853,\n",
       " -0.021180253475904465,\n",
       " -0.0415324829518795,\n",
       " -0.061145614832639694,\n",
       " 0.021813008934259415,\n",
       " 0.03402663767337799,\n",
       " -0.016487233340740204,\n",
       " -0.02236415259540081,\n",
       " -0.01372524444013834,\n",
       " -0.013066057115793228,\n",
       " -0.09774111956357956,\n",
       " 0.079671710729599,\n",
       " -0.022961819544434547,\n",
       " 0.013714552856981754,\n",
       " 0.003991472069174051,\n",
       " -0.06565448641777039,\n",
       " 0.060707204043865204,\n",
       " 0.022546950727701187,\n",
       " -8.214314850611805e-33,\n",
       " -0.03146766498684883,\n",
       " 0.01963275671005249,\n",
       " 0.11369821429252625,\n",
       " 0.07140251994132996,\n",
       " -0.023069139569997787,\n",
       " -0.033671990036964417,\n",
       " -0.04285481944680214,\n",
       " 0.015349281020462513,\n",
       " 0.016223430633544922,\n",
       " 0.005768558941781521,\n",
       " 0.04681482911109924,\n",
       " -0.09614633768796921,\n",
       " -0.00796967651695013,\n",
       " -0.004582603927701712,\n",
       " -0.03475772589445114,\n",
       " 0.04184215888381004,\n",
       " -0.0753159150481224,\n",
       " -0.004838102497160435,\n",
       " -0.08508892357349396,\n",
       " 0.06401369720697403,\n",
       " 0.05434572696685791,\n",
       " 0.09747317433357239,\n",
       " -0.018668362870812416,\n",
       " 0.06856757402420044,\n",
       " 0.006567157339304686,\n",
       " -0.07422015815973282,\n",
       " 0.07040520012378693,\n",
       " 0.017199786379933357,\n",
       " 0.0904598981142044,\n",
       " 0.05993527173995972,\n",
       " 0.007937363348901272,\n",
       " 0.017676616087555885,\n",
       " 0.017489753663539886,\n",
       " -0.03641646355390549,\n",
       " 0.07983222603797913,\n",
       " -0.030526213347911835,\n",
       " 0.01647656038403511,\n",
       " -0.059518735855817795,\n",
       " 0.0034750730264931917,\n",
       " 0.035089392215013504,\n",
       " -0.03561161085963249,\n",
       " 0.023223338648676872,\n",
       " 0.012554746121168137,\n",
       " 0.06412907689809799,\n",
       " -0.10494580864906311,\n",
       " -0.0306855496019125,\n",
       " 0.07602265477180481,\n",
       " -0.0017304011853411794,\n",
       " 0.06835190951824188,\n",
       " 0.015234018675982952,\n",
       " -0.05593699589371681,\n",
       " 0.003136499784886837,\n",
       " -0.11901815980672836,\n",
       " 0.05273261293768883,\n",
       " -0.057878442108631134,\n",
       " -0.0181743036955595,\n",
       " 0.022713106125593185,\n",
       " 0.019153539091348648,\n",
       " -0.001983383670449257,\n",
       " -0.011330563575029373,\n",
       " 0.03888437896966934,\n",
       " 0.03778722137212753,\n",
       " -0.029838841408491135,\n",
       " 0.07674890011548996,\n",
       " 0.02886050008237362,\n",
       " -0.07255904376506805,\n",
       " 0.015615154057741165,\n",
       " -0.08575017005205154,\n",
       " 0.023626836016774178,\n",
       " 0.005884218495339155,\n",
       " -0.02886316180229187,\n",
       " 0.0016417806036770344,\n",
       " 0.05741380527615547,\n",
       " -0.031482309103012085,\n",
       " -0.04819012060761452,\n",
       " 0.013224984519183636,\n",
       " 0.0006658534985035658,\n",
       " -0.015467803925275803,\n",
       " -0.06162503361701965,\n",
       " 0.09156005829572678,\n",
       " -0.04357508197426796,\n",
       " 0.029470747336745262,\n",
       " 0.04302535578608513,\n",
       " -0.050672996789216995,\n",
       " -0.08245165646076202,\n",
       " 0.013862346298992634,\n",
       " -0.07759898155927658,\n",
       " -0.04382740706205368,\n",
       " -0.03350643813610077,\n",
       " -0.025423962622880936,\n",
       " -0.0011875313939526677,\n",
       " 0.0014249269152060151,\n",
       " 0.05447257310152054,\n",
       " 0.02562021277844906,\n",
       " -0.0880613625049591,\n",
       " 3.7038313545433596e-33,\n",
       " -0.01780874654650688,\n",
       " -0.06434590369462967,\n",
       " -0.03233874961733818,\n",
       " 0.004821776412427425,\n",
       " 0.1033061146736145,\n",
       " -0.06386321038007736,\n",
       " 0.006305689923465252,\n",
       " 0.09010284394025803,\n",
       " -0.031244250014424324,\n",
       " 0.02250361256301403,\n",
       " -0.03639444336295128,\n",
       " -0.08489809185266495,\n",
       " 0.09352625161409378,\n",
       " -0.0067337434738874435,\n",
       " 0.10052170604467392,\n",
       " 0.0992356687784195,\n",
       " 0.030204394832253456,\n",
       " 0.007102229166775942,\n",
       " -0.04918821156024933,\n",
       " -0.028431739658117294,\n",
       " -0.030505841597914696,\n",
       " 0.0011264579370617867,\n",
       " -0.09744342416524887,\n",
       " -0.05619390308856964,\n",
       " -0.02591497264802456,\n",
       " -0.03507205471396446,\n",
       " 0.14953193068504333,\n",
       " -0.005667055957019329,\n",
       " -0.09045279771089554,\n",
       " -0.0674668475985527,\n",
       " -0.038116246461868286,\n",
       " 0.049948129802942276,\n",
       " -0.08668682724237442,\n",
       " -0.03012121468782425,\n",
       " -0.06789949536323547,\n",
       " 0.08405211567878723,\n",
       " 0.03178231790661812,\n",
       " 0.053591664880514145,\n",
       " -0.023957356810569763,\n",
       " -0.008598851040005684,\n",
       " 0.08022642880678177,\n",
       " 0.08649866282939911,\n",
       " 0.0016038925386965275,\n",
       " 0.04369579628109932,\n",
       " 0.015870695933699608,\n",
       " -0.03930269181728363,\n",
       " -0.08097699284553528,\n",
       " -0.033105865120887756,\n",
       " 0.025012191385030746,\n",
       " 0.007912403903901577,\n",
       " 9.705569391371682e-05,\n",
       " 0.009683170355856419,\n",
       " -0.025560278445482254,\n",
       " 0.025103876367211342,\n",
       " 0.09832923859357834,\n",
       " 0.03596240654587746,\n",
       " -0.011467848904430866,\n",
       " -0.008057814091444016,\n",
       " 0.04866248369216919,\n",
       " 0.040858760476112366,\n",
       " -0.007086444646120071,\n",
       " 0.009763509035110474,\n",
       " 0.04495377838611603,\n",
       " 0.12025449424982071,\n",
       " 0.03928457573056221,\n",
       " 0.0221993550658226,\n",
       " -0.08715299516916275,\n",
       " -0.007278544828295708,\n",
       " -0.02669134922325611,\n",
       " -0.04909897968173027,\n",
       " 0.12494952231645584,\n",
       " -0.04802669212222099,\n",
       " -0.035045135766267776,\n",
       " -0.018892886117100716,\n",
       " -0.09158658981323242,\n",
       " 0.014570003375411034,\n",
       " -0.0752568244934082,\n",
       " -0.0003801817074418068,\n",
       " -0.01277115847915411,\n",
       " -0.025579454377293587,\n",
       " -0.009223783388733864,\n",
       " 0.007942966185510159,\n",
       " -0.08600081503391266,\n",
       " 0.03705930709838867,\n",
       " -0.003170847427099943,\n",
       " 0.005501240491867065,\n",
       " 0.10282114148139954,\n",
       " 0.05881394073367119,\n",
       " 0.021608887240290642,\n",
       " -0.0006776303634978831,\n",
       " 0.023082289844751358,\n",
       " 0.007971388287842274,\n",
       " 0.01971832662820816,\n",
       " -0.11407043784856796,\n",
       " -0.06756044924259186,\n",
       " -2.2388638498682667e-08,\n",
       " -0.02300604060292244,\n",
       " -0.048113029450178146,\n",
       " -0.03189250826835632,\n",
       " -0.0035424609668552876,\n",
       " 0.04945487156510353,\n",
       " 0.03050142154097557,\n",
       " 0.07682877033948898,\n",
       " -0.044867586344480515,\n",
       " -0.028501499444246292,\n",
       " 0.08508281409740448,\n",
       " 0.033893853425979614,\n",
       " 0.03694784268736839,\n",
       " 0.06604961305856705,\n",
       " -0.0155026251450181,\n",
       " 0.060532573610544205,\n",
       " -0.045338939875364304,\n",
       " 0.0245182104408741,\n",
       " 0.08560732752084732,\n",
       " -0.022655410692095757,\n",
       " 0.01902623102068901,\n",
       " 0.00180388696026057,\n",
       " -0.02689673937857151,\n",
       " 0.027867037802934647,\n",
       " -0.04116157814860344,\n",
       " -0.008482995443046093,\n",
       " 0.028959743678569794,\n",
       " 0.015505751594901085,\n",
       " 0.03567221015691757,\n",
       " -0.07899466902017593,\n",
       " 0.023061813786625862,\n",
       " -0.04725207760930061,\n",
       " 0.0975530669093132,\n",
       " 0.004107997752726078,\n",
       " 0.009306292049586773,\n",
       " 0.027963994070887566,\n",
       " 0.07167451828718185,\n",
       " 0.039451416581869125,\n",
       " 0.021479008719325066,\n",
       " 0.014818076975643635,\n",
       " 0.05678200349211693,\n",
       " -0.026237595826387405,\n",
       " 0.024292131885886192,\n",
       " 0.04874470457434654,\n",
       " 0.05529740825295448,\n",
       " 0.10217814892530441,\n",
       " 0.06909489631652832,\n",
       " 0.04364626109600067,\n",
       " -0.05676800012588501,\n",
       " -0.007184003014117479,\n",
       " 0.01608715020120144,\n",
       " -0.05899331346154213,\n",
       " 0.005400668364018202,\n",
       " 0.04208813235163689,\n",
       " 0.02554362826049328,\n",
       " -0.04765451326966286,\n",
       " -0.02528906799852848,\n",
       " 0.0418272465467453,\n",
       " -0.010128197260200977,\n",
       " -0.011613965965807438,\n",
       " -0.07291662693023682,\n",
       " -0.010813734494149685,\n",
       " -0.03965845704078674,\n",
       " 0.023916902020573616,\n",
       " 0.005661999806761742]"
      ]
     },
     "execution_count": 36,
     "metadata": {},
     "output_type": "execute_result"
    }
   ],
   "source": [
    "query = 'What is the person name?'\n",
    "\n",
    "embed_query = embedding_hf.embed_query(query)\n",
    "embed_query"
   ]
  },
  {
   "cell_type": "code",
   "execution_count": 37,
   "id": "1e2562c4",
   "metadata": {
    "id": "1e2562c4",
    "outputId": "0310a457-4583-488b-a8dc-7f35066e0d5c"
   },
   "outputs": [
    {
     "data": {
      "text/plain": [
       "384"
      ]
     },
     "execution_count": 37,
     "metadata": {},
     "output_type": "execute_result"
    }
   ],
   "source": [
    "len(embed_query)"
   ]
  },
  {
   "cell_type": "code",
   "execution_count": 38,
   "id": "715006c2",
   "metadata": {
    "id": "715006c2",
    "outputId": "cfcc43af-0684-4739-aa6d-a7ffc17ec470"
   },
   "outputs": [
    {
     "data": {
      "text/plain": [
       "array([[0.32219183, 0.11770844, 0.10101418]])"
      ]
     },
     "execution_count": 38,
     "metadata": {},
     "output_type": "execute_result"
    }
   ],
   "source": [
    "cosine_similarity([embed_query], vectors)"
   ]
  },
  {
   "cell_type": "code",
   "execution_count": 39,
   "id": "ee5967bd",
   "metadata": {
    "id": "ee5967bd"
   },
   "outputs": [],
   "source": [
    "faiss_index = FAISS.from_documents(documents=text_splited, embedding=embedding_hf)"
   ]
  },
  {
   "cell_type": "code",
   "execution_count": 40,
   "id": "659f326f",
   "metadata": {
    "id": "659f326f"
   },
   "outputs": [],
   "source": [
    "faiss_index.save_local('db/faiss_agentic_index_hnsw')"
   ]
  },
  {
   "cell_type": "code",
   "execution_count": 41,
   "id": "d5537e85",
   "metadata": {
    "id": "d5537e85"
   },
   "outputs": [],
   "source": [
    "faiss_index = faiss_index.load_local('db/faiss_agentic_index_hnsw', embedding_hf, allow_dangerous_deserialization=True)"
   ]
  },
  {
   "cell_type": "code",
   "execution_count": 42,
   "id": "58166749",
   "metadata": {
    "id": "58166749",
    "outputId": "d7160725-4dc8-4704-8a1c-367acb4cb86f"
   },
   "outputs": [
    {
     "data": {
      "text/plain": [
       "langchain_community.vectorstores.faiss.FAISS"
      ]
     },
     "execution_count": 42,
     "metadata": {},
     "output_type": "execute_result"
    }
   ],
   "source": [
    "type(faiss_index)"
   ]
  },
  {
   "cell_type": "code",
   "execution_count": 43,
   "id": "f0bf787f",
   "metadata": {
    "id": "f0bf787f"
   },
   "outputs": [],
   "source": [
    "retriever_hnsw = faiss_index.as_retriever(kwargs={\"k\":3})"
   ]
  },
  {
   "cell_type": "code",
   "execution_count": 44,
   "id": "1ebba1d4",
   "metadata": {
    "id": "1ebba1d4",
    "outputId": "90d0ae28-a600-4e78-b0bd-cd00030752b7"
   },
   "outputs": [
    {
     "data": {
      "text/plain": [
       "VectorStoreRetriever(tags=['FAISS', 'HuggingFaceEmbeddings'], vectorstore=<langchain_community.vectorstores.faiss.FAISS object at 0x00000205D66CEC30>, search_kwargs={})"
      ]
     },
     "execution_count": 44,
     "metadata": {},
     "output_type": "execute_result"
    }
   ],
   "source": [
    "retriever_hnsw"
   ]
  },
  {
   "cell_type": "code",
   "execution_count": 45,
   "id": "e3220165",
   "metadata": {
    "id": "e3220165",
    "outputId": "5a78af90-378e-4932-8e8d-16843abd6ae5"
   },
   "outputs": [
    {
     "data": {
      "text/plain": [
       "ChatGroq(client=<groq.resources.chat.completions.Completions object at 0x0000020592321950>, async_client=<groq.resources.chat.completions.AsyncCompletions object at 0x0000020592323750>, model_name='gemma2-9b-it', model_kwargs={}, groq_api_key=SecretStr('**********'))"
      ]
     },
     "execution_count": 45,
     "metadata": {},
     "output_type": "execute_result"
    }
   ],
   "source": [
    "llm = ChatGroq(model=\"gemma2-9b-it\")\n",
    "llm"
   ]
  },
  {
   "cell_type": "code",
   "execution_count": 46,
   "id": "cc0274e4",
   "metadata": {
    "id": "cc0274e4"
   },
   "outputs": [],
   "source": [
    "prompt = hub.pull(\"rlm/rag-prompt\")"
   ]
  },
  {
   "cell_type": "code",
   "execution_count": 47,
   "id": "cf8ddd44",
   "metadata": {
    "id": "cf8ddd44"
   },
   "outputs": [],
   "source": [
    "def format_docs(docs):\n",
    "    return \"\\n\\n\".join(doc.page_content for doc in docs)"
   ]
  },
  {
   "cell_type": "code",
   "execution_count": 48,
   "id": "98378e23",
   "metadata": {
    "id": "98378e23"
   },
   "outputs": [
    {
     "name": "stdout",
     "output_type": "stream",
     "text": [
      "Agentic AI refers to robust, scalable, and effective AI systems capable of handling complex tasks. These systems exhibit intentionality, pursuing specific goals and adjusting their actions accordingly.  Agentic AI systems are also responsible for the consequences of their decisions. \n",
      "\n"
     ]
    }
   ],
   "source": [
    "rag_chain = ({'context': retriever | format_docs, 'question': RunnablePassthrough()}\n",
    "            | prompt\n",
    "            | llm\n",
    "            | StrOutputParser())\n",
    "\n",
    "result = rag_chain.invoke('what is agentic ai?')\n",
    "print(result)"
   ]
  },
  {
   "cell_type": "code",
   "execution_count": null,
   "id": "57632973",
   "metadata": {
    "id": "57632973"
   },
   "outputs": [],
   "source": []
  },
  {
   "cell_type": "code",
   "execution_count": null,
   "id": "057138a2",
   "metadata": {
    "id": "057138a2"
   },
   "outputs": [],
   "source": []
  },
  {
   "cell_type": "code",
   "execution_count": null,
   "id": "700d8bcf",
   "metadata": {
    "id": "700d8bcf"
   },
   "outputs": [],
   "source": []
  },
  {
   "cell_type": "code",
   "execution_count": null,
   "id": "2bfadadd",
   "metadata": {
    "id": "2bfadadd"
   },
   "outputs": [],
   "source": []
  }
 ],
 "metadata": {
  "colab": {
   "provenance": []
  },
  "kernelspec": {
   "display_name": "Python 3",
   "language": "python",
   "name": "python3"
  },
  "language_info": {
   "codemirror_mode": {
    "name": "ipython",
    "version": 3
   },
   "file_extension": ".py",
   "mimetype": "text/x-python",
   "name": "python",
   "nbconvert_exporter": "python",
   "pygments_lexer": "ipython3",
   "version": "3.13.2"
  }
 },
 "nbformat": 4,
 "nbformat_minor": 5
}
