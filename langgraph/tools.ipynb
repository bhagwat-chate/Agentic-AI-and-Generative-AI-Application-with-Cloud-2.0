{
 "cells": [
  {
   "cell_type": "markdown",
   "id": "5d85a6b3",
   "metadata": {},
   "source": [
    "## Inbuilt Tools"
   ]
  },
  {
   "cell_type": "code",
   "execution_count": null,
   "id": "e0bf0c2a",
   "metadata": {},
   "outputs": [],
   "source": [
    "from langchain_community.tools import WikipediaQueryRun\n",
    "from langchain_community.utilities import WikipediaAPIWrapper\n",
    "\n",
    "api_wrapper = WikipediaAPIWrapper(top_k_results=5, doc_content_chars_max=100)\n",
    "\n",
    "wiki_tool = WikipediaQueryRun(api_wrapper=api_wrapper)\n",
    "\n",
    "result = wiki_tool.invoke({'query': 'Indian army'})\n",
    "print(result)"
   ]
  },
  {
   "cell_type": "code",
   "execution_count": 40,
   "id": "2753f7bc",
   "metadata": {},
   "outputs": [
    {
     "data": {
      "text/plain": [
       "\"['https://www.youtube.com/watch?v=lIgqeibNBcE&pp=ygUMUkNCIHN0YW1wZWRl', 'https://www.youtube.com/watch?v=l0YLiPJ5ms4&pp=ygUMUkNCIHN0YW1wZWRl']\""
      ]
     },
     "execution_count": 40,
     "metadata": {},
     "output_type": "execute_result"
    }
   ],
   "source": [
    "from langchain_community.tools import YouTubeSearchTool\n",
    "from langchain_community.utilities import YouSearchAPIWrapper\n",
    "\n",
    "youtube_tool = YouTubeSearchTool()\n",
    "\n",
    "youtube_tool.invoke('RCB stampede')"
   ]
  },
  {
   "cell_type": "code",
   "execution_count": 39,
   "id": "faf3f2c6",
   "metadata": {},
   "outputs": [
    {
     "data": {
      "text/plain": [
       "[{'title': \"Ramanujan's Miracles: A Drama To Demystify Mathematics (R.N. ...\",\n",
       "  'url': 'https://kasmana.people.charleston.edu/MATHFICT/mfview.php?callnumber=mf1073',\n",
       "  'content': \"|  |  |  |  |  |  |\\n| --- | --- | --- | --- | --- | --- |\\n| [Home](default.html) | [All](all.php) | [New](new.php) | [Browse](browse.php) | [Search](search.php) | [About](about.php) |\\n\\n|  |\\n| --- |\\n| ... |\\n\\n|  |  |  |  |  |\\n| --- | --- | --- | --- | --- |\\n| |  |  | | --- | --- | |  | **[Ramanujan's Miracles: A Drama To Demystify Mathematics](http://books.google.com/books/about/Ramanujan_s_miracles.html?id=1tBlAAAAMAAJ)** *(1997)* |   | *R.N. Kapur* | |\\n\\n|  |\\n| --- |\\n| ... | [...] The rest of the drama has two students, Uma and Sanjay, trying to figure out how Ramanujan may have worked out his “miracle solution” of continued fraction. In the process, the dramatist takes a number of detours into Diophantine equations, polygonal numbers, Vedic mathematics, etc.\\n\\nThis drama would be a bit difficult to perform on stage because of the extensive mathematical formulae and discussions, though a simplified adaptation for a math class may not be out of place. [...] The rest of the drama has two students, Uma and Sanjay, trying to figure out how Ramanujan may have worked out his “miracle solution” of continued fraction. In the process, the dramatist takes a number of detours into Diophantine equations, polygonal numbers, Vedic mathematics, etc.\\n\\nThis drama would be a bit difficult to perform on stage because of the extensive mathematical formulae and discussions, though a simplified adaptation for a math class may not be out of place.\",\n",
       "  'score': 0.657033},\n",
       " {'title': \"'How the Indian mathematical genius Ramanujan saved my life' | Grin\",\n",
       "  'url': 'https://grin.news/how-indian-mathematical-genius-ramanujan-saved-my-life-9a5744dbdee7',\n",
       "  'content': 'Ramanujan’s case. Ramanujan was almost lost to the world. He was a victim of an inelastic educational system. Frankly, it is a miracle that he was discovered. I struggle with the thought of all of the Ramanujans that we have lost because of such inelasticity.',\n",
       "  'score': 0.6429039},\n",
       " {'title': \"Here's to know what miracle India's great mathematician Ramanujan ...\",\n",
       "  'url': 'https://www.facebook.com/DDNews/videos/heres-to-know-what-miracle-indias-great-mathematician-ramanujan-did-in-the-field/8760647750714608/',\n",
       "  'content': \"Here's to know what miracle India's great mathematician Ramanujan did in the field of mathematics at a very young age. On the birth anniversary\",\n",
       "  'score': 0.61140573}]"
      ]
     },
     "execution_count": 39,
     "metadata": {},
     "output_type": "execute_result"
    }
   ],
   "source": [
    "from langchain_community.tools import TavilySearchResults\n",
    "from langchain_community.utilities import tavily_search\n",
    "import os\n",
    "from dotenv import load_dotenv\n",
    "load_dotenv()\n",
    "\n",
    "TAVILY_API_KEY = os.getenv('TAVILY_API_KEY')\n",
    "\n",
    "tool_tavily = TavilySearchResults(tavily_api_key=TAVILY_API_KEY)\n",
    "tool_tavily.run('Ramanujan the mirracle')"
   ]
  },
  {
   "cell_type": "markdown",
   "id": "f22d6716",
   "metadata": {},
   "source": [
    "## Custom Tools"
   ]
  },
  {
   "cell_type": "code",
   "execution_count": 44,
   "id": "bc53aa1d",
   "metadata": {},
   "outputs": [
    {
     "data": {
      "text/plain": [
       "6"
      ]
     },
     "execution_count": 44,
     "metadata": {},
     "output_type": "execute_result"
    }
   ],
   "source": [
    "from langchain.agents import tool\n",
    "\n",
    "@tool\n",
    "def multiply(a: int, b: int)-> int:\n",
    "    '''this tool multiply two integers'''\n",
    "    return a * b\n",
    "\n",
    "multiply.invoke({'a':2, 'b':3})"
   ]
  },
  {
   "cell_type": "code",
   "execution_count": 45,
   "id": "2576daf6",
   "metadata": {},
   "outputs": [
    {
     "data": {
      "text/plain": [
       "'this tool multiply two integers'"
      ]
     },
     "execution_count": 45,
     "metadata": {},
     "output_type": "execute_result"
    }
   ],
   "source": [
    "multiply.description"
   ]
  },
  {
   "cell_type": "code",
   "execution_count": 46,
   "id": "0987f1be",
   "metadata": {},
   "outputs": [
    {
     "data": {
      "text/plain": [
       "24"
      ]
     },
     "execution_count": 46,
     "metadata": {},
     "output_type": "execute_result"
    }
   ],
   "source": [
    "@tool\n",
    "def get_doc_length(text: str)-> int:\n",
    "    '''this tool return the length of the given document'''\n",
    "    return len(text)\n",
    "\n",
    "get_doc_length.invoke('my name is Bhagwat Chate')"
   ]
  },
  {
   "cell_type": "code",
   "execution_count": 47,
   "id": "982c3bb7",
   "metadata": {},
   "outputs": [
    {
     "data": {
      "text/plain": [
       "langchain_core.utils.pydantic.get_doc_length"
      ]
     },
     "execution_count": 47,
     "metadata": {},
     "output_type": "execute_result"
    }
   ],
   "source": [
    "get_doc_length.input_schema"
   ]
  },
  {
   "cell_type": "code",
   "execution_count": 48,
   "id": "1d685b0a",
   "metadata": {},
   "outputs": [
    {
     "data": {
      "text/plain": [
       "'this tool return the length of the given document'"
      ]
     },
     "execution_count": 48,
     "metadata": {},
     "output_type": "execute_result"
    }
   ],
   "source": [
    "get_doc_length.description"
   ]
  },
  {
   "cell_type": "code",
   "execution_count": 49,
   "id": "16e76cf2",
   "metadata": {},
   "outputs": [
    {
     "data": {
      "text/plain": [
       "'get_doc_length'"
      ]
     },
     "execution_count": 49,
     "metadata": {},
     "output_type": "execute_result"
    }
   ],
   "source": [
    "get_doc_length.name"
   ]
  },
  {
   "cell_type": "code",
   "execution_count": 50,
   "id": "708c0284",
   "metadata": {},
   "outputs": [
    {
     "data": {
      "text/plain": [
       "{'text': {'title': 'Text', 'type': 'string'}}"
      ]
     },
     "execution_count": 50,
     "metadata": {},
     "output_type": "execute_result"
    }
   ],
   "source": [
    "get_doc_length.args"
   ]
  },
  {
   "cell_type": "code",
   "execution_count": 51,
   "id": "57f34eaf",
   "metadata": {},
   "outputs": [],
   "source": [
    "@tool\n",
    "def call_gmail_api(args):\n",
    "    '''this tool is for calling the gmail api'''\n",
    "    pass"
   ]
  },
  {
   "cell_type": "code",
   "execution_count": null,
   "id": "c4b09284",
   "metadata": {},
   "outputs": [],
   "source": []
  },
  {
   "cell_type": "code",
   "execution_count": null,
   "id": "45883c2c",
   "metadata": {},
   "outputs": [],
   "source": []
  },
  {
   "cell_type": "code",
   "execution_count": null,
   "id": "e4dda7a1",
   "metadata": {},
   "outputs": [],
   "source": []
  },
  {
   "cell_type": "code",
   "execution_count": null,
   "id": "af030779",
   "metadata": {},
   "outputs": [],
   "source": []
  },
  {
   "cell_type": "code",
   "execution_count": null,
   "id": "bfa5a4ad",
   "metadata": {},
   "outputs": [],
   "source": []
  },
  {
   "cell_type": "code",
   "execution_count": null,
   "id": "681319ab",
   "metadata": {},
   "outputs": [],
   "source": []
  },
  {
   "cell_type": "code",
   "execution_count": null,
   "id": "0da7efc0",
   "metadata": {},
   "outputs": [],
   "source": []
  },
  {
   "cell_type": "code",
   "execution_count": null,
   "id": "751a1766",
   "metadata": {},
   "outputs": [],
   "source": []
  },
  {
   "cell_type": "code",
   "execution_count": null,
   "id": "e3d38942",
   "metadata": {},
   "outputs": [],
   "source": []
  },
  {
   "cell_type": "code",
   "execution_count": null,
   "id": "6d68c5ad",
   "metadata": {},
   "outputs": [],
   "source": []
  },
  {
   "cell_type": "code",
   "execution_count": null,
   "id": "e6779fe9",
   "metadata": {},
   "outputs": [],
   "source": []
  },
  {
   "cell_type": "code",
   "execution_count": null,
   "id": "0b25b494",
   "metadata": {},
   "outputs": [],
   "source": []
  },
  {
   "cell_type": "code",
   "execution_count": null,
   "id": "bf934663",
   "metadata": {},
   "outputs": [],
   "source": []
  },
  {
   "cell_type": "code",
   "execution_count": null,
   "id": "dbaa12f5",
   "metadata": {},
   "outputs": [],
   "source": []
  },
  {
   "cell_type": "code",
   "execution_count": null,
   "id": "5c775e85",
   "metadata": {},
   "outputs": [],
   "source": []
  },
  {
   "cell_type": "code",
   "execution_count": null,
   "id": "4c6c77c6",
   "metadata": {},
   "outputs": [],
   "source": []
  }
 ],
 "metadata": {
  "kernelspec": {
   "display_name": "Python 3",
   "language": "python",
   "name": "python3"
  },
  "language_info": {
   "codemirror_mode": {
    "name": "ipython",
    "version": 3
   },
   "file_extension": ".py",
   "mimetype": "text/x-python",
   "name": "python",
   "nbconvert_exporter": "python",
   "pygments_lexer": "ipython3",
   "version": "3.13.2"
  }
 },
 "nbformat": 4,
 "nbformat_minor": 5
}
