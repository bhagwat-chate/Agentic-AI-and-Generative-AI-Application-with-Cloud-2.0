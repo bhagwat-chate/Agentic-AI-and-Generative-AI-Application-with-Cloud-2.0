{
 "cells": [
  {
   "cell_type": "code",
   "execution_count": 1,
   "id": "b7c5f460",
   "metadata": {},
   "outputs": [
    {
     "name": "stdout",
     "output_type": "stream",
     "text": [
      "fun_1\n",
      "fun_2\n"
     ]
    }
   ],
   "source": [
    "def fun1():\n",
    "    print(f\"fun_1\")\n",
    "\n",
    "def fun2():\n",
    "    print(f\"fun_2\")\n",
    "\n",
    "fun1()\n",
    "fun2()\n"
   ]
  },
  {
   "cell_type": "code",
   "execution_count": 2,
   "id": "1b5b0a16",
   "metadata": {},
   "outputs": [
    {
     "name": "stderr",
     "output_type": "stream",
     "text": [
      "C:\\Users\\Bhagwat\\AppData\\Local\\Temp\\ipykernel_56172\\1982296753.py:12: RuntimeWarning: coroutine 'fun_1' was never awaited\n",
      "  fun_1()\n",
      "RuntimeWarning: Enable tracemalloc to get the object allocation traceback\n"
     ]
    },
    {
     "data": {
      "text/plain": [
       "<coroutine object fun_2 at 0x000001B47EDD6080>"
      ]
     },
     "execution_count": 2,
     "metadata": {},
     "output_type": "execute_result"
    }
   ],
   "source": [
    "import asyncio\n",
    "\n",
    "async def fun_1():\n",
    "    await print(f\"fun_1()\")\n",
    "\n",
    "\n",
    "async def fun_2():\n",
    "    await print(f\"https://microsoft.github.io/autogen/stable//user-guide/core-user-guide/index.html\")\n",
    "    asyncio.sleep(2)\n",
    "    print(\"done\")\n",
    "\n",
    "fun_1()\n",
    "fun_2()\n"
   ]
  },
  {
   "cell_type": "code",
   "execution_count": 3,
   "id": "d15e6b15",
   "metadata": {},
   "outputs": [
    {
     "name": "stdout",
     "output_type": "stream",
     "text": [
      "Start A\n",
      "Start B\n",
      "Start C\n",
      "End B\n",
      "End A\n",
      "End C\n"
     ]
    }
   ],
   "source": [
    "import asyncio\n",
    "\n",
    "async def task(name, delay):\n",
    "    print(f\"Start {name}\")\n",
    "    await asyncio.sleep(delay)\n",
    "    print(f\"End {name}\")\n",
    "\n",
    "async def main():\n",
    "    await asyncio.gather(\n",
    "        task(\"A\", 2),\n",
    "        task(\"B\", 1),\n",
    "        task(\"C\", 3)\n",
    "    )\n",
    "\n",
    "# 👇 Use this in Jupyter or VSCode Interactive\n",
    "await main()\n"
   ]
  }
 ],
 "metadata": {
  "kernelspec": {
   "display_name": "Python 3",
   "language": "python",
   "name": "python3"
  },
  "language_info": {
   "codemirror_mode": {
    "name": "ipython",
    "version": 3
   },
   "file_extension": ".py",
   "mimetype": "text/x-python",
   "name": "python",
   "nbconvert_exporter": "python",
   "pygments_lexer": "ipython3",
   "version": "3.12.11"
  }
 },
 "nbformat": 4,
 "nbformat_minor": 5
}
