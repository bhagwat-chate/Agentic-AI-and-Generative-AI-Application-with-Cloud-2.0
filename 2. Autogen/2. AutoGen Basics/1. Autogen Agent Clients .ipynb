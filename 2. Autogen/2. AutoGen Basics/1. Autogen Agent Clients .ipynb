{
 "cells": [
  {
   "cell_type": "markdown",
   "id": "c2219bba",
   "metadata": {},
   "source": [
    "Doc: https://microsoft.github.io/autogen/stable/user-guide/agentchat-user-guide/tutorial/models.html"
   ]
  },
  {
   "cell_type": "markdown",
   "id": "7557b497",
   "metadata": {},
   "source": [
    "### Gemini (Google)"
   ]
  },
  {
   "cell_type": "code",
   "execution_count": 1,
   "id": "ec1103c0",
   "metadata": {},
   "outputs": [
    {
     "name": "stdout",
     "output_type": "stream",
     "text": [
      "Mumbai is the financial capital of India.\n",
      "\n"
     ]
    }
   ],
   "source": [
    "import os\n",
    "from autogen_core.models import UserMessage\n",
    "from autogen_ext.models.openai import OpenAIChatCompletionClient\n",
    "from dotenv import load_dotenv\n",
    "\n",
    "load_dotenv()\n",
    "\n",
    "\n",
    "llm_client = OpenAIChatCompletionClient(\n",
    "    model='gemini-1.5-flash-8b',\n",
    "    api_key=os.getenv('GOOGLE_API_KEY')\n",
    ")\n",
    "\n",
    "response = await llm_client.create([UserMessage(content=\"What is the financial capital of India?\", source=\"User\")])\n",
    "\n",
    "await llm_client.close()\n",
    "\n",
    "print(response.content)"
   ]
  },
  {
   "cell_type": "markdown",
   "id": "a05ea566",
   "metadata": {},
   "source": [
    "### Anthropic"
   ]
  },
  {
   "cell_type": "code",
   "execution_count": null,
   "id": "f32037e1",
   "metadata": {},
   "outputs": [],
   "source": [
    "import os\n",
    "from autogen_ext.models.anthropic import AnthropicChatCompletionClient\n",
    "from autogen_core.models import UserMessage\n",
    "from dotenv import load_dotenv\n",
    "\n",
    "load_dotenv()\n",
    "\n",
    "anthropic_llm_client = AnthropicChatCompletionClient(\n",
    "                        model='claude-3-opus-20240229',\n",
    "                        api_key=os.getenv('ANTHROPIC_API_KEY'))\n",
    "\n",
    "response = await llm_client.create([UserMessage(content=\"What is the financial capital of India?\", source=\"User\")])\n",
    "\n",
    "await llm_client.close()\n",
    "\n",
    "print(response.content)"
   ]
  }
 ],
 "metadata": {
  "kernelspec": {
   "display_name": "Python 3",
   "language": "python",
   "name": "python3"
  },
  "language_info": {
   "codemirror_mode": {
    "name": "ipython",
    "version": 3
   },
   "file_extension": ".py",
   "mimetype": "text/x-python",
   "name": "python",
   "nbconvert_exporter": "python",
   "pygments_lexer": "ipython3",
   "version": "3.12.11"
  }
 },
 "nbformat": 4,
 "nbformat_minor": 5
}
