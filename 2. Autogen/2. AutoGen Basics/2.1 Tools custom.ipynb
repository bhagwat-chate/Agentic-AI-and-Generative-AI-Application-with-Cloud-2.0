{
 "cells": [
  {
   "cell_type": "markdown",
   "id": "b1736c20",
   "metadata": {},
   "source": [
    "### Tools\n",
    "* Custom Tools\n",
    "* Built-in Tools\n",
    "* Third Party Tools"
   ]
  },
  {
   "cell_type": "code",
   "execution_count": 2,
   "id": "a8e23891",
   "metadata": {},
   "outputs": [
    {
     "data": {
      "text/plain": [
       "True"
      ]
     },
     "execution_count": 2,
     "metadata": {},
     "output_type": "execute_result"
    }
   ],
   "source": [
    "import os\n",
    "import asyncio\n",
    "from dotenv import load_dotenv\n",
    "from autogen_agentchat.agents import AssistantAgent\n",
    "from autogen_ext.models.openai import OpenAIChatCompletionClient\n",
    "from autogen_core.tools import FunctionTool\n",
    "\n",
    "load_dotenv()"
   ]
  },
  {
   "cell_type": "code",
   "execution_count": 9,
   "id": "e539f58a",
   "metadata": {},
   "outputs": [],
   "source": [
    "api_key = os.getenv('GEMINI_API_KEY')\n",
    "\n",
    "if not api_key:\n",
    "    raise ValueError('GEMINI_API_KEY is missing')\n",
    "\n",
    "llm_client = OpenAIChatCompletionClient(model=\"gemini-1.5-flash-8b\", api_key=api_key)\n",
    "\n",
    "async def find_square(num: int) -> [int, str]:\n",
    "    \"\"\"\n",
    "    Description: Find the square of the number.\n",
    "    Args:\n",
    "        num: int\n",
    "    retuns:\n",
    "        num: int\n",
    "    on error:\n",
    "        invalid input: str\n",
    "    \"\"\"\n",
    "    \n",
    "    if num:\n",
    "        return num * num\n",
    "    return \"Invalid input: {num}\"\n",
    "\n",
    "find_square_tool = FunctionTool(find_square, description=\"This tool returns the square of the number. If error returns str: invalid input\")"
   ]
  },
  {
   "cell_type": "code",
   "execution_count": 10,
   "id": "95a2e592",
   "metadata": {},
   "outputs": [
    {
     "data": {
      "text/plain": [
       "autogen_core.tools._function_tool.FunctionTool"
      ]
     },
     "execution_count": 10,
     "metadata": {},
     "output_type": "execute_result"
    }
   ],
   "source": [
    "type(find_square_tool)"
   ]
  },
  {
   "cell_type": "code",
   "execution_count": 11,
   "id": "158301f1",
   "metadata": {},
   "outputs": [],
   "source": [
    "agent = AssistantAgent(name='square_agent',\n",
    "model_client=llm_client,\n",
    "system_message='find the square of the given number as an input parameter',\n",
    "tools=[find_square_tool])"
   ]
  },
  {
   "cell_type": "code",
   "execution_count": 12,
   "id": "0d5bf116",
   "metadata": {},
   "outputs": [
    {
     "data": {
      "text/plain": [
       "autogen_agentchat.agents._assistant_agent.AssistantAgent"
      ]
     },
     "execution_count": 12,
     "metadata": {},
     "output_type": "execute_result"
    }
   ],
   "source": [
    "type(agent)"
   ]
  },
  {
   "cell_type": "code",
   "execution_count": 14,
   "id": "b9e2f240",
   "metadata": {},
   "outputs": [],
   "source": [
    "result = await agent.run(task='find the square of number 5')"
   ]
  },
  {
   "cell_type": "code",
   "execution_count": 16,
   "id": "64d3ca55",
   "metadata": {},
   "outputs": [
    {
     "data": {
      "text/plain": [
       "'25'"
      ]
     },
     "execution_count": 16,
     "metadata": {},
     "output_type": "execute_result"
    }
   ],
   "source": [
    "result.messages[-1].content"
   ]
  }
 ],
 "metadata": {
  "kernelspec": {
   "display_name": "Python 3",
   "language": "python",
   "name": "python3"
  },
  "language_info": {
   "codemirror_mode": {
    "name": "ipython",
    "version": 3
   },
   "file_extension": ".py",
   "mimetype": "text/x-python",
   "name": "python",
   "nbconvert_exporter": "python",
   "pygments_lexer": "ipython3",
   "version": "3.12.11"
  }
 },
 "nbformat": 4,
 "nbformat_minor": 5
}
