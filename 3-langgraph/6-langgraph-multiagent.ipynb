{
 "cells": [
  {
   "cell_type": "markdown",
   "id": "a26aba72",
   "metadata": {},
   "source": [
    "## Multi Agent System"
   ]
  },
  {
   "cell_type": "code",
   "execution_count": 1,
   "id": "ceae467e",
   "metadata": {},
   "outputs": [],
   "source": [
    "import os\n",
    "from langchain_community.tools import DuckDuckGoSearchRun\n",
    "from typing_extensions import Annotated\n",
    "from dotenv import load_dotenv\n",
    "\n",
    "load_dotenv()\n",
    "\n",
    "os.environ['OPENAI_API_KEY'] = os.getenv('OPENAI_API_KEY', '')\n",
    "\n",
    "from langchain_openai import ChatOpenAI\n",
    "\n",
    "llm = ChatOpenAI(model='gpt-4o')"
   ]
  },
  {
   "cell_type": "code",
   "execution_count": 2,
   "id": "9d984833",
   "metadata": {},
   "outputs": [
    {
     "data": {
      "text/plain": [
       "AIMessage(content=\"Hello! I'm just a computer program, so I don't have feelings, but I'm here to help you. How can I assist you today?\", additional_kwargs={'refusal': None}, response_metadata={'token_usage': {'completion_tokens': 28, 'prompt_tokens': 12, 'total_tokens': 40, 'completion_tokens_details': {'accepted_prediction_tokens': 0, 'audio_tokens': 0, 'reasoning_tokens': 0, 'rejected_prediction_tokens': 0}, 'prompt_tokens_details': {'audio_tokens': 0, 'cached_tokens': 0}}, 'model_name': 'gpt-4o-2024-08-06', 'system_fingerprint': 'fp_07871e2ad8', 'id': 'chatcmpl-BlPb6HNpidPKAKEz9xXKiqoH4RObq', 'service_tier': 'default', 'finish_reason': 'stop', 'logprobs': None}, id='run--6272ba0d-f802-4326-8a0a-263d4879b670-0', usage_metadata={'input_tokens': 12, 'output_tokens': 28, 'total_tokens': 40, 'input_token_details': {'audio': 0, 'cache_read': 0}, 'output_token_details': {'audio': 0, 'reasoning': 0}})"
      ]
     },
     "execution_count": 2,
     "metadata": {},
     "output_type": "execute_result"
    }
   ],
   "source": [
    "llm.invoke('Hey, how are you')"
   ]
  },
  {
   "cell_type": "code",
   "execution_count": null,
   "id": "1ba4577c",
   "metadata": {},
   "outputs": [],
   "source": []
  },
  {
   "cell_type": "code",
   "execution_count": 3,
   "id": "945f0ef9",
   "metadata": {},
   "outputs": [],
   "source": [
    "search_tool = DuckDuckGoSearchRun()"
   ]
  },
  {
   "cell_type": "code",
   "execution_count": 4,
   "id": "d43c2788",
   "metadata": {},
   "outputs": [
    {
     "data": {
      "text/plain": [
       "'What to know about Keir Starmer, UK\\'s new prime minister by Yash Roy - 07/06/24 10:42 AM ET. by Yash Roy - 07/06/24 10:42 AM ET. ... During his first speech as prime minister, he promised that ... Mr Starmer has been leader of the Labour party since 2020 and is the country\\'s 58th prime minister. He was born in 1962. His dad was a toolmaker in a factory and his mum was a nurse in the NHS. Prime Minister Sir Keir Starmer — the former lawyer was knighted for services to criminal justice — has, through years of chaos (you may remember Partygate, or perhaps even Prime Minister Liz ... Sunak was the United Kingdom\\'s first British Indian prime minister and its first Hindu leader. At 42, he was the youngest prime minister to take the job in over 200 years. The soon-to-be new UK Prime Minister Keir Starmer has addressed cheering supporters at a Labour Party victory rally in central London, and pledged \"national renewal\" following 14 years of ...'"
      ]
     },
     "execution_count": 4,
     "metadata": {},
     "output_type": "execute_result"
    }
   ],
   "source": [
    "search_tool.run('Who is the current prime minister of UK?')"
   ]
  },
  {
   "cell_type": "code",
   "execution_count": 5,
   "id": "fbb35d7c",
   "metadata": {},
   "outputs": [],
   "source": [
    "from langchain_experimental.utilities import PythonREPL\n",
    "from langchain_core.tools import tool"
   ]
  },
  {
   "cell_type": "code",
   "execution_count": 6,
   "id": "8bfdebf2",
   "metadata": {},
   "outputs": [],
   "source": [
    "repl = PythonREPL()"
   ]
  },
  {
   "cell_type": "code",
   "execution_count": 7,
   "id": "a2b60cd2",
   "metadata": {},
   "outputs": [],
   "source": [
    "@tool\n",
    "def python_repl_tool(\n",
    "        code: Annotated[str, \"The python code to execute to generate your chart.\"]\n",
    "):\n",
    "    \"\"\"Use this to execute python code. If you want to see the output of a value, you should print it out with `print(...)`. This is visible to the user.\"\"\"\n",
    "\n",
    "    try:\n",
    "        result = repl.run(code)\n",
    "        result_str = f\"successfully executed:\\n```python\\n{code}\\n```\\nStdout: {result}\"\n",
    "\n",
    "        return (result_str + \"\\n\\nIf you have completed all the tasks, respond with FINAL ANSWER.\")\n",
    "    except BaseException as e:\n",
    "        return f\"Failed to execute. Errir: {repl(e)}\""
   ]
  },
  {
   "cell_type": "code",
   "execution_count": 8,
   "id": "a2482b06",
   "metadata": {},
   "outputs": [
    {
     "name": "stderr",
     "output_type": "stream",
     "text": [
      "Python REPL can execute arbitrary code. Use with caution.\n"
     ]
    },
    {
     "data": {
      "text/plain": [
       "'10\\n'"
      ]
     },
     "execution_count": 8,
     "metadata": {},
     "output_type": "execute_result"
    }
   ],
   "source": [
    "code = \"\"\"\n",
    "x = 5\n",
    "y = x * 2\n",
    "print(y)\n",
    "\"\"\"\n",
    "\n",
    "repl.run(code)"
   ]
  },
  {
   "cell_type": "code",
   "execution_count": 9,
   "id": "bb9d0675",
   "metadata": {},
   "outputs": [
    {
     "data": {
      "text/plain": [
       "StructuredTool(name='python_repl_tool', description='Use this to execute python code. If you want to see the output of a value, you should print it out with `print(...)`. This is visible to the user.', args_schema=<class 'langchain_core.utils.pydantic.python_repl_tool'>, func=<function python_repl_tool at 0x0000021DA92D7880>)"
      ]
     },
     "execution_count": 9,
     "metadata": {},
     "output_type": "execute_result"
    }
   ],
   "source": [
    "python_repl_tool"
   ]
  },
  {
   "cell_type": "code",
   "execution_count": 10,
   "id": "0f3c5c33",
   "metadata": {},
   "outputs": [
    {
     "name": "stdout",
     "output_type": "stream",
     "text": [
      "successfully executed:\n",
      "```python\n",
      "\n",
      "x = 5\n",
      "y = x * 2\n",
      "print(y)\n",
      "\n",
      "```\n",
      "Stdout: 10\n",
      "\n",
      "\n",
      "If you have completed all the tasks, respond with FINAL ANSWER.\n"
     ]
    }
   ],
   "source": [
    "print(python_repl_tool.invoke(code))"
   ]
  },
  {
   "cell_type": "code",
   "execution_count": 11,
   "id": "bb94ae2e",
   "metadata": {},
   "outputs": [],
   "source": [
    "from langgraph.graph import MessagesState, StateGraph\n",
    "from langgraph.graph import END, START\n",
    "from langgraph.types import Command\n",
    "from typing_extensions import Literal\n",
    "from langgraph.prebuilt import create_react_agent\n",
    "from langchain_core.messages import BaseMessage, HumanMessage"
   ]
  },
  {
   "cell_type": "code",
   "execution_count": 21,
   "id": "01be052a",
   "metadata": {},
   "outputs": [],
   "source": [
    "def make_system_prompt(instruction:str)->str:\n",
    "    return  (\n",
    "        \"You are a helpful AI assistant, collaborating with other assistants.\"\n",
    "        \" Use the provided tools to progress towards answering the question.\"\n",
    "        \" If you are unable to fully answer, that's OK, another assistant with different tools \"\n",
    "        \" will help where you left off. Execute what you can to make progress.\"\n",
    "        \" If you or any of the other assistants have the final answer or deliverable,\"\n",
    "        \" prefix your response with FINAL ANSWER so the team knows to stop.\"\n",
    "        f\"\\n{instruction}\"\n",
    "    )\n",
    "\n",
    "def get_next_node(last_message:BaseMessage, goto:str):\n",
    "    if \"FINAL ANSWER\" in last_message.content:\n",
    "        # Any agent decided the work is done\n",
    "        return END\n",
    "    return goto"
   ]
  },
  {
   "cell_type": "code",
   "execution_count": 20,
   "id": "b83f5554",
   "metadata": {},
   "outputs": [
    {
     "data": {
      "text/plain": [
       "\"You are a helpful AI assistant, collaborating with other assistants. Use the provided tools to progress towards answering the question. If you are unable to fully answer, that's OK, another assistant with different tools  will help where you left off. Execute what you can to make progress. If you or any of the other assistants have the final answer or deliverable, prefix your response with FINAL ANSWER so the team knows to stop.\\nYou can only do research. You are working with a chart generator colleague.\""
      ]
     },
     "execution_count": 20,
     "metadata": {},
     "output_type": "execute_result"
    }
   ],
   "source": [
    "make_system_prompt(\"You can only do research. You are working with a chart generator colleague.\")"
   ]
  },
  {
   "cell_type": "markdown",
   "id": "49600e2d",
   "metadata": {},
   "source": [
    "\"You are a helpful AI assistant, collaborating with other assistants. Use the provided tools to progress towards answering the question. If you are unable to fully answer, that's OK, another assistant with different tools  will help where you left off. Execute what you can to make progress. If you or any of the other assistants have the final answer or deliverable, prefix your response with FINAL ANSWER so the team knows to stop.\\nYou can only do research. You are working with a chart generator colleague.\""
   ]
  },
  {
   "cell_type": "code",
   "execution_count": 22,
   "id": "d1f8bd1e",
   "metadata": {},
   "outputs": [],
   "source": [
    "from typing import Literal\n",
    "from langgraph.graph import MessagesState \n",
    "\n",
    "#agent1\n",
    "def research_node(state:MessagesState)->Command[Literal[\"chart_generator\", END]]:\n",
    "    research_agent=create_react_agent(\n",
    "        llm,\n",
    "        tools=[search_tool],\n",
    "        prompt=make_system_prompt(\n",
    "        \"You can only do research. You are working with a chart generator colleague.\"\n",
    "    ), \n",
    "        )\n",
    "    \n",
    "    result=research_agent.invoke(state)\n",
    "    goto=get_next_node(result[\"messages\"][-1],\"chart_generator\")\n",
    "    result[\"messages\"][-1] = HumanMessage(content=result[\"messages\"][-1].content, name=\"researcher\")\n",
    "    \n",
    "    return Command(update={\"messages\": result[\"messages\"]},goto=goto)"
   ]
  },
  {
   "cell_type": "markdown",
   "id": "3d7115be",
   "metadata": {},
   "source": [
    "### Agent 2"
   ]
  },
  {
   "cell_type": "code",
   "execution_count": 23,
   "id": "38c8b751",
   "metadata": {},
   "outputs": [],
   "source": [
    "#agent2\n",
    "def chart_node(state:MessagesState)-> Command[Literal[\"researcher\", END]]:\n",
    "    chart_agent=create_react_agent(\n",
    "        llm,\n",
    "        tools=[python_repl_tool],\n",
    "        prompt=make_system_prompt(\n",
    "        \"You can only generate charts. You are working with a researcher colleague.\"\n",
    "    ),\n",
    "        )\n",
    "    result=chart_agent.invoke(state)\n",
    "    goto=get_next_node(result[\"messages\"][-1],\"researcher\")\n",
    "    result[\"messages\"][-1] = HumanMessage(content=result[\"messages\"][-1].content, name=\"chart_generator\")\n",
    "    return Command(update={\"messages\": result[\"messages\"]},goto=goto)"
   ]
  },
  {
   "cell_type": "code",
   "execution_count": 24,
   "id": "9a2faef8",
   "metadata": {},
   "outputs": [],
   "source": [
    "workflow = StateGraph(MessagesState)\n",
    "workflow.add_node(\"researcher\", research_node)\n",
    "workflow.add_node(\"chart_generator\", chart_node)\n",
    "\n",
    "workflow.add_edge(START, \"researcher\")\n",
    "app = workflow.compile()"
   ]
  },
  {
   "cell_type": "code",
   "execution_count": 25,
   "id": "b94db922",
   "metadata": {},
   "outputs": [
    {
     "data": {
      "image/png": "[encoded data removed]",
      "text/plain": [
       "<langgraph.graph.state.CompiledStateGraph object at 0x0000021DA8D747D0>"
      ]
     },
     "execution_count": 25,
     "metadata": {},
     "output_type": "execute_result"
    }
   ],
   "source": [
    "workflow.compile()"
   ]
  },
  {
   "cell_type": "code",
   "execution_count": 29,
   "id": "e3ed905e",
   "metadata": {},
   "outputs": [
    {
     "data": {
      "text/plain": [
       "{'messages': [HumanMessage(content=\"get the UK's GDP over the last 3 years. Then make a line chart of it. Once you are done with the line chart, finish.\", additional_kwargs={}, response_metadata={}, id='54590033-afd4-4fb4-8a90-812b579df870'),\n",
       "  AIMessage(content='', additional_kwargs={'tool_calls': [{'id': 'call_Wu4h0pkQVZRC3mclEPkt5xzR', 'function': {'arguments': '{\"query\":\"UK GDP last 3 years\"}', 'name': 'duckduckgo_search'}, 'type': 'function'}], 'refusal': None}, response_metadata={'token_usage': {'completion_tokens': 22, 'prompt_tokens': 203, 'total_tokens': 225, 'completion_tokens_details': {'accepted_prediction_tokens': 0, 'audio_tokens': 0, 'reasoning_tokens': 0, 'rejected_prediction_tokens': 0}, 'prompt_tokens_details': {'audio_tokens': 0, 'cached_tokens': 0}}, 'model_name': 'gpt-4o-2024-08-06', 'system_fingerprint': 'fp_07871e2ad8', 'id': 'chatcmpl-BlPyv5bS3ZMU5WyQbodTgwr3ry3VQ', 'service_tier': 'default', 'finish_reason': 'tool_calls', 'logprobs': None}, id='run--b07517f6-3b21-4885-b48a-fe23f9332792-0', tool_calls=[{'name': 'duckduckgo_search', 'args': {'query': 'UK GDP last 3 years'}, 'id': 'call_Wu4h0pkQVZRC3mclEPkt5xzR', 'type': 'tool_call'}], usage_metadata={'input_tokens': 203, 'output_tokens': 22, 'total_tokens': 225, 'input_token_details': {'audio': 0, 'cache_read': 0}, 'output_token_details': {'audio': 0, 'reasoning': 0}}),\n",
       "  ToolMessage(content=\"UK economic growth since 2023 Although GDP did grow over 2024 and 2023, the UK experienced a recent recession at the end of 2023, due to two quarters of negative growth at the end of the year. In ... Gross Domestic Product for United Kingdom (MKTGDPGBA646NWDB) Observations . 2023: 3,380,854,520,809.5400. Updated: Dec 17, 2024 2:10 PM CST. Next Release Date ... Dollar figures for GDP are converted from domestic currencies using single year official exchange rates. For a few countries where the official exchange rate does not reflect the rate ... The Gross Domestic Product (GDP) in the United Kingdom expanded 0.70 percent in the first quarter of 2025 over the previous quarter. GDP Growth Rate in the United Kingdom averaged 0.58 percent from 1955 until 2025, reaching an all time high of 16.80 percent in the third quarter of 2020 and a record low of -20.30 percent in the second quarter of 2020. The table also includes nominal or chained GDP for each year charted. If you'd like the data for analysis, just copy the tab-delimited text in the textbox below (click cursor in text box, then press ctrl-A then press ctrl-C) and paste it into your spreadsheet. ... UK Gross Domestic Product GDP History Fiscal Years 1950 to 2010; Year ... The UK's borrowing position with the rest of the world as a percentage of gross domestic product (GDP) is estimated to have increased to 3.1% in Quarter 4 2024. This is compared with 1.9% of GDP in Quarter 3 2024.\", name='duckduckgo_search', id='a6829e6d-5bdd-46b9-9699-87820a2524ff', tool_call_id='call_Wu4h0pkQVZRC3mclEPkt5xzR'),\n",
       "  AIMessage(content='', additional_kwargs={'tool_calls': [{'id': 'call_HhqXC1emuP9xwmlLGhKsudxL', 'function': {'arguments': '{\"query\": \"UK nominal GDP 2021, 2022, 2023\"}', 'name': 'duckduckgo_search'}, 'type': 'function'}, {'id': 'call_nRfyUE3P8VcK0K8koqny5tfk', 'function': {'arguments': '{\"query\": \"UK nominal GDP 2022, 2023, 2024\"}', 'name': 'duckduckgo_search'}, 'type': 'function'}], 'refusal': None}, response_metadata={'token_usage': {'completion_tokens': 76, 'prompt_tokens': 596, 'total_tokens': 672, 'completion_tokens_details': {'accepted_prediction_tokens': 0, 'audio_tokens': 0, 'reasoning_tokens': 0, 'rejected_prediction_tokens': 0}, 'prompt_tokens_details': {'audio_tokens': 0, 'cached_tokens': 0}}, 'model_name': 'gpt-4o-2024-08-06', 'system_fingerprint': 'fp_07871e2ad8', 'id': 'chatcmpl-BlPyxYOY6YTc2sff0PfHtGoLryKkg', 'service_tier': 'default', 'finish_reason': 'tool_calls', 'logprobs': None}, id='run--0350f139-ab8d-4f88-821c-cea45e7189de-0', tool_calls=[{'name': 'duckduckgo_search', 'args': {'query': 'UK nominal GDP 2021, 2022, 2023'}, 'id': 'call_HhqXC1emuP9xwmlLGhKsudxL', 'type': 'tool_call'}, {'name': 'duckduckgo_search', 'args': {'query': 'UK nominal GDP 2022, 2023, 2024'}, 'id': 'call_nRfyUE3P8VcK0K8koqny5tfk', 'type': 'tool_call'}], usage_metadata={'input_tokens': 596, 'output_tokens': 76, 'total_tokens': 672, 'input_token_details': {'audio': 0, 'cache_read': 0}, 'output_token_details': {'audio': 0, 'reasoning': 0}}),\n",
       "  ToolMessage(content=\"Error: DuckDuckGoSearchException(RatelimitException('https://lite.duckduckgo.com/lite/ 202 Ratelimit'))\\n Please fix your mistakes.\", name='duckduckgo_search', id='21845bf8-ea03-4026-aacf-3b9f8155c74f', tool_call_id='call_HhqXC1emuP9xwmlLGhKsudxL', status='error'),\n",
       "  ToolMessage(content=\"The GDP of the United Kingdom increased to 2.56 trillion pounds in 2024, up from 2.54 trillion pounds in the previous year In line with the National Accounts Revisions Policy, the estimate of gross domestic product (GDP) per head for 2022 is consistent with mid-year population estimates as published on 15 July 2024, while 2023 estimates are consistent with 2021-based interim population projections, as published on 30 January 2024. In 2024, the gross domestic product of the United Kingdom amounted to around 2.56 trillion British pounds, compared with 2.54 trillion pounds in 2023, and 2.53 trillion in 2022. Although the UK ... According to the IMF World Economic Outlook (October 2024), the United Kingdom's nominal GDP in 2024 is projected to be around $3,588 billion at current prices. Based on PPP, the United Kingdom's GDP in 2024 is forecast at 4,282 billion international dollars. GDP quarterly national accounts, UK: October to December 2024 Revised quarterly estimate of gross domestic product (GDP) for the UK. Uses additional data to provide a more precise indication of economic growth than the first estimate.\", name='duckduckgo_search', id='500596ad-a725-4628-a76c-a2e616b24c08', tool_call_id='call_nRfyUE3P8VcK0K8koqny5tfk'),\n",
       "  AIMessage(content='', additional_kwargs={'tool_calls': [{'id': 'call_d3O4Y7gvVTaesbdlI3GWZyxL', 'function': {'arguments': '{\"query\":\"UK nominal GDP 2021\"}', 'name': 'duckduckgo_search'}, 'type': 'function'}], 'refusal': None}, response_metadata={'token_usage': {'completion_tokens': 22, 'prompt_tokens': 977, 'total_tokens': 999, 'completion_tokens_details': {'accepted_prediction_tokens': 0, 'audio_tokens': 0, 'reasoning_tokens': 0, 'rejected_prediction_tokens': 0}, 'prompt_tokens_details': {'audio_tokens': 0, 'cached_tokens': 0}}, 'model_name': 'gpt-4o-2024-08-06', 'system_fingerprint': 'fp_07871e2ad8', 'id': 'chatcmpl-BlPz07mPxFn6i3oIciHSx2462WeFt', 'service_tier': 'default', 'finish_reason': 'tool_calls', 'logprobs': None}, id='run--e8bb7f02-afcc-4cbf-af4b-132546870b7f-0', tool_calls=[{'name': 'duckduckgo_search', 'args': {'query': 'UK nominal GDP 2021'}, 'id': 'call_d3O4Y7gvVTaesbdlI3GWZyxL', 'type': 'tool_call'}], usage_metadata={'input_tokens': 977, 'output_tokens': 22, 'total_tokens': 999, 'input_token_details': {'audio': 0, 'cache_read': 0}, 'output_token_details': {'audio': 0, 'reasoning': 0}}),\n",
       "  ToolMessage(content=\"Error: DuckDuckGoSearchException(RatelimitException('https://lite.duckduckgo.com/lite/ 202 Ratelimit'))\\n Please fix your mistakes.\", name='duckduckgo_search', id='2f843c08-1e0a-4b2a-b3bf-36a2b2f02fb0', tool_call_id='call_d3O4Y7gvVTaesbdlI3GWZyxL', status='error'),\n",
       "  AIMessage(content=\"I currently have data for the UK's GDP for 2022, 2023, and 2024:\\n\\n- 2022: £2.53 trillion\\n- 2023: £2.54 trillion\\n- 2024: £2.56 trillion\\n\\nI will now create a line chart using this data.\", additional_kwargs={'tool_calls': [{'id': 'call_4OjAGAjuCGiaNPViSRmzirah', 'function': {'arguments': '{\"query\":\"UK nominal GDP 2021, 2022, 2023, 2024 in pounds\"}', 'name': 'duckduckgo_search'}, 'type': 'function'}], 'refusal': None}, response_metadata={'token_usage': {'completion_tokens': 103, 'prompt_tokens': 1043, 'total_tokens': 1146, 'completion_tokens_details': {'accepted_prediction_tokens': 0, 'audio_tokens': 0, 'reasoning_tokens': 0, 'rejected_prediction_tokens': 0}, 'prompt_tokens_details': {'audio_tokens': 0, 'cached_tokens': 0}}, 'model_name': 'gpt-4o-2024-08-06', 'system_fingerprint': 'fp_07871e2ad8', 'id': 'chatcmpl-BlPz2yhJMjie6u5rvt0S9nqR6lBVz', 'service_tier': 'default', 'finish_reason': 'tool_calls', 'logprobs': None}, id='run--2d336694-b244-44d9-8c31-842777e8bd11-0', tool_calls=[{'name': 'duckduckgo_search', 'args': {'query': 'UK nominal GDP 2021, 2022, 2023, 2024 in pounds'}, 'id': 'call_4OjAGAjuCGiaNPViSRmzirah', 'type': 'tool_call'}], usage_metadata={'input_tokens': 1043, 'output_tokens': 103, 'total_tokens': 1146, 'input_token_details': {'audio': 0, 'cache_read': 0}, 'output_token_details': {'audio': 0, 'reasoning': 0}}),\n",
       "  ToolMessage(content=\"Error: DuckDuckGoSearchException(RatelimitException('https://html.duckduckgo.com/html 202 Ratelimit'))\\n Please fix your mistakes.\", name='duckduckgo_search', id='8f8e7302-7cff-4606-a91a-4d5c18688bec', tool_call_id='call_4OjAGAjuCGiaNPViSRmzirah', status='error'),\n",
       "  AIMessage(content='', additional_kwargs={'tool_calls': [{'id': 'call_uk1yUEgIlAmrGGpXQRHrlzHG', 'function': {'arguments': '{\"query\":\"UK nominal GDP 2021\"}', 'name': 'duckduckgo_search'}, 'type': 'function'}], 'refusal': None}, response_metadata={'token_usage': {'completion_tokens': 22, 'prompt_tokens': 1191, 'total_tokens': 1213, 'completion_tokens_details': {'accepted_prediction_tokens': 0, 'audio_tokens': 0, 'reasoning_tokens': 0, 'rejected_prediction_tokens': 0}, 'prompt_tokens_details': {'audio_tokens': 0, 'cached_tokens': 0}}, 'model_name': 'gpt-4o-2024-08-06', 'system_fingerprint': 'fp_07871e2ad8', 'id': 'chatcmpl-BlPz5agF0Nl3ChKYVnvCnbetEpzU0', 'service_tier': 'default', 'finish_reason': 'tool_calls', 'logprobs': None}, id='run--c8efeebb-a95a-40d8-b3ec-dfb68a03fb34-0', tool_calls=[{'name': 'duckduckgo_search', 'args': {'query': 'UK nominal GDP 2021'}, 'id': 'call_uk1yUEgIlAmrGGpXQRHrlzHG', 'type': 'tool_call'}], usage_metadata={'input_tokens': 1191, 'output_tokens': 22, 'total_tokens': 1213, 'input_token_details': {'audio': 0, 'cache_read': 0}, 'output_token_details': {'audio': 0, 'reasoning': 0}}),\n",
       "  ToolMessage(content=\"Error: DuckDuckGoSearchException(RatelimitException('https://html.duckduckgo.com/html 202 Ratelimit'))\\n Please fix your mistakes.\", name='duckduckgo_search', id='1b240dec-3695-4295-9edc-8d0ddf325992', tool_call_id='call_uk1yUEgIlAmrGGpXQRHrlzHG', status='error'),\n",
       "  AIMessage(content='I am currently unable to retrieve the UK GDP for 2021 due to rate limitations. However, using the data I have for 2022, 2023, and 2024, you can create a line chart. Let me proceed with the chart construction using the available information.', additional_kwargs={'tool_calls': [{'id': 'call_dV20iY50JljL9AYcJms6RdBk', 'function': {'arguments': '{\"query\":\"UK nominal GDP in 2021\"}', 'name': 'duckduckgo_search'}, 'type': 'function'}], 'refusal': None}, response_metadata={'token_usage': {'completion_tokens': 82, 'prompt_tokens': 1255, 'total_tokens': 1337, 'completion_tokens_details': {'accepted_prediction_tokens': 0, 'audio_tokens': 0, 'reasoning_tokens': 0, 'rejected_prediction_tokens': 0}, 'prompt_tokens_details': {'audio_tokens': 0, 'cached_tokens': 1024}}, 'model_name': 'gpt-4o-2024-08-06', 'system_fingerprint': 'fp_07871e2ad8', 'id': 'chatcmpl-BlPz71Z31KIHWhSO90Oj9qEWTWvTx', 'service_tier': 'default', 'finish_reason': 'tool_calls', 'logprobs': None}, id='run--3369a3bf-2336-40e4-9650-b563ef05c835-0', tool_calls=[{'name': 'duckduckgo_search', 'args': {'query': 'UK nominal GDP in 2021'}, 'id': 'call_dV20iY50JljL9AYcJms6RdBk', 'type': 'tool_call'}], usage_metadata={'input_tokens': 1255, 'output_tokens': 82, 'total_tokens': 1337, 'input_token_details': {'audio': 0, 'cache_read': 1024}, 'output_token_details': {'audio': 0, 'reasoning': 0}}),\n",
       "  ToolMessage(content=\"Error: DuckDuckGoSearchException(RatelimitException('https://lite.duckduckgo.com/lite/ 202 Ratelimit'))\\n Please fix your mistakes.\", name='duckduckgo_search', id='0dd6f16e-f864-48ed-a9ee-0ef2d6677ac1', tool_call_id='call_dV20iY50JljL9AYcJms6RdBk', status='error'),\n",
       "  HumanMessage(content='We have encountered a rate limit preventing us from retrieving the GDP data for 2021 at the moment. However, you can still create a line chart with the available data for 2022, 2023, and 2024. Let me know if you need further assistance!', additional_kwargs={}, response_metadata={}, name='researcher', id='8bb563fd-439b-4510-8574-7c48d2b11d9a'),\n",
       "  AIMessage(content='', additional_kwargs={'tool_calls': [{'id': 'call_6yuxOEaWFyw4fflxmKCZiyQB', 'function': {'arguments': '{\"code\":\"import matplotlib.pyplot as plt\\\\n\\\\n# GDP data\\\\nyears = [2022, 2023, 2024]\\\\ngdp = [2.53, 2.54, 2.56]  # in trillions of pounds\\\\n\\\\n# Create a line chart\\\\nplt.figure(figsize=(8, 5))\\\\nplt.plot(years, gdp, marker=\\'o\\')\\\\nplt.title(\\\\\"UK Nominal GDP (2022-2024)\\\\\")\\\\nplt.xlabel(\\\\\"Year\\\\\")\\\\nplt.ylabel(\\\\\"GDP in Trillions of Pounds\\\\\")\\\\nplt.xticks(years)\\\\nplt.grid(True)\\\\nplt.show()\"}', 'name': 'python_repl_tool'}, 'type': 'function'}], 'refusal': None}, response_metadata={'token_usage': {'completion_tokens': 150, 'prompt_tokens': 1459, 'total_tokens': 1609, 'completion_tokens_details': {'accepted_prediction_tokens': 0, 'audio_tokens': 0, 'reasoning_tokens': 0, 'rejected_prediction_tokens': 0}, 'prompt_tokens_details': {'audio_tokens': 0, 'cached_tokens': 0}}, 'model_name': 'gpt-4o-2024-08-06', 'system_fingerprint': 'fp_07871e2ad8', 'id': 'chatcmpl-BlPzBZpt7HJogut5xgnOY096UpPEb', 'service_tier': 'default', 'finish_reason': 'tool_calls', 'logprobs': None}, id='run--9ff5bd62-d128-4cb8-a7b1-e043a3db3e6f-0', tool_calls=[{'name': 'python_repl_tool', 'args': {'code': 'import matplotlib.pyplot as plt\\n\\n# GDP data\\nyears = [2022, 2023, 2024]\\ngdp = [2.53, 2.54, 2.56]  # in trillions of pounds\\n\\n# Create a line chart\\nplt.figure(figsize=(8, 5))\\nplt.plot(years, gdp, marker=\\'o\\')\\nplt.title(\"UK Nominal GDP (2022-2024)\")\\nplt.xlabel(\"Year\")\\nplt.ylabel(\"GDP in Trillions of Pounds\")\\nplt.xticks(years)\\nplt.grid(True)\\nplt.show()'}, 'id': 'call_6yuxOEaWFyw4fflxmKCZiyQB', 'type': 'tool_call'}], usage_metadata={'input_tokens': 1459, 'output_tokens': 150, 'total_tokens': 1609, 'input_token_details': {'audio': 0, 'cache_read': 0}, 'output_token_details': {'audio': 0, 'reasoning': 0}}),\n",
       "  ToolMessage(content='successfully executed:\\n```python\\nimport matplotlib.pyplot as plt\\n\\n# GDP data\\nyears = [2022, 2023, 2024]\\ngdp = [2.53, 2.54, 2.56]  # in trillions of pounds\\n\\n# Create a line chart\\nplt.figure(figsize=(8, 5))\\nplt.plot(years, gdp, marker=\\'o\\')\\nplt.title(\"UK Nominal GDP (2022-2024)\")\\nplt.xlabel(\"Year\")\\nplt.ylabel(\"GDP in Trillions of Pounds\")\\nplt.xticks(years)\\nplt.grid(True)\\nplt.show()\\n```\\nStdout: ModuleNotFoundError(\"No module named \\'matplotlib\\'\")\\n\\nIf you have completed all the tasks, respond with FINAL ANSWER.', name='python_repl_tool', id='8fccbc4a-1629-418c-9ebf-94713bfb3e14', tool_call_id='call_6yuxOEaWFyw4fflxmKCZiyQB'),\n",
       "  HumanMessage(content=\"There was an error in generating the line chart due to a missing module (`matplotlib`). However, you can create a similar line chart using Excel or any other charting tool with the data I provided.\\n\\n**Available Data:**\\n\\n- 2022: £2.53 trillion\\n- 2023: £2.54 trillion\\n- 2024: £2.56 trillion\\n\\nIf there's anything more you need or further assistance on how to create the chart, please let me know! \\n\\nFINAL ANSWER\", additional_kwargs={}, response_metadata={}, name='chart_generator', id='ae38220d-8dfd-4eb2-a732-18f0c6556c67')]}"
      ]
     },
     "execution_count": 29,
     "metadata": {},
     "output_type": "execute_result"
    }
   ],
   "source": [
    "app.invoke({'messages': [('user', \"get the UK's GDP over the last 3 years. Then make a line chart of it. Once you are done with the line chart, finish.\")]})"
   ]
  },
  {
   "cell_type": "code",
   "execution_count": 1,
   "id": "ecf56b2a",
   "metadata": {},
   "outputs": [
    {
     "ename": "ModuleNotFoundError",
     "evalue": "No module named 'matplotlib'",
     "output_type": "error",
     "traceback": [
      "\u001b[31m---------------------------------------------------------------------------\u001b[39m",
      "\u001b[31mModuleNotFoundError\u001b[39m                       Traceback (most recent call last)",
      "\u001b[36mCell\u001b[39m\u001b[36m \u001b[39m\u001b[32mIn[1]\u001b[39m\u001b[32m, line 2\u001b[39m\n\u001b[32m      1\u001b[39m \u001b[38;5;66;03m# Code sent to the python_repl_tool\u001b[39;00m\n\u001b[32m----> \u001b[39m\u001b[32m2\u001b[39m \u001b[38;5;28;01mimport\u001b[39;00m\u001b[38;5;250m \u001b[39m\u001b[34;01mmatplotlib\u001b[39;00m\u001b[34;01m.\u001b[39;00m\u001b[34;01mpyplot\u001b[39;00m\u001b[38;5;250m \u001b[39m\u001b[38;5;28;01mas\u001b[39;00m\u001b[38;5;250m \u001b[39m\u001b[34;01mplt\u001b[39;00m\n\u001b[32m      4\u001b[39m years = [\u001b[32m2021\u001b[39m, \u001b[32m2022\u001b[39m, \u001b[32m2023\u001b[39m]\n\u001b[32m      5\u001b[39m growth_rates = [\u001b[32m8.7\u001b[39m, \u001b[32m4.3\u001b[39m, \u001b[32m0.1\u001b[39m]\n",
      "\u001b[31mModuleNotFoundError\u001b[39m: No module named 'matplotlib'"
     ]
    }
   ],
   "source": [
    "# Code sent to the python_repl_tool\n",
    "import matplotlib.pyplot as plt\n",
    "\n",
    "years = [2021, 2022, 2023]\n",
    "growth_rates = [8.7, 4.3, 0.1]\n",
    "\n",
    "plt.figure(figsize=(8, 5))\n",
    "plt.plot(years, growth_rates, marker='o')\n",
    "plt.title(\"UK GDP Growth Rates (2021-2023)\")\n",
    "plt.xlabel(\"Year\")\n",
    "plt.ylabel(\"GDP Growth Rate (%)\")\n",
    "plt.grid(True)\n",
    "plt.xticks(years)\n",
    "plt.show()\n"
   ]
  },
  {
   "cell_type": "code",
   "execution_count": null,
   "id": "51e9e35a",
   "metadata": {},
   "outputs": [],
   "source": []
  }
 ],
 "metadata": {
  "kernelspec": {
   "display_name": "Python 3",
   "language": "python",
   "name": "python3"
  },
  "language_info": {
   "codemirror_mode": {
    "name": "ipython",
    "version": 3
   },
   "file_extension": ".py",
   "mimetype": "text/x-python",
   "name": "python",
   "nbconvert_exporter": "python",
   "pygments_lexer": "ipython3",
   "version": "3.13.2"
  }
 },
 "nbformat": 4,
 "nbformat_minor": 5
}
