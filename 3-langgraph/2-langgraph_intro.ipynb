{
 "cells": [
  {
   "cell_type": "markdown",
   "id": "2a87915d",
   "metadata": {},
   "source": [
    "### Example: 1"
   ]
  },
  {
   "cell_type": "code",
   "execution_count": 67,
   "id": "0878474f",
   "metadata": {},
   "outputs": [
    {
     "data": {
      "image/png": "[encoded data removed]",
      "text/plain": [
       "<IPython.core.display.Image object>"
      ]
     },
     "metadata": {},
     "output_type": "display_data"
    },
    {
     "name": "stdout",
     "output_type": "stream",
     "text": [
      "[fun1]: input - Bhagwat\n",
      "[fun1]: output - Bhagwat from fun1\n",
      "[fun2]: input - Bhagwat from fun1\n",
      "[fun2]: output - Bhagwat from fun1 Chate from fun2\n"
     ]
    },
    {
     "data": {
      "text/plain": [
       "'Bhagwat from fun1 Chate from fun2'"
      ]
     },
     "execution_count": 67,
     "metadata": {},
     "output_type": "execute_result"
    }
   ],
   "source": [
    "from langgraph.graph import Graph\n",
    "from IPython.display import Image, display\n",
    "\n",
    "def fun1(input1):\n",
    "    print(f'[fun1]: input - {input1}')\n",
    "    result = input1 + ' from fun1'\n",
    "    print(f'[fun1]: output - {result}')\n",
    "    return result\n",
    "\n",
    "def fun2(input2):\n",
    "    print(f'[fun2]: input - {input2}')\n",
    "    result = input2 + ' Chate from fun2'\n",
    "    print(f'[fun2]: output - {result}')\n",
    "    return result\n",
    "\n",
    "graph = Graph()\n",
    "\n",
    "graph.add_node('fun1', fun1)\n",
    "graph.add_node('fun2', fun2)\n",
    "\n",
    "graph.add_edge('fun1', 'fun2')\n",
    "\n",
    "graph.set_entry_point('fun1')\n",
    "graph.set_finish_point('fun2')\n",
    "\n",
    "app = graph.compile()\n",
    "display(Image(app.get_graph().draw_mermaid_png()))\n",
    "\n",
    "app.invoke('Bhagwat')"
   ]
  },
  {
   "cell_type": "markdown",
   "id": "7bdf4f60",
   "metadata": {},
   "source": [
    "## Example 2"
   ]
  },
  {
   "cell_type": "code",
   "execution_count": 68,
   "id": "8c57c1aa",
   "metadata": {},
   "outputs": [
    {
     "data": {
      "image/png": "[encoded data removed]",
      "text/plain": [
       "<IPython.core.display.Image object>"
      ]
     },
     "metadata": {},
     "output_type": "display_data"
    },
    {
     "name": "stdout",
     "output_type": "stream",
     "text": [
      "[my_llm] Input: TATA enterprise\n",
      "[my_llm] Output: Tata Enterprises is a massive Indian multinational conglomerate headquartered in Mumbai, Maharashtra.  It's not a single entity, but a group of over 100 independent operating companies, collectively known as Tata companies.  These companies operate in a diverse range of sectors, including:\n",
      "\n",
      "* **Automotive:** Tata Motors (cars, trucks, buses), Jaguar Land Rover\n",
      "* **Steel:** Tata Steel\n",
      "* **Information Technology:** Tata Consultancy Services (TCS), Tata Elxsi\n",
      "* **Consumer Goods:** Tata Consumer Products (tea, coffee, salt, etc.), Titan Company (watches, jewellery), BigBasket (online grocery)\n",
      "* **Chemicals:** Tata Chemicals\n",
      "* **Power:** Tata Power\n",
      "* **Telecommunications:** Tata Teleservices (though significantly reduced in scale)\n",
      "* **Hospitality:** Taj Hotels Resorts and Palaces, Indian Hotels Company\n",
      "* **Aerospace & Defence:** Tata Advanced Systems\n",
      "\n",
      "**Key Characteristics of Tata Enterprises:**\n",
      "\n",
      "* **Size and Scale:** One of the largest and oldest conglomerates in India, with a global presence.\n",
      "* **Diversity:** Operates across a wide spectrum of industries.\n",
      "* **Reputation:** Known for its ethical business practices, commitment to social responsibility, and strong brand reputation.\n",
      "* **Ownership Structure:**  Primarily owned by philanthropic trusts, which reinvest profits back into the company and social causes.  This unique structure contributes to its long-term vision and focus on sustainability.\n",
      "* **History:** A long and storied history dating back to 1868.\n",
      "\n",
      "In short, \"Tata Enterprises\" is a sprawling and influential business empire, a significant contributor to the Indian economy, and a recognizable brand worldwide.  To understand a specific aspect of Tata Enterprises, it's best to specify the particular company within the group (e.g., \"Tata Motors,\" \"TCS\").\n",
      "[get_token_count] Input: Tata Enterprises is a massive Indian multinational conglomerate headquartered in Mumbai, Maharashtra.  It's not a single entity, but a group of over 100 independent operating companies, collectively known as Tata companies.  These companies operate in a diverse range of sectors, including:\n",
      "\n",
      "* **Automotive:** Tata Motors (cars, trucks, buses), Jaguar Land Rover\n",
      "* **Steel:** Tata Steel\n",
      "* **Information Technology:** Tata Consultancy Services (TCS), Tata Elxsi\n",
      "* **Consumer Goods:** Tata Consumer Products (tea, coffee, salt, etc.), Titan Company (watches, jewellery), BigBasket (online grocery)\n",
      "* **Chemicals:** Tata Chemicals\n",
      "* **Power:** Tata Power\n",
      "* **Telecommunications:** Tata Teleservices (though significantly reduced in scale)\n",
      "* **Hospitality:** Taj Hotels Resorts and Palaces, Indian Hotels Company\n",
      "* **Aerospace & Defence:** Tata Advanced Systems\n",
      "\n",
      "**Key Characteristics of Tata Enterprises:**\n",
      "\n",
      "* **Size and Scale:** One of the largest and oldest conglomerates in India, with a global presence.\n",
      "* **Diversity:** Operates across a wide spectrum of industries.\n",
      "* **Reputation:** Known for its ethical business practices, commitment to social responsibility, and strong brand reputation.\n",
      "* **Ownership Structure:**  Primarily owned by philanthropic trusts, which reinvest profits back into the company and social causes.  This unique structure contributes to its long-term vision and focus on sustainability.\n",
      "* **History:** A long and storied history dating back to 1868.\n",
      "\n",
      "In short, \"Tata Enterprises\" is a sprawling and influential business empire, a significant contributor to the Indian economy, and a recognizable brand worldwide.  To understand a specific aspect of Tata Enterprises, it's best to specify the particular company within the group (e.g., \"Tata Motors,\" \"TCS\").\n",
      "[get_token_count] Output: total tokens in the text: 248\n",
      "total tokens in the text: 248\n"
     ]
    }
   ],
   "source": [
    "import os\n",
    "from dotenv import load_dotenv\n",
    "load_dotenv()\n",
    "\n",
    "from langchain_google_genai import ChatGoogleGenerativeAI\n",
    "from IPython.display import Image, display\n",
    "\n",
    "os.environ['GOOGLE_API_KEY'] = os.getenv('GOOGLE_API_KEY')\n",
    "\n",
    "llm = ChatGoogleGenerativeAI(model='gemini-1.5-flash')\n",
    "\n",
    "def my_llm(topic: str) -> str:\n",
    "    print(f\"[my_llm] Input: {topic}\")\n",
    "    res = llm.invoke(topic)\n",
    "    print(f\"[my_llm] Output: {res.content}\")\n",
    "    return res.content\n",
    "\n",
    "def get_token_count(input_txt: str) -> str:\n",
    "    print(f\"[get_token_count] Input: {input_txt}\")\n",
    "    length = len(input_txt.split())\n",
    "    output = f\"total tokens in the text: {length}\"\n",
    "    print(f\"[get_token_count] Output: {output}\")\n",
    "    return output\n",
    "\n",
    "pipeline = Graph()\n",
    "\n",
    "pipeline.add_node('my_llm', my_llm)\n",
    "pipeline.add_node('get_token_count', get_token_count)\n",
    "\n",
    "pipeline.add_edge('my_llm', 'get_token_count')\n",
    "\n",
    "pipeline.set_entry_point('my_llm')\n",
    "pipeline.set_finish_point('get_token_count')\n",
    "\n",
    "app = pipeline.compile()\n",
    "\n",
    "display(Image(app.get_graph().draw_mermaid_png()))\n",
    "\n",
    "res = app.invoke('TATA enterprise')\n",
    "print(res)"
   ]
  },
  {
   "cell_type": "code",
   "execution_count": 69,
   "id": "e5811065",
   "metadata": {},
   "outputs": [
    {
     "name": "stdout",
     "output_type": "stream",
     "text": [
      "[my_llm] Input: tell me about the tata enterpirse in detail.\n",
      "[my_llm] Output: Tata Enterprises is not a single entity, but rather a vast and diverse conglomerate of companies under the Tata Group umbrella.  It's one of India's oldest and largest multinational conglomerates, with a presence across numerous sectors globally.  Understanding \"Tata Enterprises\" requires understanding the structure and scope of the Tata Group as a whole.\n",
      "\n",
      "Here's a breakdown of key aspects:\n",
      "\n",
      "**Structure and Ownership:**\n",
      "\n",
      "* **Holding Company:** Tata Sons is the principal investment holding company and the apex body of the Tata Group.  It doesn't directly operate businesses but holds stakes in various Tata operating companies.\n",
      "* **Subsidiaries and Associates:**  The Tata Group encompasses hundreds of operating companies, many of which are publicly listed on various stock exchanges.  These companies operate independently but share a common brand identity and often collaborate.  The structure is complex, with layers of subsidiaries and associated companies.\n",
      "* **Trust Ownership:** A significant portion of Tata Sons is owned by philanthropic trusts, ensuring a focus on social responsibility and long-term sustainability rather than short-term profit maximization.  This unique structure gives the group a distinct character compared to other purely profit-driven conglomerates.\n",
      "\n",
      "**Key Sectors and Businesses:**\n",
      "\n",
      "The Tata Group's reach is incredibly broad.  Some of the most prominent sectors include:\n",
      "\n",
      "* **Automotive:** Tata Motors (passenger vehicles, commercial vehicles, Jaguar Land Rover), Tata AutoComp Systems\n",
      "* **Steel:** Tata Steel (one of the world's largest steel producers)\n",
      "* **Information Technology:** Tata Consultancy Services (TCS, a leading global IT services company), Tata Elxsi (design and technology services), Tata Technologies (engineering and product development)\n",
      "* **Consumer Goods:** Tata Consumer Products (tea, coffee, salt, pulses, water), Tata Global Beverages (formerly Tetley Tea)\n",
      "* **Telecommunications:** Tata Teleservices (although significantly scaled down in recent years)\n",
      "* **Chemicals:** Tata Chemicals\n",
      "* **Power:** Tata Power\n",
      "* **Hospitality:** Indian Hotels Company (Taj Hotels)\n",
      "* **Aerospace & Defence:** Tata Advanced Systems\n",
      "* **Retail:** Trent (Westside, Star Bazaar)\n",
      "* **Financial Services:** Tata Capital, Tata AIA Life Insurance\n",
      "\n",
      "**Global Presence:**\n",
      "\n",
      "The Tata Group operates internationally, with significant presence in several countries, including the UK (through Jaguar Land Rover), the US, Europe, and several Asian countries.  Its global reach is a defining feature of its scale and ambition.\n",
      "\n",
      "**Values and Philosophy:**\n",
      "\n",
      "The Tata Group is known for its emphasis on:\n",
      "\n",
      "* **Ethical Business Practices:**  A strong emphasis on integrity, transparency, and social responsibility.\n",
      "* **Long-term Vision:**  Focus on sustainable growth and building long-term value rather than short-term profits.\n",
      "* **Employee Welfare:**  A reputation for valuing its employees and providing a supportive work environment.\n",
      "* **Philanthropy:**  Significant contributions to social causes through the Tata Trusts.\n",
      "\n",
      "**Challenges:**\n",
      "\n",
      "Despite its size and success, the Tata Group faces challenges, including:\n",
      "\n",
      "* **Competition:** Intense competition in various sectors, both domestically and internationally.\n",
      "* **Economic Fluctuations:**  Vulnerability to global economic downturns.\n",
      "* **Managing a Diverse Portfolio:**  The complexity of managing such a diverse range of businesses.\n",
      "* **Succession Planning:**  Ensuring smooth leadership transitions within the group.\n",
      "\n",
      "\n",
      "In conclusion, \"Tata Enterprises\" is a vast and complex network of companies, operating across a wide array of sectors globally.  It's characterized by its unique ownership structure, emphasis on ethical business practices, and long-term vision, making it a significant player in the global economy and a prominent example of Indian industrial might.  To truly understand any specific aspect, you'd need to delve deeper into the individual companies within the group.\n",
      "here is output from my_llm\n",
      "_______\n",
      "Tata Enterprises is not a single entity, but rather a vast and diverse conglomerate of companies under the Tata Group umbrella.  It's one of India's oldest and largest multinational conglomerates, with a presence across numerous sectors globally.  Understanding \"Tata Enterprises\" requires understanding the structure and scope of the Tata Group as a whole.\n",
      "\n",
      "Here's a breakdown of key aspects:\n",
      "\n",
      "**Structure and Ownership:**\n",
      "\n",
      "* **Holding Company:** Tata Sons is the principal investment holding company and the apex body of the Tata Group.  It doesn't directly operate businesses but holds stakes in various Tata operating companies.\n",
      "* **Subsidiaries and Associates:**  The Tata Group encompasses hundreds of operating companies, many of which are publicly listed on various stock exchanges.  These companies operate independently but share a common brand identity and often collaborate.  The structure is complex, with layers of subsidiaries and associated companies.\n",
      "* **Trust Ownership:** A significant portion of Tata Sons is owned by philanthropic trusts, ensuring a focus on social responsibility and long-term sustainability rather than short-term profit maximization.  This unique structure gives the group a distinct character compared to other purely profit-driven conglomerates.\n",
      "\n",
      "**Key Sectors and Businesses:**\n",
      "\n",
      "The Tata Group's reach is incredibly broad.  Some of the most prominent sectors include:\n",
      "\n",
      "* **Automotive:** Tata Motors (passenger vehicles, commercial vehicles, Jaguar Land Rover), Tata AutoComp Systems\n",
      "* **Steel:** Tata Steel (one of the world's largest steel producers)\n",
      "* **Information Technology:** Tata Consultancy Services (TCS, a leading global IT services company), Tata Elxsi (design and technology services), Tata Technologies (engineering and product development)\n",
      "* **Consumer Goods:** Tata Consumer Products (tea, coffee, salt, pulses, water), Tata Global Beverages (formerly Tetley Tea)\n",
      "* **Telecommunications:** Tata Teleservices (although significantly scaled down in recent years)\n",
      "* **Chemicals:** Tata Chemicals\n",
      "* **Power:** Tata Power\n",
      "* **Hospitality:** Indian Hotels Company (Taj Hotels)\n",
      "* **Aerospace & Defence:** Tata Advanced Systems\n",
      "* **Retail:** Trent (Westside, Star Bazaar)\n",
      "* **Financial Services:** Tata Capital, Tata AIA Life Insurance\n",
      "\n",
      "**Global Presence:**\n",
      "\n",
      "The Tata Group operates internationally, with significant presence in several countries, including the UK (through Jaguar Land Rover), the US, Europe, and several Asian countries.  Its global reach is a defining feature of its scale and ambition.\n",
      "\n",
      "**Values and Philosophy:**\n",
      "\n",
      "The Tata Group is known for its emphasis on:\n",
      "\n",
      "* **Ethical Business Practices:**  A strong emphasis on integrity, transparency, and social responsibility.\n",
      "* **Long-term Vision:**  Focus on sustainable growth and building long-term value rather than short-term profits.\n",
      "* **Employee Welfare:**  A reputation for valuing its employees and providing a supportive work environment.\n",
      "* **Philanthropy:**  Significant contributions to social causes through the Tata Trusts.\n",
      "\n",
      "**Challenges:**\n",
      "\n",
      "Despite its size and success, the Tata Group faces challenges, including:\n",
      "\n",
      "* **Competition:** Intense competition in various sectors, both domestically and internationally.\n",
      "* **Economic Fluctuations:**  Vulnerability to global economic downturns.\n",
      "* **Managing a Diverse Portfolio:**  The complexity of managing such a diverse range of businesses.\n",
      "* **Succession Planning:**  Ensuring smooth leadership transitions within the group.\n",
      "\n",
      "\n",
      "In conclusion, \"Tata Enterprises\" is a vast and complex network of companies, operating across a wide array of sectors globally.  It's characterized by its unique ownership structure, emphasis on ethical business practices, and long-term vision, making it a significant player in the global economy and a prominent example of Indian industrial might.  To truly understand any specific aspect, you'd need to delve deeper into the individual companies within the group.\n",
      "\n",
      "\n",
      "[get_token_count] Input: Tata Enterprises is not a single entity, but rather a vast and diverse conglomerate of companies under the Tata Group umbrella.  It's one of India's oldest and largest multinational conglomerates, with a presence across numerous sectors globally.  Understanding \"Tata Enterprises\" requires understanding the structure and scope of the Tata Group as a whole.\n",
      "\n",
      "Here's a breakdown of key aspects:\n",
      "\n",
      "**Structure and Ownership:**\n",
      "\n",
      "* **Holding Company:** Tata Sons is the principal investment holding company and the apex body of the Tata Group.  It doesn't directly operate businesses but holds stakes in various Tata operating companies.\n",
      "* **Subsidiaries and Associates:**  The Tata Group encompasses hundreds of operating companies, many of which are publicly listed on various stock exchanges.  These companies operate independently but share a common brand identity and often collaborate.  The structure is complex, with layers of subsidiaries and associated companies.\n",
      "* **Trust Ownership:** A significant portion of Tata Sons is owned by philanthropic trusts, ensuring a focus on social responsibility and long-term sustainability rather than short-term profit maximization.  This unique structure gives the group a distinct character compared to other purely profit-driven conglomerates.\n",
      "\n",
      "**Key Sectors and Businesses:**\n",
      "\n",
      "The Tata Group's reach is incredibly broad.  Some of the most prominent sectors include:\n",
      "\n",
      "* **Automotive:** Tata Motors (passenger vehicles, commercial vehicles, Jaguar Land Rover), Tata AutoComp Systems\n",
      "* **Steel:** Tata Steel (one of the world's largest steel producers)\n",
      "* **Information Technology:** Tata Consultancy Services (TCS, a leading global IT services company), Tata Elxsi (design and technology services), Tata Technologies (engineering and product development)\n",
      "* **Consumer Goods:** Tata Consumer Products (tea, coffee, salt, pulses, water), Tata Global Beverages (formerly Tetley Tea)\n",
      "* **Telecommunications:** Tata Teleservices (although significantly scaled down in recent years)\n",
      "* **Chemicals:** Tata Chemicals\n",
      "* **Power:** Tata Power\n",
      "* **Hospitality:** Indian Hotels Company (Taj Hotels)\n",
      "* **Aerospace & Defence:** Tata Advanced Systems\n",
      "* **Retail:** Trent (Westside, Star Bazaar)\n",
      "* **Financial Services:** Tata Capital, Tata AIA Life Insurance\n",
      "\n",
      "**Global Presence:**\n",
      "\n",
      "The Tata Group operates internationally, with significant presence in several countries, including the UK (through Jaguar Land Rover), the US, Europe, and several Asian countries.  Its global reach is a defining feature of its scale and ambition.\n",
      "\n",
      "**Values and Philosophy:**\n",
      "\n",
      "The Tata Group is known for its emphasis on:\n",
      "\n",
      "* **Ethical Business Practices:**  A strong emphasis on integrity, transparency, and social responsibility.\n",
      "* **Long-term Vision:**  Focus on sustainable growth and building long-term value rather than short-term profits.\n",
      "* **Employee Welfare:**  A reputation for valuing its employees and providing a supportive work environment.\n",
      "* **Philanthropy:**  Significant contributions to social causes through the Tata Trusts.\n",
      "\n",
      "**Challenges:**\n",
      "\n",
      "Despite its size and success, the Tata Group faces challenges, including:\n",
      "\n",
      "* **Competition:** Intense competition in various sectors, both domestically and internationally.\n",
      "* **Economic Fluctuations:**  Vulnerability to global economic downturns.\n",
      "* **Managing a Diverse Portfolio:**  The complexity of managing such a diverse range of businesses.\n",
      "* **Succession Planning:**  Ensuring smooth leadership transitions within the group.\n",
      "\n",
      "\n",
      "In conclusion, \"Tata Enterprises\" is a vast and complex network of companies, operating across a wide array of sectors globally.  It's characterized by its unique ownership structure, emphasis on ethical business practices, and long-term vision, making it a significant player in the global economy and a prominent example of Indian industrial might.  To truly understand any specific aspect, you'd need to delve deeper into the individual companies within the group.\n",
      "[get_token_count] Output: total tokens in the text: 547\n",
      "here is output from get_token_count\n",
      "_______\n",
      "total tokens in the text: 547\n",
      "\n",
      "\n"
     ]
    }
   ],
   "source": [
    "for output in app.stream(\"tell me about the tata enterpirse in detail.\"):\n",
    "    for key,value in output.items():\n",
    "        print(f\"here is output from {key}\")\n",
    "        print(\"_______\")\n",
    "        print(value)\n",
    "        print(\"\\n\")"
   ]
  },
  {
   "cell_type": "markdown",
   "id": "5161fbed",
   "metadata": {},
   "source": [
    "## Example: 3"
   ]
  },
  {
   "cell_type": "code",
   "execution_count": 4,
   "id": "3b49067f",
   "metadata": {},
   "outputs": [
    {
     "name": "stdout",
     "output_type": "stream",
     "text": [
      "Hi there! How can I help you today?\n"
     ]
    }
   ],
   "source": [
    "import warnings\n",
    "warnings.filterwarnings('ignore')\n",
    "\n",
    "from langchain_google_genai import ChatGoogleGenerativeAI\n",
    "\n",
    "model=ChatGoogleGenerativeAI(model='gemini-1.5-flash')\n",
    "\n",
    "output=model.invoke(\"hi\")\n",
    "\n",
    "print(output.content)"
   ]
  },
  {
   "cell_type": "code",
   "execution_count": 2,
   "id": "8a16c651",
   "metadata": {},
   "outputs": [
    {
     "name": "stderr",
     "output_type": "stream",
     "text": [
      "e:\\Learning\\Agentic_AI_V2\\1-Pydantic\\venv\\Lib\\site-packages\\tqdm\\auto.py:21: TqdmWarning: IProgress not found. Please update jupyter and ipywidgets. See https://ipywidgets.readthedocs.io/en/stable/user_install.html\n",
      "  from .autonotebook import tqdm as notebook_tqdm\n",
      "e:\\Learning\\Agentic_AI_V2\\1-Pydantic\\venv\\Lib\\site-packages\\huggingface_hub\\file_download.py:143: UserWarning: `huggingface_hub` cache-system uses symlinks by default to efficiently store duplicated files but your machine does not support them in C:\\Users\\Bhagwat\\.cache\\huggingface\\hub\\models--BAAI--bge-small-en. Caching files will still work but in a degraded version that might require more space on your disk. This warning can be disabled by setting the `HF_HUB_DISABLE_SYMLINKS_WARNING` environment variable. For more details, see https://huggingface.co/docs/huggingface_hub/how-to-cache#limitations.\n",
      "To support symlinks on Windows, you either need to activate Developer Mode or to run Python as an administrator. In order to activate developer mode, see this article: https://docs.microsoft.com/en-us/windows/apps/get-started/enable-your-device-for-development\n",
      "  warnings.warn(message)\n",
      "Xet Storage is enabled for this repo, but the 'hf_xet' package is not installed. Falling back to regular HTTP download. For better performance, install the package with: `pip install huggingface_hub[hf_xet]` or `pip install hf_xet`\n"
     ]
    },
    {
     "data": {
      "text/plain": [
       "384"
      ]
     },
     "execution_count": 2,
     "metadata": {},
     "output_type": "execute_result"
    }
   ],
   "source": [
    "from langchain_huggingface import HuggingFaceEmbeddings\n",
    "embeddings = HuggingFaceEmbeddings(model_name=\"BAAI/bge-small-en\")\n",
    "len(embeddings.embed_query(\"hi\"))"
   ]
  },
  {
   "cell_type": "code",
   "execution_count": 7,
   "id": "06936084",
   "metadata": {},
   "outputs": [],
   "source": [
    "from langchain_community.document_loaders import TextLoader, DirectoryLoader\n",
    "from langchain_community.vectorstores import Chroma\n",
    "from langchain.text_splitter import RecursiveCharacterTextSplitter"
   ]
  },
  {
   "cell_type": "code",
   "execution_count": 24,
   "id": "438fd568",
   "metadata": {},
   "outputs": [],
   "source": [
    "loader = DirectoryLoader(r\"3-langgraph\\\\data\", glob=\"**\\\\*.txt\", loader_cls=TextLoader)\n",
    "# docs=loader.load()"
   ]
  },
  {
   "cell_type": "code",
   "execution_count": 17,
   "id": "b99a5699",
   "metadata": {},
   "outputs": [],
   "source": [
    "text_splitter=RecursiveCharacterTextSplitter(\n",
    "    chunk_size=200,\n",
    "    chunk_overlap=50\n",
    ")"
   ]
  },
  {
   "cell_type": "code",
   "execution_count": 18,
   "id": "bc5b5871",
   "metadata": {},
   "outputs": [
    {
     "ename": "NameError",
     "evalue": "name 'docs' is not defined",
     "output_type": "error",
     "traceback": [
      "\u001b[31m---------------------------------------------------------------------------\u001b[39m",
      "\u001b[31mNameError\u001b[39m                                 Traceback (most recent call last)",
      "\u001b[36mCell\u001b[39m\u001b[36m \u001b[39m\u001b[32mIn[18]\u001b[39m\u001b[32m, line 1\u001b[39m\n\u001b[32m----> \u001b[39m\u001b[32m1\u001b[39m new_docs=text_splitter.split_documents(documents=\u001b[43mdocs\u001b[49m)\n\u001b[32m      2\u001b[39m doc_string=[doc.page_content \u001b[38;5;28;01mfor\u001b[39;00m doc \u001b[38;5;129;01min\u001b[39;00m new_docs]\n",
      "\u001b[31mNameError\u001b[39m: name 'docs' is not defined"
     ]
    }
   ],
   "source": [
    "new_docs=text_splitter.split_documents(documents=docs)\n",
    "doc_string=[doc.page_content for doc in new_docs]"
   ]
  },
  {
   "cell_type": "code",
   "execution_count": null,
   "id": "2922d44d",
   "metadata": {},
   "outputs": [],
   "source": []
  },
  {
   "cell_type": "code",
   "execution_count": null,
   "id": "d2cd3a1a",
   "metadata": {},
   "outputs": [],
   "source": []
  },
  {
   "cell_type": "code",
   "execution_count": null,
   "id": "8f008860",
   "metadata": {},
   "outputs": [],
   "source": []
  }
 ],
 "metadata": {
  "kernelspec": {
   "display_name": "Python 3",
   "language": "python",
   "name": "python3"
  },
  "language_info": {
   "codemirror_mode": {
    "name": "ipython",
    "version": 3
   },
   "file_extension": ".py",
   "mimetype": "text/x-python",
   "name": "python",
   "nbconvert_exporter": "python",
   "pygments_lexer": "ipython3",
   "version": "3.13.2"
  }
 },
 "nbformat": 4,
 "nbformat_minor": 5
}
