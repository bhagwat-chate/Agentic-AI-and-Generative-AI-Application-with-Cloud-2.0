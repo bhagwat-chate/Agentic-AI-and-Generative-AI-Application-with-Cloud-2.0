{
 "cells": [
  {
   "cell_type": "markdown",
   "id": "d1bc597f",
   "metadata": {},
   "source": [
    "### RAG\n",
    "* Agentic RAG\n",
    "* Corrective RAG"
   ]
  },
  {
   "cell_type": "markdown",
   "id": "251b9aca",
   "metadata": {},
   "source": [
    "### Agentic RAG Types\n",
    "* Data Ingestion\n",
    "* Data Retrieval\n",
    "* Data Generation"
   ]
  },
  {
   "cell_type": "markdown",
   "id": "52db2867",
   "metadata": {},
   "source": []
  },
  {
   "cell_type": "markdown",
   "id": "c5ded6ad",
   "metadata": {},
   "source": []
  },
  {
   "cell_type": "markdown",
   "id": "c5aa8991",
   "metadata": {},
   "source": []
  },
  {
   "cell_type": "markdown",
   "id": "9e37a833",
   "metadata": {},
   "source": []
  },
  {
   "cell_type": "markdown",
   "id": "27bfd100",
   "metadata": {},
   "source": []
  }
 ],
 "metadata": {
  "language_info": {
   "name": "python"
  }
 },
 "nbformat": 4,
 "nbformat_minor": 5
}
