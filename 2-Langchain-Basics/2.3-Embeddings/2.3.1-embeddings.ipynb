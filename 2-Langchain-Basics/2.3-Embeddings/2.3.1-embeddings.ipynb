{
 "cells": [
  {
   "cell_type": "markdown",
   "id": "4a3ef6e5",
   "metadata": {},
   "source": []
  },
  {
   "cell_type": "code",
   "execution_count": 41,
   "id": "5b94cfcd",
   "metadata": {},
   "outputs": [],
   "source": [
    "import os\n",
    "import faiss\n",
    "import warnings\n",
    "from langchain_openai import OpenAIEmbeddings\n",
    "from dotenv import load_dotenv\n",
    "from langchain_huggingface import HuggingFaceEmbeddings\n",
    "from sklearn.metrics.pairwise import cosine_similarity\n",
    "from langchain_community.vectorstores import FAISS\n",
    "from langchain_community.docstore.in_memory import InMemoryDocstore\n",
    "\n",
    "warnings.filterwarnings('ignore')\n",
    "load_dotenv()\n",
    "\n",
    "os.environ['OPENAI_API_KEY'] = os.getenv('OPENAI_API_KEY')\n",
    "os.environ['HF_TOKEN'] = os.getenv('HF_TOKEN')\n",
    "\n",
    "os.environ['LANGSMITH_PROJECT'] = os.getenv(\"LANGSMITH_PROJECT\")\n",
    "os.environ['LANGSMITH_API_KEY'] = os.getenv(\"LANGSMITH_API_KEY\")\n",
    "os.environ['LANGSMITH_ENDPOINT'] = os.getenv(\"LANGSMITH_ENDPOINT\")\n",
    "os.environ['LANGSMITH_TRACING'] = os.getenv(\"LANGSMITH_TRACING\")"
   ]
  },
  {
   "cell_type": "markdown",
   "id": "888abbae",
   "metadata": {},
   "source": [
    "OpenAI Embeddings"
   ]
  },
  {
   "cell_type": "code",
   "execution_count": 42,
   "id": "f23cbbac",
   "metadata": {},
   "outputs": [],
   "source": [
    "embeddings_openai = OpenAIEmbeddings(model=\"text-embedding-3-large\")\n",
    "\n",
    "text = 'My name is Bhagwat Chate'\n",
    "\n",
    "# query_result = embeddings_openai.embed_query(text=text)\n",
    "# print(len(query_result))\n",
    "\n",
    "# query_result = embeddings_openai.embed_query(text=text, dimensions=1024)\n",
    "# print(len(query_result))"
   ]
  },
  {
   "cell_type": "code",
   "execution_count": 43,
   "id": "c31b6c79",
   "metadata": {},
   "outputs": [
    {
     "name": "stdout",
     "output_type": "stream",
     "text": [
      "384\n"
     ]
    }
   ],
   "source": [
    "embeddings_hf = HuggingFaceEmbeddings(model_name=\"all-MiniLM-L6-v2\")\n",
    "query_result = embeddings_hf.embed_query(text)\n",
    "print(len(query_result))"
   ]
  },
  {
   "cell_type": "code",
   "execution_count": 44,
   "id": "0395db21",
   "metadata": {},
   "outputs": [
    {
     "data": {
      "text/plain": [
       "array([[0.29896229, 0.68161931, 0.43833797]])"
      ]
     },
     "execution_count": 44,
     "metadata": {},
     "output_type": "execute_result"
    }
   ],
   "source": [
    "docs = [\"India is great\", \n",
    "        \"India own 1983,2011 ODI world cup\", \n",
    "        \"India own T20 world cup in 2007, 2025\"]\n",
    "query1 = \"who is the 2011 odi world cup winner\"\n",
    "query2 = \"For Nuclear power what is the policy of Republic of India\"\n",
    "\n",
    "docs_embed = embeddings_hf.embed_documents(docs)\n",
    "\n",
    "query_embed = embeddings_hf.embed_query(query1)\n",
    "\n",
    "cosine_similarity([query_embed], docs_embed)"
   ]
  },
  {
   "cell_type": "markdown",
   "id": "f37d0968",
   "metadata": {},
   "source": [
    "#### Meaning:\n",
    "* 0.2989 = similarity between query and doc[0] (\"India is great\")\n",
    "* 0.6816 = similarity between query and doc[1] (\"India own 1983,2011 ODI world cup\")\n",
    "* 0.4383 = similarity between query and doc[2] (\"India own T20 world cup in 2007, 2025\")\n",
    "\n",
    "#### How to interpret these values:\n",
    "* +1        → perfect match in meaning/direction\n",
    "* 0.7+      → strong semantic similarity \n",
    "* 0.5–0.7   → moderate similarity\n",
    "* 0.3–0.5   → weak relevance\n",
    "* < 0.3     → not very related\n",
    "\n",
    "Cosine similarity ranges from -1 to +1\n"
   ]
  },
  {
   "cell_type": "code",
   "execution_count": 51,
   "id": "880aa47c",
   "metadata": {},
   "outputs": [],
   "source": [
    "index = faiss.IndexFlatL2(384)"
   ]
  },
  {
   "cell_type": "markdown",
   "id": "3e268709",
   "metadata": {},
   "source": [
    "| Feature               | `Flat`                | `IVF` (Inverted File Index)        | `HNSW` (Graph-based Index)          |\n",
    "| --------------------- | --------------------- | ---------------------------------- | ----------------------------------- |\n",
    "| Type of Search     | Exact                 | Approximate (cluster-based)        | Approximate (graph-based traversal) |\n",
    "| Speed               | Slow (linear scan)    | Fast (search only in top clusters) | Very Fast (graph walk)              |\n"
   ]
  },
  {
   "cell_type": "markdown",
   "id": "47e4a586",
   "metadata": {},
   "source": [
    "| Dataset Size              | Recommended Index                 |\n",
    "| ------------------------- | --------------------------------- |\n",
    "| UPTO 1L                     | `IndexFlatL2` or `IndexFlatIP`    |\n",
    "| UPTO 1M                  | `IndexIVFFlat` or `IndexHNSWFlat` |\n",
    "| > 1M                      | `IndexIVFPQ` or `IndexHNSWFlat`   |\n"
   ]
  },
  {
   "cell_type": "code",
   "execution_count": 55,
   "id": "004fc8fe",
   "metadata": {},
   "outputs": [],
   "source": [
    "vector_store = FAISS(embedding_function=embeddings_hf,\n",
    "                     index=index,\n",
    "                     docstore=InMemoryDocstore(),\n",
    "                     index_to_docstore_id={})"
   ]
  },
  {
   "cell_type": "code",
   "execution_count": 53,
   "id": "aaf509a2",
   "metadata": {},
   "outputs": [
    {
     "data": {
      "text/plain": [
       "['India is great',\n",
       " 'India own 1983,2011 ODI world cup',\n",
       " 'India own T20 world cup in 2007, 2025']"
      ]
     },
     "execution_count": 53,
     "metadata": {},
     "output_type": "execute_result"
    }
   ],
   "source": [
    "docs"
   ]
  },
  {
   "cell_type": "code",
   "execution_count": 56,
   "id": "8b5d30b5",
   "metadata": {},
   "outputs": [
    {
     "data": {
      "text/plain": [
       "['e868b3ea-516c-4390-b120-04981ec4ea25',\n",
       " '02a6f4f4-b765-49b0-a245-90a032391448',\n",
       " '3febb929-8e6d-4fff-b6a1-be84966b26b6']"
      ]
     },
     "execution_count": 56,
     "metadata": {},
     "output_type": "execute_result"
    }
   ],
   "source": [
    "vector_store.add_texts(['India is great',\n",
    " 'India own 1983,2011 ODI world cup',\n",
    " 'India own T20 world cup in 2007, 2025'])"
   ]
  },
  {
   "cell_type": "markdown",
   "id": "ace9e5a3",
   "metadata": {},
   "source": [
    "means that your three input texts were successfully embedded and stored in the FAISS vector store, and they were each assigned a unique UUID-based document ID internally by LangChain."
   ]
  },
  {
   "cell_type": "code",
   "execution_count": 57,
   "id": "6440b8b9",
   "metadata": {},
   "outputs": [
    {
     "data": {
      "text/plain": [
       "{0: 'e868b3ea-516c-4390-b120-04981ec4ea25',\n",
       " 1: '02a6f4f4-b765-49b0-a245-90a032391448',\n",
       " 2: '3febb929-8e6d-4fff-b6a1-be84966b26b6'}"
      ]
     },
     "execution_count": 57,
     "metadata": {},
     "output_type": "execute_result"
    }
   ],
   "source": [
    "vector_store.index_to_docstore_id"
   ]
  },
  {
   "cell_type": "code",
   "execution_count": 58,
   "id": "76cdc587",
   "metadata": {},
   "outputs": [
    {
     "data": {
      "text/plain": [
       "[Document(id='e868b3ea-516c-4390-b120-04981ec4ea25', metadata={}, page_content='India is great')]"
      ]
     },
     "execution_count": 58,
     "metadata": {},
     "output_type": "execute_result"
    }
   ],
   "source": [
    "results = vector_store.similarity_search(\"About which country we are talking here?\", k=1)\n",
    "results"
   ]
  },
  {
   "cell_type": "markdown",
   "id": "0bad286e",
   "metadata": {},
   "source": [
    "Example: 2"
   ]
  },
  {
   "cell_type": "code",
   "execution_count": 74,
   "id": "d9048302",
   "metadata": {},
   "outputs": [],
   "source": [
    "# from uuid import uuid4\n",
    "from langchain_core.documents import Document\n",
    "\n",
    "document_1 = Document(\n",
    "    page_content=\"I had chocolate chip pancakes and scrambled eggs for breakfast this morning.\",\n",
    "    metadata={\"source\": \"tweet\"},\n",
    ")\n",
    "\n",
    "document_2 = Document(\n",
    "    page_content=\"The weather forecast for tomorrow is cloudy and overcast, with a high of 62 degrees.\",\n",
    "    metadata={\"source\": \"news\"},\n",
    ")\n",
    "\n",
    "document_3 = Document(\n",
    "    page_content=\"Building an exciting new project with LangChain - come check it out!\",\n",
    "    metadata={\"source\": \"tweet\"},\n",
    ")\n",
    "\n",
    "document_4 = Document(\n",
    "    page_content=\"Robbers broke into the city bank and stole $1 million in cash.\",\n",
    "    metadata={\"source\": \"news\"},\n",
    ")\n",
    "\n",
    "document_5 = Document(\n",
    "    page_content=\"Wow! That was an amazing movie. I can't wait to see it again.\",\n",
    "    metadata={\"source\": \"tweet\"},\n",
    ")\n",
    "\n",
    "document_6 = Document(\n",
    "    page_content=\"Is the new iPhone worth the price? Read this review to find out.\",\n",
    "    metadata={\"source\": \"website\"},\n",
    ")\n",
    "\n",
    "document_7 = Document(\n",
    "    page_content=\"The top 10 soccer players in the world right now.\",\n",
    "    metadata={\"source\": \"website\"},\n",
    ")\n",
    "\n",
    "document_8 = Document(\n",
    "    page_content=\"LangGraph is the best framework for building stateful, agentic applications!\",\n",
    "    metadata={\"source\": \"tweet\"},\n",
    ")\n",
    "\n",
    "document_9 = Document(\n",
    "    page_content=\"The stock market is down 500 points today due to fears of a recession.\",\n",
    "    metadata={\"source\": \"news\"},\n",
    ")\n",
    "\n",
    "document_10 = Document(\n",
    "    page_content=\"I have a bad feeling I am going to get deleted :(\",\n",
    "    metadata={\"source\": \"tweet\"},\n",
    ")\n",
    "\n",
    "documents = [\n",
    "    document_1,\n",
    "    document_2,\n",
    "    document_3,\n",
    "    document_4,\n",
    "    document_5,\n",
    "    document_6,\n",
    "    document_7,\n",
    "    document_8,\n",
    "    document_9,\n",
    "    document_10,\n",
    "]"
   ]
  },
  {
   "cell_type": "code",
   "execution_count": 75,
   "id": "77564489",
   "metadata": {},
   "outputs": [
    {
     "data": {
      "text/plain": [
       "['91fd5d2e-d433-468e-b720-a8004d8412e2',\n",
       " '1bb8c2b6-ff08-40a1-9842-1a27854091af',\n",
       " '3bfa8a9d-57ee-4d4a-aff2-7624dcffff11',\n",
       " '3b6eea5f-2f75-4b40-936f-0a7de0d27aa6',\n",
       " 'a8a75944-88f5-41b3-9fa0-ae65a39f9d3b',\n",
       " '3b2f6980-b024-4a77-9990-3e61e2f004c4',\n",
       " '0e2c119d-0782-4bf8-9c5c-50ecd02ebc8c',\n",
       " '2c27f9e3-57f2-4ecf-a3cc-feab411245a4',\n",
       " '9f6183b5-f7a2-4715-9315-973e6e5712cb',\n",
       " '54e7081f-4271-4d64-a3ef-53e969ab90d9']"
      ]
     },
     "execution_count": 75,
     "metadata": {},
     "output_type": "execute_result"
    }
   ],
   "source": [
    "index2 = faiss.IndexFlatIP(384)\n",
    "\n",
    "vector_store2 = FAISS.from_documents(\n",
    "    documents=documents,\n",
    "    embedding=embeddings_hf\n",
    ")\n",
    "\n",
    "vector_store2.add_documents(documents=documents)"
   ]
  },
  {
   "cell_type": "code",
   "execution_count": 78,
   "id": "3b5041c7",
   "metadata": {},
   "outputs": [
    {
     "data": {
      "text/plain": [
       "[Document(id='5712654a-e14b-48dd-8d63-10587f2cae54', metadata={'source': 'tweet'}, page_content='Building an exciting new project with LangChain - come check it out!'),\n",
       " Document(id='3bfa8a9d-57ee-4d4a-aff2-7624dcffff11', metadata={'source': 'tweet'}, page_content='Building an exciting new project with LangChain - come check it out!'),\n",
       " Document(id='0fea67ef-53e8-4aa3-a68f-b2aba29f8a19', metadata={'source': 'tweet'}, page_content='LangGraph is the best framework for building stateful, agentic applications!')]"
      ]
     },
     "execution_count": 78,
     "metadata": {},
     "output_type": "execute_result"
    }
   ],
   "source": [
    "vector_store2.similarity_search(\n",
    "    \"LangChain provides abstractions to make working with LLMs easy\",\n",
    "    k=3 #hyperparameter\n",
    ")"
   ]
  },
  {
   "cell_type": "code",
   "execution_count": 82,
   "id": "be5ba29c",
   "metadata": {},
   "outputs": [],
   "source": [
    "result = vector_store2.similarity_search(\n",
    "    \"LangChain provides abstractions to make working with LLMs easy\",\n",
    "    k=3, #hyperparameter\n",
    "    filter={'source':{\"$eq\":\"tweet\"}}\n",
    ")"
   ]
  },
  {
   "cell_type": "code",
   "execution_count": 83,
   "id": "3046f028",
   "metadata": {},
   "outputs": [
    {
     "data": {
      "text/plain": [
       "'Building an exciting new project with LangChain - come check it out!'"
      ]
     },
     "execution_count": 83,
     "metadata": {},
     "output_type": "execute_result"
    }
   ],
   "source": [
    "result[0].page_content"
   ]
  },
  {
   "cell_type": "code",
   "execution_count": null,
   "id": "328b7c62",
   "metadata": {},
   "outputs": [],
   "source": []
  }
 ],
 "metadata": {
  "kernelspec": {
   "display_name": "Python 3",
   "language": "python",
   "name": "python3"
  },
  "language_info": {
   "codemirror_mode": {
    "name": "ipython",
    "version": 3
   },
   "file_extension": ".py",
   "mimetype": "text/x-python",
   "name": "python",
   "nbconvert_exporter": "python",
   "pygments_lexer": "ipython3",
   "version": "3.13.2"
  }
 },
 "nbformat": 4,
 "nbformat_minor": 5
}
