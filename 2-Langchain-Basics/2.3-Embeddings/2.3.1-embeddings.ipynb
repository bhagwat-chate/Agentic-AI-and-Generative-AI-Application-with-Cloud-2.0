{
 "cells": [
  {
   "cell_type": "markdown",
   "id": "4a3ef6e5",
   "metadata": {},
   "source": []
  },
  {
   "cell_type": "code",
   "execution_count": 7,
   "id": "5b94cfcd",
   "metadata": {},
   "outputs": [],
   "source": [
    "import os\n",
    "import warnings\n",
    "from langchain_openai import OpenAIEmbeddings\n",
    "from dotenv import load_dotenv\n",
    "from langchain_huggingface import HuggingFaceEmbeddings\n",
    "from sklearn.metrics.pairwise import cosine_similarity\n",
    "\n",
    "warnings.filterwarnings('ignore')\n",
    "load_dotenv()\n",
    "\n",
    "os.environ['OPENAI_API_KEY'] = os.getenv('OPENAI_API_KEY')\n",
    "os.environ['HF_TOKEN'] = os.getenv('HF_TOKEN')\n",
    "\n",
    "os.environ['LANGSMITH_PROJECT'] = os.getenv(\"LANGSMITH_PROJECT\")\n",
    "os.environ['LANGSMITH_API_KEY'] = os.getenv(\"LANGSMITH_API_KEY\")\n",
    "os.environ['LANGSMITH_ENDPOINT'] = os.getenv(\"LANGSMITH_ENDPOINT\")\n",
    "os.environ['LANGSMITH_TRACING'] = os.getenv(\"LANGSMITH_TRACING\")"
   ]
  },
  {
   "cell_type": "markdown",
   "id": "888abbae",
   "metadata": {},
   "source": [
    "OpenAI Embeddings"
   ]
  },
  {
   "cell_type": "code",
   "execution_count": 4,
   "id": "f23cbbac",
   "metadata": {},
   "outputs": [],
   "source": [
    "embeddings_openai = OpenAIEmbeddings(model=\"text-embedding-3-large\")\n",
    "\n",
    "text = 'My name is Bhagwat Chate'\n",
    "\n",
    "# query_result = embeddings_openai.embed_query(text=text)\n",
    "# print(len(query_result))\n",
    "\n",
    "# query_result = embeddings_openai.embed_query(text=text, dimensions=1024)\n",
    "# print(len(query_result))"
   ]
  },
  {
   "cell_type": "code",
   "execution_count": 5,
   "id": "c31b6c79",
   "metadata": {},
   "outputs": [
    {
     "name": "stdout",
     "output_type": "stream",
     "text": [
      "384\n"
     ]
    }
   ],
   "source": [
    "embeddings_hf = HuggingFaceEmbeddings(model_name=\"all-MiniLM-L6-v2\")\n",
    "query_result = embeddings_hf.embed_query(text)\n",
    "print(len(query_result))"
   ]
  },
  {
   "cell_type": "code",
   "execution_count": 22,
   "id": "0395db21",
   "metadata": {},
   "outputs": [
    {
     "data": {
      "text/plain": [
       "array([[0.29896229, 0.68161931, 0.43833797]])"
      ]
     },
     "execution_count": 22,
     "metadata": {},
     "output_type": "execute_result"
    }
   ],
   "source": [
    "docs = [\"India is great\", \n",
    "        \"India own 1983,2011 ODI world cup\", \n",
    "        \"India own T20 world cup in 2007, 2025\"]\n",
    "query1 = \"who is the 2011 odi world cup winner\"\n",
    "query2 = \"For Nuclear power what is the policy of Republic of India\"\n",
    "\n",
    "docs_embed = embeddings_hf.embed_documents(docs)\n",
    "\n",
    "query_embed = embeddings_hf.embed_query(query1)\n",
    "\n",
    "cosine_similarity([query_embed], docs_embed)"
   ]
  },
  {
   "cell_type": "markdown",
   "id": "f37d0968",
   "metadata": {},
   "source": [
    "#### Meaning:\n",
    "* 0.2989 = similarity between query and doc[0] (\"India is great\")\n",
    "* 0.6816 = similarity between query and doc[1] (\"India own 1983,2011 ODI world cup\")\n",
    "* 0.4383 = similarity between query and doc[2] (\"India own T20 world cup in 2007, 2025\")\n",
    "\n",
    "#### How to interpret these values:\n",
    "* +1        → perfect match in meaning/direction\n",
    "* 0.7+      → strong semantic similarity \n",
    "* 0.5–0.7   → moderate similarity\n",
    "* 0.3–0.5   → weak relevance\n",
    "* < 0.3     → not very related\n",
    "\n",
    "Cosine similarity ranges from -1 to +1\n"
   ]
  },
  {
   "cell_type": "code",
   "execution_count": null,
   "id": "880aa47c",
   "metadata": {},
   "outputs": [],
   "source": []
  },
  {
   "cell_type": "code",
   "execution_count": null,
   "id": "004fc8fe",
   "metadata": {},
   "outputs": [],
   "source": []
  }
 ],
 "metadata": {
  "kernelspec": {
   "display_name": "Python 3",
   "language": "python",
   "name": "python3"
  },
  "language_info": {
   "codemirror_mode": {
    "name": "ipython",
    "version": 3
   },
   "file_extension": ".py",
   "mimetype": "text/x-python",
   "name": "python",
   "nbconvert_exporter": "python",
   "pygments_lexer": "ipython3",
   "version": "3.13.2"
  }
 },
 "nbformat": 4,
 "nbformat_minor": 5
}
