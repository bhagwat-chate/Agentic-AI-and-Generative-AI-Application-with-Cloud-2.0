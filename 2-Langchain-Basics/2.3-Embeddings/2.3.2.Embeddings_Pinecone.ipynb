{
 "cells": [
  {
   "cell_type": "markdown",
   "id": "21ec16f5",
   "metadata": {},
   "source": [
    "### Building a RAG Pipeline with LangChain, Gemini, and Pinecone\n",
    "This notebook walks through the end-to-end development of a Retrieval-Augmented Generation (RAG) system using LangChain and Gemini (Google Generative AI). It demonstrates embedding generation with Google Embeddings, vector storage with Pinecone, similarity search with FAISS/Sklearn, document structuring with LangChain’s Document class, and dynamic prompt chaining using LangChain Runnables. A production-ready retriever and query-answering chain are built with search thresholding and structured prompting."
   ]
  },
  {
   "cell_type": "code",
   "execution_count": 117,
   "id": "d8f8ded5",
   "metadata": {},
   "outputs": [],
   "source": [
    "# 🔧 Environment & Warnings\n",
    "import os\n",
    "import warnings\n",
    "from dotenv import load_dotenv  # For loading environment variables\n",
    "\n",
    "# 🧠 Embeddings & LLMs\n",
    "from langchain_google_genai import ChatGoogleGenerativeAI, GoogleGenerativeAIEmbeddings  # Google Gemini & embeddings\n",
    "from langchain_huggingface import HuggingFaceEmbeddings  # HuggingFace embeddings\n",
    "\n",
    "# 🧾 Prompting & Output Parsers\n",
    "from langchain_core.prompts import PromptTemplate\n",
    "from langchain_core.output_parsers import StrOutputParser\n",
    "from langchain_core.runnables import RunnablePassthrough\n",
    "from langchain import hub  # LangChain Hub for prebuilt prompts\n",
    "\n",
    "# 📄 Document & Vector Store\n",
    "from langchain_core.documents import Document\n",
    "# from langchain_community.vectorstores import FAISS  # FAISS Vector Store\n",
    "# from langchain_community.docstore.in_memory import InMemoryDocstore  # In-memory docstore for FAISS\n",
    "from langchain_pinecone import PineconeVectorStore  # Pinecone integration\n",
    "\n",
    "# 🌲 Pinecone Configuration\n",
    "from pinecone import Pinecone, ServerlessSpec  # Pinecone core client & serverless setup\n",
    "\n",
    "# 📊 Utils\n",
    "from uuid import uuid4  # Unique ID generator for documents\n",
    "from sklearn.metrics.pairwise import euclidean_distances, cosine_similarity  # For similarity computations\n",
    "import faiss  # Facebook AI Similarity Search (FAISS)\n",
    "import pprint\n",
    "\n",
    "\n",
    "load_dotenv()\n",
    "\n",
    "warnings.filterwarnings('ignore')\n",
    "\n",
    "os.environ['OPENAI_API_KEY'] = os.getenv('OPENAI_API_KEY')\n",
    "os.environ['HF_TOKEN'] = os.getenv('HF_TOKEN')\n",
    "os.environ['GOOGLE_API_KEY'] = os.getenv(\"GOOGLE_API_KEY\")\n",
    "os.environ['LANGSMITH_PROJECT'] = os.getenv(\"LANGSMITH_PROJECT\")\n",
    "os.environ['LANGSMITH_API_KEY'] = os.getenv(\"LANGSMITH_API_KEY\")\n",
    "os.environ['LANGSMITH_ENDPOINT'] = os.getenv(\"LANGSMITH_ENDPOINT\")\n",
    "os.environ['LANGSMITH_TRACING'] = os.getenv(\"LANGSMITH_TRACING\")"
   ]
  },
  {
   "cell_type": "code",
   "execution_count": 118,
   "id": "24bf20b3",
   "metadata": {},
   "outputs": [],
   "source": [
    "embeddings_google = GoogleGenerativeAIEmbeddings(model=\"models/embedding-001\")"
   ]
  },
  {
   "cell_type": "code",
   "execution_count": 119,
   "id": "16ac92e2",
   "metadata": {},
   "outputs": [],
   "source": [
    "documents = [\"India is establish player in world cricket\",\n",
    "            \"India own the ODI world cup 1983, 2011\",\n",
    "            \"India own the T20 world cup 2007, 2025\"]\n",
    "\n",
    "my_query = \"About which country we are talking here?\"\n",
    "\n",
    "document_embedding = embeddings_google.embed_documents(documents)"
   ]
  },
  {
   "cell_type": "code",
   "execution_count": 120,
   "id": "16b9cded",
   "metadata": {},
   "outputs": [
    {
     "data": {
      "text/plain": [
       "768"
      ]
     },
     "execution_count": 120,
     "metadata": {},
     "output_type": "execute_result"
    }
   ],
   "source": [
    "len(document_embedding[0])"
   ]
  },
  {
   "cell_type": "code",
   "execution_count": 121,
   "id": "6355a5dd",
   "metadata": {},
   "outputs": [],
   "source": [
    "my_query_embed = embeddings_google.embed_query(my_query)"
   ]
  },
  {
   "cell_type": "markdown",
   "id": "af33971a",
   "metadata": {},
   "source": [
    "| Metric            | Similarity Score Range | Behavior                              |\n",
    "| ----------------- | ---------------------- | ------------------------------------- |\n",
    "| Cosine Similarity | \\[-1, 1]               | Focuses on angle only |\n",
    "| L2 Distance       | \\[0, ∞)                | Focuses on **magnitude + direction**  |\n"
   ]
  },
  {
   "cell_type": "code",
   "execution_count": 122,
   "id": "e6c371c3",
   "metadata": {},
   "outputs": [
    {
     "data": {
      "text/plain": [
       "array([[0.57796012, 0.57769502, 0.57979686]])"
      ]
     },
     "execution_count": 122,
     "metadata": {},
     "output_type": "execute_result"
    }
   ],
   "source": [
    "cosine_similarity([my_query_embed], document_embedding)"
   ]
  },
  {
   "cell_type": "code",
   "execution_count": 123,
   "id": "7ce046e1",
   "metadata": {},
   "outputs": [
    {
     "data": {
      "text/plain": [
       "array([[0.91873741, 0.9190259 , 0.91673598]])"
      ]
     },
     "execution_count": 123,
     "metadata": {},
     "output_type": "execute_result"
    }
   ],
   "source": [
    "euclidean_distances([my_query_embed], document_embedding)"
   ]
  },
  {
   "cell_type": "code",
   "execution_count": 124,
   "id": "05f168fd",
   "metadata": {},
   "outputs": [],
   "source": [
    "pinecone_api_key = os.getenv('PINECONE_API_KEY')\n",
    "\n",
    "pc = Pinecone(api_key=pinecone_api_key)"
   ]
  },
  {
   "cell_type": "code",
   "execution_count": 125,
   "id": "abc685bc",
   "metadata": {},
   "outputs": [
    {
     "data": {
      "text/plain": [
       "True"
      ]
     },
     "execution_count": 125,
     "metadata": {},
     "output_type": "execute_result"
    }
   ],
   "source": [
    "index_name = 'learn-agenticaiv2'\n",
    "pc.has_index(index_name)"
   ]
  },
  {
   "cell_type": "code",
   "execution_count": 126,
   "id": "fa1400e7",
   "metadata": {},
   "outputs": [],
   "source": [
    "if not pc.has_index(index_name):\n",
    "    pc.create_index(\n",
    "        name=index_name,\n",
    "        dimension=768,\n",
    "        metric='cosine',\n",
    "        spec=ServerlessSpec(cloud='aws', region='us-east-1')\n",
    "    )"
   ]
  },
  {
   "cell_type": "code",
   "execution_count": 127,
   "id": "8e7dcbe0",
   "metadata": {},
   "outputs": [
    {
     "data": {
      "text/plain": [
       "True"
      ]
     },
     "execution_count": 127,
     "metadata": {},
     "output_type": "execute_result"
    }
   ],
   "source": [
    "pc.has_index(index_name)"
   ]
  },
  {
   "cell_type": "code",
   "execution_count": 128,
   "id": "c92b8d85",
   "metadata": {},
   "outputs": [],
   "source": [
    "index_name = pc.Index(index_name)\n",
    "\n",
    "pinecone_vs = PineconeVectorStore(index=index_name, embedding=embeddings_google)"
   ]
  },
  {
   "cell_type": "code",
   "execution_count": 129,
   "id": "f4bf9d10",
   "metadata": {},
   "outputs": [
    {
     "data": {
      "text/plain": [
       "[Document(metadata={'source': 'tweet'}, page_content='I had chocolate chip pancakes and scrambled eggs for breakfast this morning.'),\n",
       " Document(metadata={'source': 'news'}, page_content='The weather forecast for tomorrow is cloudy and overcast, with a high of 62 degrees.'),\n",
       " Document(metadata={'source': 'tweet'}, page_content='Building an exciting new project with LangChain - come check it out!'),\n",
       " Document(metadata={'source': 'news'}, page_content='Robbers broke into the city bank and stole $1 million in cash.'),\n",
       " Document(metadata={'source': 'tweet'}, page_content=\"Wow! That was an amazing movie. I can't wait to see it again.\"),\n",
       " Document(metadata={'source': 'website'}, page_content='Is the new iPhone worth the price? Read this review to find out.'),\n",
       " Document(metadata={'source': 'website'}, page_content='The top 10 soccer players in the world right now.'),\n",
       " Document(metadata={'source': 'tweet'}, page_content='LangGraph is the best framework for building stateful, agentic applications!'),\n",
       " Document(metadata={'source': 'news'}, page_content='The stock market is down 500 points today due to fears of a recession.'),\n",
       " Document(metadata={'source': 'tweet'}, page_content='I have a bad feeling I am going to get deleted :(')]"
      ]
     },
     "execution_count": 129,
     "metadata": {},
     "output_type": "execute_result"
    }
   ],
   "source": [
    "document_1 = Document(\n",
    "    page_content=\"I had chocolate chip pancakes and scrambled eggs for breakfast this morning.\",\n",
    "    metadata={\"source\": \"tweet\"},#additional info\n",
    ")\n",
    "\n",
    "document_2 = Document(\n",
    "    page_content=\"The weather forecast for tomorrow is cloudy and overcast, with a high of 62 degrees.\",\n",
    "    metadata={\"source\": \"news\"},\n",
    ")\n",
    "\n",
    "document_3 = Document(\n",
    "    page_content=\"Building an exciting new project with LangChain - come check it out!\",\n",
    "    metadata={\"source\": \"tweet\"},\n",
    ")\n",
    "\n",
    "document_4 = Document(\n",
    "    page_content=\"Robbers broke into the city bank and stole $1 million in cash.\",\n",
    "    metadata={\"source\": \"news\"},\n",
    ")\n",
    "\n",
    "document_5 = Document(\n",
    "    page_content=\"Wow! That was an amazing movie. I can't wait to see it again.\",\n",
    "    metadata={\"source\": \"tweet\"},\n",
    ")\n",
    "\n",
    "document_6 = Document(\n",
    "    page_content=\"Is the new iPhone worth the price? Read this review to find out.\",\n",
    "    metadata={\"source\": \"website\"},\n",
    ")\n",
    "\n",
    "document_7 = Document(\n",
    "    page_content=\"The top 10 soccer players in the world right now.\",\n",
    "    metadata={\"source\": \"website\"},\n",
    ")\n",
    "\n",
    "document_8 = Document(\n",
    "    page_content=\"LangGraph is the best framework for building stateful, agentic applications!\",\n",
    "    metadata={\"source\": \"tweet\"},\n",
    ")\n",
    "\n",
    "document_9 = Document(\n",
    "    page_content=\"The stock market is down 500 points today due to fears of a recession.\",\n",
    "    metadata={\"source\": \"news\"},\n",
    ")\n",
    "\n",
    "document_10 = Document(\n",
    "    page_content=\"I have a bad feeling I am going to get deleted :(\",\n",
    "    metadata={\"source\": \"tweet\"},\n",
    ")\n",
    "\n",
    "documents = [\n",
    "    document_1,\n",
    "    document_2,\n",
    "    document_3,\n",
    "    document_4,\n",
    "    document_5,\n",
    "    document_6,\n",
    "    document_7,\n",
    "    document_8,\n",
    "    document_9,\n",
    "    document_10,\n",
    "]\n",
    "documents"
   ]
  },
  {
   "cell_type": "code",
   "execution_count": 130,
   "id": "0c89bb56",
   "metadata": {},
   "outputs": [
    {
     "data": {
      "text/plain": [
       "10"
      ]
     },
     "execution_count": 130,
     "metadata": {},
     "output_type": "execute_result"
    }
   ],
   "source": [
    "len(documents)"
   ]
  },
  {
   "cell_type": "code",
   "execution_count": 131,
   "id": "42115f9f",
   "metadata": {},
   "outputs": [
    {
     "name": "stdout",
     "output_type": "stream",
     "text": [
      "0\n",
      "5bc86b2e-9e1f-4d58-8fb5-8d76f6af155c\n",
      "1\n",
      "e0f66e90-0342-46e5-98e5-6cf6bbe22cbc\n",
      "2\n",
      "fd49cc8e-17f8-458f-860f-92efd1bef57e\n",
      "3\n",
      "d3bbc134-4ac5-43fe-9dde-dd467a645757\n",
      "4\n",
      "a2d7ca04-db3a-44ee-8e27-3345eb961f3c\n",
      "5\n",
      "ab68f695-a5f7-44ea-9376-9442fff72a5c\n",
      "6\n",
      "2dd90d10-59ff-45b6-9873-a0f8f15c9f17\n",
      "7\n",
      "b08add5b-e9c3-4896-88fd-24953b3c1391\n",
      "8\n",
      "12ab8500-12fc-4e7e-98ac-5a3d26adf83c\n",
      "9\n",
      "f74f99ca-75e5-49da-9f69-79915190db6d\n"
     ]
    }
   ],
   "source": [
    "for _ in range(len(documents)):\n",
    "    print(_)\n",
    "    print(str(uuid4()))"
   ]
  },
  {
   "cell_type": "code",
   "execution_count": 132,
   "id": "6f9c7b18",
   "metadata": {},
   "outputs": [
    {
     "data": {
      "text/plain": [
       "['1d0b565f-d009-4c20-8747-915ec10fa36d',\n",
       " '4447d099-628f-4e95-a076-c59ecc0ba6a6',\n",
       " 'd16daaca-841a-453b-80ce-79a0fef691f7',\n",
       " '301a079b-5aff-4567-8150-01ad51dc5108',\n",
       " 'f71d5a48-a39d-4331-8d6a-07bbeda339ad',\n",
       " 'ebc3e172-6ac6-42bf-954e-6b241c1fe8c5',\n",
       " '48fed8b7-840b-4e45-b0e1-e685742cf4c8',\n",
       " '0aa0a99e-4bc0-4353-98a0-c7b318b2cdc4',\n",
       " '5acd9be4-cc04-4c35-a2e4-20a393031dcd',\n",
       " 'de147a83-d20e-48cc-8889-f9d8530d8803']"
      ]
     },
     "execution_count": 132,
     "metadata": {},
     "output_type": "execute_result"
    }
   ],
   "source": [
    "uuids = [str(uuid4()) for _ in range(len(documents))]\n",
    "uuids"
   ]
  },
  {
   "cell_type": "code",
   "execution_count": 133,
   "id": "4ca05768",
   "metadata": {},
   "outputs": [
    {
     "data": {
      "text/plain": [
       "['1f6e061d-725c-4e0d-b73e-703f62ce46f2',\n",
       " 'f7f19acb-b36f-4d8b-90dd-3e23f4e9eecf',\n",
       " '4ab37b63-5aa4-4671-ac20-a1832c63db59',\n",
       " '1efba696-5776-411b-a86f-f89fc1d81312',\n",
       " 'ce41899f-f1c2-4ee1-8136-fca81c97fb61',\n",
       " '5ef13e30-f57b-4e6c-b183-edc25bd13947',\n",
       " '7a453b6e-ba35-4cf4-991f-627eaaf2d350',\n",
       " 'c6ee7340-070f-4732-b903-872429f79aa7',\n",
       " '348476d2-6c1e-4269-b620-61d32eeead83',\n",
       " 'cd5e4921-dd92-4313-ad01-12b78ad8a617']"
      ]
     },
     "execution_count": 133,
     "metadata": {},
     "output_type": "execute_result"
    }
   ],
   "source": [
    "pinecone_vs.add_documents(documents=documents, id=uuids)"
   ]
  },
  {
   "cell_type": "code",
   "execution_count": 134,
   "id": "8ba451a8",
   "metadata": {},
   "outputs": [
    {
     "data": {
      "text/plain": [
       "[Document(id='4ab37b63-5aa4-4671-ac20-a1832c63db59', metadata={'source': 'tweet'}, page_content='Building an exciting new project with LangChain - come check it out!'),\n",
       " Document(id='687e1025-e918-4c79-a242-be4edf4d6652', metadata={'source': 'tweet'}, page_content='Building an exciting new project with LangChain - come check it out!'),\n",
       " Document(id='33e18021-5768-43a7-87be-eebf7d506c07', metadata={'source': 'tweet'}, page_content='Building an exciting new project with LangChain - come check it out!')]"
      ]
     },
     "execution_count": 134,
     "metadata": {},
     "output_type": "execute_result"
    }
   ],
   "source": [
    "results = pinecone_vs.similarity_search(\"what langchain provides to us?\", k=3)\n",
    "results"
   ]
  },
  {
   "cell_type": "code",
   "execution_count": 135,
   "id": "9887807b",
   "metadata": {},
   "outputs": [],
   "source": [
    "retriever = pinecone_vs.as_retriever(search_type='similarity_score_threshold',\n",
    "                                     search_kwargs={'score_threshold': 0.7})"
   ]
  },
  {
   "cell_type": "code",
   "execution_count": 136,
   "id": "880d6398",
   "metadata": {},
   "outputs": [
    {
     "data": {
      "text/plain": [
       "[Document(id='076b8862-6b0b-411a-b373-d2894d905d03', metadata={'source': 'tweet'}, page_content='Building an exciting new project with LangChain - come check it out!'),\n",
       " Document(id='33e18021-5768-43a7-87be-eebf7d506c07', metadata={'source': 'tweet'}, page_content='Building an exciting new project with LangChain - come check it out!'),\n",
       " Document(id='687e1025-e918-4c79-a242-be4edf4d6652', metadata={'source': 'tweet'}, page_content='Building an exciting new project with LangChain - come check it out!'),\n",
       " Document(id='4ab37b63-5aa4-4671-ac20-a1832c63db59', metadata={'source': 'tweet'}, page_content='Building an exciting new project with LangChain - come check it out!')]"
      ]
     },
     "execution_count": 136,
     "metadata": {},
     "output_type": "execute_result"
    }
   ],
   "source": [
    "retriever.invoke(\"what is langchain?\")"
   ]
  },
  {
   "cell_type": "code",
   "execution_count": 137,
   "id": "84206692",
   "metadata": {},
   "outputs": [],
   "source": [
    "model = ChatGoogleGenerativeAI(model='gemini-1.5-flash')"
   ]
  },
  {
   "cell_type": "code",
   "execution_count": 138,
   "id": "77b472b4",
   "metadata": {},
   "outputs": [
    {
     "name": "stdout",
     "output_type": "stream",
     "text": [
      "[HumanMessagePromptTemplate(prompt=PromptTemplate(input_variables=['context', 'question'], input_types={}, partial_variables={}, template=\"You are an assistant for question-answering tasks. Use the following pieces of retrieved context to answer the question. If you don't know the answer, just say that you don't know. Use three sentences maximum and keep the answer concise.\\nQuestion: {question} \\nContext: {context} \\nAnswer:\"), additional_kwargs={})]\n"
     ]
    }
   ],
   "source": [
    "prompt = hub.pull('rlm/rag-prompt')\n",
    "\n",
    "pprint.pprint(prompt.messages)"
   ]
  },
  {
   "cell_type": "code",
   "execution_count": 139,
   "id": "210a1c0e",
   "metadata": {},
   "outputs": [
    {
     "data": {
      "text/plain": [
       "PromptTemplate(input_variables=['context', 'question'], input_types={}, partial_variables={}, template=\"You are an assistant for question-answering tasks. Use the following pieces of retrieved context to answer the question. If you don't know the answer, just say that you don't know. Use three sentences maximum and keep the answer concise.\\nQuestion: {question} \\nContext: {context} \\nAnswer:\")"
      ]
     },
     "execution_count": 139,
     "metadata": {},
     "output_type": "execute_result"
    }
   ],
   "source": [
    "prompt=PromptTemplate(\n",
    "    template=\"\"\"You are an assistant for question-answering tasks. Use the following pieces of retrieved context to answer the question. If you don't know the answer, just say that you don't know. Use three sentences maximum and keep the answer concise.\\nQuestion: {question} \\nContext: {context} \\nAnswer:\"\"\",\n",
    "    input_variables=['context', 'question']\n",
    ")\n",
    "prompt"
   ]
  },
  {
   "cell_type": "code",
   "execution_count": 140,
   "id": "206d3c42",
   "metadata": {},
   "outputs": [
    {
     "data": {
      "text/plain": [
       "StringPromptValue(text=\"You are an assistant for question-answering tasks. Use the following pieces of retrieved context to answer the question. If you don't know the answer, just say that you don't know. Use three sentences maximum and keep the answer concise.\\nQuestion: what is langchain \\nContext: langchain is very super framework for LLM. \\nAnswer:\")"
      ]
     },
     "execution_count": 140,
     "metadata": {},
     "output_type": "execute_result"
    }
   ],
   "source": [
    "prompt.invoke({'question':'what is langchain', 'context':'langchain is very super framework for LLM.'})"
   ]
  },
  {
   "cell_type": "code",
   "execution_count": 141,
   "id": "4be772b3",
   "metadata": {},
   "outputs": [],
   "source": [
    "def format_docs(docs):\n",
    "    return '\\n\\n'.join(doc.page_content for doc in docs)"
   ]
  },
  {
   "cell_type": "code",
   "execution_count": 142,
   "id": "e8d3df6b",
   "metadata": {},
   "outputs": [],
   "source": [
    "rag_chain = (\n",
    "    {\"context\": retriever | format_docs, \"question\": RunnablePassthrough()}\n",
    "    | prompt\n",
    "    | model\n",
    "    | StrOutputParser()\n",
    ")"
   ]
  },
  {
   "cell_type": "code",
   "execution_count": 143,
   "id": "a5b2f986",
   "metadata": {},
   "outputs": [
    {
     "data": {
      "text/plain": [
       "\"I don't know.  The provided text only expresses a feeling of impending deletion, not any factual knowledge.\""
      ]
     },
     "execution_count": 143,
     "metadata": {},
     "output_type": "execute_result"
    }
   ],
   "source": [
    "rag_chain.invoke(\"what you know?\")"
   ]
  }
 ],
 "metadata": {
  "kernelspec": {
   "display_name": "Python 3",
   "language": "python",
   "name": "python3"
  },
  "language_info": {
   "codemirror_mode": {
    "name": "ipython",
    "version": 3
   },
   "file_extension": ".py",
   "mimetype": "text/x-python",
   "name": "python",
   "nbconvert_exporter": "python",
   "pygments_lexer": "ipython3",
   "version": "3.13.2"
  }
 },
 "nbformat": 4,
 "nbformat_minor": 5
}
