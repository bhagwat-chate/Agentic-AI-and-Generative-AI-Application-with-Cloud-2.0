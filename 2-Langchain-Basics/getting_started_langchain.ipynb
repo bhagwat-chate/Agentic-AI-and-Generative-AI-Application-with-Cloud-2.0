{
 "cells": [
  {
   "cell_type": "code",
   "execution_count": 5,
   "id": "28abb320",
   "metadata": {},
   "outputs": [],
   "source": [
    "import os\n",
    "\n",
    "from dotenv import load_dotenv\n",
    "load_dotenv()\n",
    "\n",
    "os.environ['OPENAI_API_KEY'] = os.getenv(\"OPENAI_API_KEY\")\n",
    "os.environ['GROQ_API_KEY'] = os.getenv(\"GROQ_API_KEY\")\n",
    "os.environ['LANGCHAIN_API_KEY'] = os.getenv(\"LANGCHAIN_API_KEY\")\n",
    "os.environ['LANGCHAIN_PROJECT'] = os.getenv(\"LANGCHAIN_PROJECT\")\n",
    "os.environ['LANGCHAIN_TRACING_V2'] = os.getenv('LANGCHAIN_TRACING_V2')"
   ]
  },
  {
   "cell_type": "code",
   "execution_count": 8,
   "id": "ae9ed985",
   "metadata": {},
   "outputs": [
    {
     "name": "stdout",
     "output_type": "stream",
     "text": [
      "**Agentic AI** refers to artificial intelligence systems designed to operate with a degree of autonomy, making decisions and taking actions independently to achieve specific goals. The term \"agency\" in this context implies that the AI possesses the ability to perceive its environment, deliberate on possible actions, and execute decisions without continuous human intervention.\n",
      "\n",
      "### Key Characteristics of Agentic AI:\n",
      "\n",
      "1. **Autonomy:** Agentic AI can perform tasks and make decisions without needing real-time guidance from humans. This autonomy allows the AI to function in dynamic environments where predefined instructions may not suffice.\n",
      "\n",
      "2. **Goal-Oriented Behavior:** These AI systems are designed with specific objectives in mind. They assess various actions based on how effectively they help achieve their intended goals.\n",
      "\n",
      "3. **Adaptability:** Agentic AI can learn from interactions with its environment, enabling it to adjust its strategies and improve performance over time.\n",
      "\n",
      "4. **Perception and Interaction:** Such AI systems are equipped with sensors or interfaces to gather information from their surroundings and can interact with other systems or humans as needed.\n",
      "\n",
      "### Examples and Applications:\n",
      "\n",
      "- **Autonomous Vehicles:** Self-driving cars navigate roads, make real-time decisions to ensure safety, and optimize routes without constant human control.\n",
      "\n",
      "- **Virtual Assistants:** Advanced virtual agents like chatbots or personal assistants can manage schedules, handle inquiries, and perform tasks based on user preferences and contextual understanding.\n",
      "\n",
      "- **Robotics:** Industrial robots that assemble products, perform inspections, or handle materials autonomously in manufacturing settings.\n",
      "\n",
      "- **Gaming AI:** Non-player characters (NPCs) in video games that can adapt to players' actions, providing a more dynamic and engaging experience.\n",
      "\n",
      "### Implications and Considerations:\n",
      "\n",
      "While agentic AI offers numerous benefits, such as increased efficiency and the ability to handle complex tasks, it also raises important ethical and safety considerations:\n",
      "\n",
      "- **Accountability:** Determining responsibility for the actions taken by autonomous AI systems can be challenging.\n",
      "\n",
      "- **Bias and Fairness:** Ensuring that AI decision-making processes are free from biases is crucial to prevent unfair outcomes.\n",
      "\n",
      "- **Security:** Autonomous systems must be protected against malicious attacks that could manipulate their decision-making processes.\n",
      "\n",
      "- **Impact on Employment:** As AI takes on more autonomous roles, there may be significant impacts on job markets and employment structures.\n",
      "\n",
      "### Future Outlook:\n",
      "\n",
      "The development of agentic AI continues to advance, driven by progress in machine learning, natural language processing, and robotics. As these systems become more capable, ongoing dialogue around their ethical deployment, governance, and integration into society will be essential to harness their potential benefits while mitigating associated risks.\n"
     ]
    }
   ],
   "source": [
    "from langchain_openai import ChatOpenAI\n",
    "\n",
    "llm = ChatOpenAI(model='o1-mini')\n",
    "\n",
    "response = llm.invoke(\"What is agentic ai?\")\n",
    "\n",
    "print(response.content)"
   ]
  },
  {
   "cell_type": "code",
   "execution_count": 10,
   "id": "762769c8",
   "metadata": {},
   "outputs": [
    {
     "name": "stdout",
     "output_type": "stream",
     "text": [
      "\n",
      "<think>\n",
      "Okay, the user introduced themselves as Bhagwat. I should respond warmly. Let me start with a friendly greeting. Maybe ask how they're doing today. I should keep it open-ended so they feel comfortable sharing. Also, since they mentioned their name, maybe I can mention that their name is Bhagwat and perhaps highlight that it's a nice name. Wait, should I use any emojis? The user didn't use any, but maybe a smiley to keep it friendly. Let me make sure the tone is positive and approachable. Alright, something like, \"Hi Bhagwat! Nice to meet you! How are you doing today?\" That should work. No need for any technical terms here. Keep it simple and welcoming. I'll go with that.\n",
      "</think>\n",
      "\n",
      "Hi Bhagwat! 😊 Nice to meet you! How are you doing today? Feel free to ask me anything—I'm here to help!\n"
     ]
    }
   ],
   "source": [
    "from langchain_groq import ChatGroq\n",
    "\n",
    "llm_groq = ChatGroq(model='qwen-qwq-32b')\n",
    "\n",
    "response = llm_groq.invoke(\"Hi, my name is Bhagwat!\")\n",
    "\n",
    "print(response.content)"
   ]
  },
  {
   "cell_type": "code",
   "execution_count": null,
   "id": "46b57fb7",
   "metadata": {},
   "outputs": [],
   "source": [
    "from langchain_core.prompts import ChatPromptTemplate\n",
    "\n",
    "prompt = ChatPromptTemplate.format_messages(\n",
    "    [\n",
    "        \n",
    "    ]\n",
    ")"
   ]
  },
  {
   "cell_type": "code",
   "execution_count": null,
   "id": "342259f7",
   "metadata": {},
   "outputs": [],
   "source": []
  },
  {
   "cell_type": "code",
   "execution_count": null,
   "id": "0c21c9ea",
   "metadata": {},
   "outputs": [],
   "source": []
  },
  {
   "cell_type": "code",
   "execution_count": null,
   "id": "e9251a94",
   "metadata": {},
   "outputs": [],
   "source": []
  },
  {
   "cell_type": "code",
   "execution_count": null,
   "id": "bc2d6265",
   "metadata": {},
   "outputs": [],
   "source": []
  },
  {
   "cell_type": "code",
   "execution_count": null,
   "id": "f5d97ce1",
   "metadata": {},
   "outputs": [],
   "source": []
  },
  {
   "cell_type": "code",
   "execution_count": null,
   "id": "b1d684cb",
   "metadata": {},
   "outputs": [],
   "source": []
  },
  {
   "cell_type": "code",
   "execution_count": null,
   "id": "31759de9",
   "metadata": {},
   "outputs": [],
   "source": []
  },
  {
   "cell_type": "code",
   "execution_count": null,
   "id": "8dc030cd",
   "metadata": {},
   "outputs": [],
   "source": []
  },
  {
   "cell_type": "code",
   "execution_count": null,
   "id": "0ba0cba9",
   "metadata": {},
   "outputs": [],
   "source": []
  },
  {
   "cell_type": "code",
   "execution_count": null,
   "id": "8039ce6c",
   "metadata": {},
   "outputs": [],
   "source": []
  },
  {
   "cell_type": "code",
   "execution_count": null,
   "id": "59a55abe",
   "metadata": {},
   "outputs": [],
   "source": []
  },
  {
   "cell_type": "code",
   "execution_count": null,
   "id": "0e787238",
   "metadata": {},
   "outputs": [],
   "source": []
  },
  {
   "cell_type": "code",
   "execution_count": null,
   "id": "cb7b298c",
   "metadata": {},
   "outputs": [],
   "source": []
  }
 ],
 "metadata": {
  "kernelspec": {
   "display_name": "Python 3",
   "language": "python",
   "name": "python3"
  },
  "language_info": {
   "codemirror_mode": {
    "name": "ipython",
    "version": 3
   },
   "file_extension": ".py",
   "mimetype": "text/x-python",
   "name": "python",
   "nbconvert_exporter": "python",
   "pygments_lexer": "ipython3",
   "version": "3.13.2"
  }
 },
 "nbformat": 4,
 "nbformat_minor": 5
}
