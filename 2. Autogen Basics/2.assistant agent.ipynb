{
 "cells": [
  {
   "cell_type": "markdown",
   "id": "50b5bedf",
   "metadata": {},
   "source": [
    "## Agent"
   ]
  },
  {
   "cell_type": "code",
   "execution_count": 1,
   "id": "ef737c62",
   "metadata": {},
   "outputs": [
    {
     "data": {
      "text/plain": [
       "True"
      ]
     },
     "execution_count": 1,
     "metadata": {},
     "output_type": "execute_result"
    }
   ],
   "source": [
    "import os\n",
    "from autogen_core.models import UserMessage\n",
    "from autogen_ext.models.openai import OpenAIChatCompletionClient\n",
    "from autogen_agentchat.agents import AssistantAgent\n",
    "\n",
    "from dotenv import load_dotenv\n",
    "\n",
    "load_dotenv()\n"
   ]
  },
  {
   "cell_type": "markdown",
   "id": "8c31733f",
   "metadata": {},
   "source": [
    "#### Create the LLM client"
   ]
  },
  {
   "cell_type": "code",
   "execution_count": 2,
   "id": "7a581915",
   "metadata": {},
   "outputs": [],
   "source": [
    "llm_client = OpenAIChatCompletionClient(model=\"gemini-1.5-flash-8b\", api_key=os.getenv('GOOGLE_API_KEY'))"
   ]
  },
  {
   "cell_type": "markdown",
   "id": "489af7d4",
   "metadata": {},
   "source": [
    "#### Create the agent"
   ]
  },
  {
   "cell_type": "code",
   "execution_count": 3,
   "id": "e510a64c",
   "metadata": {},
   "outputs": [],
   "source": [
    "my_agent = AssistantAgent(name=\"agent25061989\", model_client=llm_client)"
   ]
  },
  {
   "cell_type": "markdown",
   "id": "edc07aeb",
   "metadata": {},
   "source": [
    "#### Run the agent"
   ]
  },
  {
   "cell_type": "code",
   "execution_count": 4,
   "id": "3d76e2fe",
   "metadata": {},
   "outputs": [
    {
     "name": "stdout",
     "output_type": "stream",
     "text": [
      "Diverse, ancient, spiritual, colorful, hospitable, family-oriented, rich traditions, festivals, vibrant,  and unique.\n",
      "\n",
      "TERMINATE\n",
      "\n"
     ]
    }
   ],
   "source": [
    "result = await my_agent.run(task=\"Describe about indian culture in 10 words?\")\n",
    "\n",
    "print(result.messages[-1].content)"
   ]
  },
  {
   "cell_type": "code",
   "execution_count": 5,
   "id": "f90f0f1f",
   "metadata": {},
   "outputs": [
    {
     "name": "stdout",
     "output_type": "stream",
     "text": [
      "Your last question was:  \"Describe about indian culture in 10 words?\"\n",
      "\n"
     ]
    }
   ],
   "source": [
    "result = await my_agent.run(task=\"what was my last question?\")\n",
    "print(result.messages[-1].content)"
   ]
  },
  {
   "cell_type": "code",
   "execution_count": 6,
   "id": "8337d027",
   "metadata": {},
   "outputs": [
    {
     "name": "stdout",
     "output_type": "stream",
     "text": [
      "The response to your last question was:  \"Diverse, ancient, spiritual, colorful, hospitable, family-oriented, rich traditions, festivals, vibrant,  and unique.\"\n",
      "\n"
     ]
    }
   ],
   "source": [
    "result = await my_agent.run(task=\"what was the response for my last question?\")\n",
    "print(result.messages[-1].content)"
   ]
  },
  {
   "cell_type": "markdown",
   "id": "cfd81e09",
   "metadata": {},
   "source": [
    "## Multi Model Capabilities"
   ]
  },
  {
   "cell_type": "code",
   "execution_count": 7,
   "id": "f5ea2a48",
   "metadata": {},
   "outputs": [
    {
     "name": "stdout",
     "output_type": "stream",
     "text": [
      "A black Labrador puppy is sitting on a wooden surface.  The puppy is looking directly at the viewer, and appears attentive or curious. The wood planks are a dark brown/grey color, showing signs of age and weathering.  The image is a close-up of the puppy, taking up a significant portion of the frame.\n",
      "\n"
     ]
    }
   ],
   "source": [
    "from io import BytesIO\n",
    "\n",
    "import PIL\n",
    "import requests\n",
    "from autogen_agentchat.messages import MultiModalMessage\n",
    "from autogen_core import Image\n",
    "\n",
    "# Create a multi-modal message with random image and text.\n",
    "pil_image = PIL.Image.open(BytesIO(requests.get(\"https://picsum.photos/id/237/300/200\").content))\n",
    "img = Image(pil_image)\n",
    "\n",
    "multi_modal_message = MultiModalMessage(content=[\"Can you describe the content of this image?\", img], source=\"user\")\n",
    "\n",
    "result = await my_agent.run(task=multi_modal_message)\n",
    "\n",
    "print(result.messages[1].content)"
   ]
  },
  {
   "cell_type": "code",
   "execution_count": 8,
   "id": "7b4bce09",
   "metadata": {},
   "outputs": [
    {
     "name": "stdout",
     "output_type": "stream",
     "text": [
      "A black Labrador Retriever puppy is sitting on a wooden deck or floor.  The puppy is looking directly at the camera, and appears to be a young,  smallish dog. The wood is a weathered, dark brown color.\n",
      "\n"
     ]
    }
   ],
   "source": [
    "multi_modal_message = MultiModalMessage(content = ['What is in the image',img],source='User')\n",
    "\n",
    "result = await my_agent.run(task=multi_modal_message)\n",
    "\n",
    "print(result.messages[1].content)"
   ]
  },
  {
   "cell_type": "markdown",
   "id": "0b5745a9",
   "metadata": {},
   "source": [
    "### Agent: Structured Output"
   ]
  },
  {
   "cell_type": "code",
   "execution_count": 9,
   "id": "45cd2ea5",
   "metadata": {},
   "outputs": [
    {
     "name": "stdout",
     "output_type": "stream",
     "text": [
      "{\"color\": \"grayish-white\", \"description\": \"Earth's only natural satellite\", \"distance\": 384400, \"name\": \"Moon\"}\n"
     ]
    }
   ],
   "source": [
    "from pydantic import BaseModel\n",
    "from autogen_ext.models.openai import OpenAIChatCompletionClient\n",
    "\n",
    "class PlanetInfo(BaseModel):\n",
    "    name: str\n",
    "    color: str\n",
    "    distance: float\n",
    "    description: str\n",
    "\n",
    "\n",
    "llm_client_2 = OpenAIChatCompletionClient(\n",
    "    model=\"gemini-1.5-flash-8b\", \n",
    "    api_key=os.getenv('GOOGLE_API_KEY'),\n",
    "    response_format=PlanetInfo\n",
    ")\n",
    "\n",
    "my_agent_2 = AssistantAgent(name=\"planet_assistant\", model_client=llm_client_2)\n",
    "\n",
    "response = await my_agent_2.run(task=\"What is the distance, color, and scientific name of moon?\")\n",
    "\n",
    "print(response.messages[-1].content)"
   ]
  },
  {
   "cell_type": "code",
   "execution_count": 10,
   "id": "4598b688",
   "metadata": {},
   "outputs": [
    {
     "data": {
      "text/plain": [
       "<autogen_ext.models.openai._openai_client.OpenAIChatCompletionClient at 0x237d19138f0>"
      ]
     },
     "execution_count": 10,
     "metadata": {},
     "output_type": "execute_result"
    }
   ],
   "source": [
    "llm_client_2"
   ]
  },
  {
   "cell_type": "code",
   "execution_count": 11,
   "id": "e3d5318e",
   "metadata": {},
   "outputs": [
    {
     "data": {
      "text/plain": [
       "<autogen_agentchat.agents._assistant_agent.AssistantAgent at 0x237d06b4860>"
      ]
     },
     "execution_count": 11,
     "metadata": {},
     "output_type": "execute_result"
    }
   ],
   "source": [
    "my_agent_2"
   ]
  }
 ],
 "metadata": {
  "kernelspec": {
   "display_name": "Python 3",
   "language": "python",
   "name": "python3"
  },
  "language_info": {
   "codemirror_mode": {
    "name": "ipython",
    "version": 3
   },
   "file_extension": ".py",
   "mimetype": "text/x-python",
   "name": "python",
   "nbconvert_exporter": "python",
   "pygments_lexer": "ipython3",
   "version": "3.12.11"
  }
 },
 "nbformat": 4,
 "nbformat_minor": 5
}
