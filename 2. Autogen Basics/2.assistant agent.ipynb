{
 "cells": [
  {
   "cell_type": "markdown",
   "id": "50b5bedf",
   "metadata": {},
   "source": [
    "## Agent"
   ]
  },
  {
   "cell_type": "code",
   "execution_count": 1,
   "id": "ef737c62",
   "metadata": {},
   "outputs": [
    {
     "data": {
      "text/plain": [
       "True"
      ]
     },
     "execution_count": 1,
     "metadata": {},
     "output_type": "execute_result"
    }
   ],
   "source": [
    "import os\n",
    "from autogen_core.models import UserMessage\n",
    "from autogen_ext.models.openai import OpenAIChatCompletionClient\n",
    "from autogen_agentchat.agents import AssistantAgent\n",
    "\n",
    "from dotenv import load_dotenv\n",
    "\n",
    "load_dotenv()\n"
   ]
  },
  {
   "cell_type": "markdown",
   "id": "8c31733f",
   "metadata": {},
   "source": [
    "#### Create the LLM client"
   ]
  },
  {
   "cell_type": "code",
   "execution_count": 2,
   "id": "7a581915",
   "metadata": {},
   "outputs": [],
   "source": [
    "llm_client = OpenAIChatCompletionClient(model=\"gemini-1.5-flash-8b\", api_key=os.getenv('GOOGLE_API_KEY'))"
   ]
  },
  {
   "cell_type": "markdown",
   "id": "489af7d4",
   "metadata": {},
   "source": [
    "#### Create the agent"
   ]
  },
  {
   "cell_type": "code",
   "execution_count": 3,
   "id": "e510a64c",
   "metadata": {},
   "outputs": [],
   "source": [
    "my_agent = AssistantAgent(name=\"agent25061989\", model_client=llm_client)"
   ]
  },
  {
   "cell_type": "markdown",
   "id": "edc07aeb",
   "metadata": {},
   "source": [
    "#### Run the agent"
   ]
  },
  {
   "cell_type": "code",
   "execution_count": 4,
   "id": "3d76e2fe",
   "metadata": {},
   "outputs": [
    {
     "name": "stdout",
     "output_type": "stream",
     "text": [
      "Rich, diverse, spiritual, ancient, vibrant, colorful, hospitable, family-oriented,  harmonious,  ancient traditions.\n",
      "\n",
      "TERMINATE\n",
      "\n"
     ]
    }
   ],
   "source": [
    "result = await my_agent.run(task=\"Describe about indian culture in 10 words?\")\n",
    "\n",
    "print(result.messages[-1].content)"
   ]
  },
  {
   "cell_type": "code",
   "execution_count": 5,
   "id": "f90f0f1f",
   "metadata": {},
   "outputs": [
    {
     "name": "stdout",
     "output_type": "stream",
     "text": [
      "Your last question was: \"Describe about indian culture in 10 words?\"\n",
      "\n"
     ]
    }
   ],
   "source": [
    "result = await my_agent.run(task=\"what was my last question?\")\n",
    "print(result.messages[-1].content)"
   ]
  },
  {
   "cell_type": "code",
   "execution_count": 6,
   "id": "8337d027",
   "metadata": {},
   "outputs": [
    {
     "name": "stdout",
     "output_type": "stream",
     "text": [
      "The response to your last question was:\n",
      "\n",
      "Rich, diverse, spiritual, ancient, vibrant, colorful, hospitable, family-oriented,  harmonious,  ancient traditions.\n",
      "\n"
     ]
    }
   ],
   "source": [
    "result = await my_agent.run(task=\"what was the response for my last question?\")\n",
    "print(result.messages[-1].content)"
   ]
  },
  {
   "cell_type": "code",
   "execution_count": null,
   "id": "f5ea2a48",
   "metadata": {},
   "outputs": [],
   "source": []
  },
  {
   "cell_type": "code",
   "execution_count": null,
   "id": "9a75a4c3",
   "metadata": {},
   "outputs": [],
   "source": []
  }
 ],
 "metadata": {
  "kernelspec": {
   "display_name": "Python 3",
   "language": "python",
   "name": "python3"
  },
  "language_info": {
   "codemirror_mode": {
    "name": "ipython",
    "version": 3
   },
   "file_extension": ".py",
   "mimetype": "text/x-python",
   "name": "python",
   "nbconvert_exporter": "python",
   "pygments_lexer": "ipython3",
   "version": "3.12.11"
  }
 },
 "nbformat": 4,
 "nbformat_minor": 5
}
