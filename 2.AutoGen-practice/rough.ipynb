{
 "cells": [
  {
   "cell_type": "markdown",
   "id": "7f418eea",
   "metadata": {},
   "source": [
    "messages=[\n",
    "    \n",
    "    TextMessage(\n",
    "        id='7874c7c5-d981-4cad-93b3-9068c1f24c23', \n",
    "        source='user', \n",
    "        models_usage=None, \n",
    "        metadata={}, \n",
    "        created_at=datetime.datetime(2025, 7, 11, 1, 45, 4, 789282, tzinfo=datetime.timezone.utc), \n",
    "        content='perform the addition of two bumbers 2 and 3. Then multiply the addition by 2.', \n",
    "        type='TextMessage'), \n",
    "    \n",
    "    TextMessage(\n",
    "        id='c05fcbad-be18-40de-be21-d9f66e75f97a', \n",
    "        source='arithmatic_assistant', \n",
    "        models_usage=RequestUsage(prompt_tokens=110, completion_tokens=45), \n",
    "        metadata={}, \n",
    "        created_at=datetime.datetime(2025, 7, 11, 1, 45, 6, 368310, tzinfo=datetime.timezone.utc), \n",
    "        content=\"```python\\nresult_add = add(a=2, b=3)\\nresult_multiply = multiplication(a=result_add['result'], b=2)\\nprint(result_multiply)\\n```\", \n",
    "        type='TextMessage')]\n",
    "        \n",
    "    stop_reason=None"
   ]
  },
  {
   "cell_type": "markdown",
   "id": "1850f4b6",
   "metadata": {},
   "source": [
    "messages=[\n",
    "    TextMessage(id='f1a31507-7176-4403-9f5e-3b02622737f4', source='user', models_usage=None, metadata={}, created_at=datetime.datetime(2025, 7, 11, 1, 54, 52, 776945, tzinfo=datetime.timezone.utc), content='perform the addition of two bumbers 2 and 3. Then multiply the addition by 2.', type='TextMessage'), \n",
    "    \n",
    "    ToolCallRequestEvent(id='8f069f4b-7402-4b01-b0f4-5616bc1e144b', source='arithmatic_assistant', models_usage=RequestUsage(prompt_tokens=127, completion_tokens=10), metadata={}, created_at=datetime.datetime(2025, 7, 11, 1, 54, 55, 584233, tzinfo=datetime.timezone.utc), content=[FunctionCall(id='', arguments='{\"b\":3,\"a\":2}', name='add'), FunctionCall(id='', arguments='{\"a\":5,\"b\":2}', name='multiplication')], type='ToolCallRequestEvent'), \n",
    "    \n",
    "    ToolCallExecutionEvent(id='f7fbaa24-b02d-405c-a69c-d396db64b7cd', source='arithmatic_assistant', models_usage=None, metadata={}, created_at=datetime.datetime(2025, 7, 11, 1, 54, 55, 589300, tzinfo=datetime.timezone.utc), content=[FunctionExecutionResult(content='5', name='add', call_id='', is_error=False), FunctionExecutionResult(content='10', name='multiplication', call_id='', is_error=False)], type='ToolCallExecutionEvent'), \n",
    "    \n",
    "    ToolCallSummaryMessage(id='503036be-b156-4125-80d0-51a34c36f463', source='arithmatic_assistant', models_usage=None, metadata={}, created_at=datetime.datetime(2025, 7, 11, 1, 54, 55, 589300, tzinfo=datetime.timezone.utc), content='5\\n10', type='ToolCallSummaryMessage', tool_calls=[FunctionCall(id='', arguments='{\"b\":3,\"a\":2}', name='add'), FunctionCall(id='', arguments='{\"a\":5,\"b\":2}', name='multiplication')], results=[FunctionExecutionResult(content='5', name='add', call_id='', is_error=False), \n",
    "    \n",
    "    FunctionExecutionResult(content='10', name='multiplication', call_id='', is_error=False)])] stop_reason=None"
   ]
  },
  {
   "cell_type": "markdown",
   "id": "3be80c80",
   "metadata": {},
   "source": [
    "messages=[TextMessage(id='4cd956d4-2ab1-4803-a775-fc299b208994', source='user', models_usage=None, metadata={}, created_at=datetime.datetime(2025, 7, 11, 2, 7, 51, 597902, tzinfo=datetime.timezone.utc), content='Add 2 and 3. Use the result to multiply with 2. Then use that result to subtract 3.', type='TextMessage'), \n",
    "\n",
    "ToolCallRequestEvent(id='3db4e168-cf03-4bbf-897e-10ad3f9d3744', source='arithmatic_assistant', models_usage=RequestUsage(prompt_tokens=143, completion_tokens=5), metadata={}, created_at=datetime.datetime(2025, 7, 11, 2, 7, 53, 9472, tzinfo=datetime.timezone.utc), content=[FunctionCall(id='', arguments='{\"b\":3,\"a\":2}', name='addition')], type='ToolCallRequestEvent'), \n",
    "\n",
    "ToolCallExecutionEvent(id='eb4fd8ba-8d71-4da0-9a26-1b941bbd04d7', source='arithmatic_assistant', models_usage=None, metadata={}, created_at=datetime.datetime(2025, 7, 11, 2, 7, 53, 12475, tzinfo=datetime.timezone.utc), content=[FunctionExecutionResult(content='5', name='addition', call_id='', is_error=False)], type='ToolCallExecutionEvent'), \n",
    "\n",
    "ToolCallSummaryMessage(id='ec5055f3-41ef-47e7-872a-e0e5cd606cd4', source='arithmatic_assistant', models_usage=None, metadata={}, created_at=datetime.datetime(2025, 7, 11, 2, 7, 53, 12475, tzinfo=datetime.timezone.utc), content='5', type='ToolCallSummaryMessage', tool_calls=[FunctionCall(id='', arguments='{\"b\":3,\"a\":2}', name='addition')], results=[FunctionExecutionResult(content='5', name='addition', call_id='', is_error=False)])] stop_reason=None\n",
    "\n",
    "assistant response: 5"
   ]
  },
  {
   "cell_type": "code",
   "execution_count": null,
   "id": "1db8d297",
   "metadata": {},
   "outputs": [],
   "source": []
  },
  {
   "cell_type": "code",
   "execution_count": null,
   "id": "60c711c9",
   "metadata": {},
   "outputs": [],
   "source": []
  },
  {
   "cell_type": "code",
   "execution_count": null,
   "id": "8c5eab66",
   "metadata": {},
   "outputs": [
    {
     "name": "stdout",
     "output_type": "stream",
     "text": [
      "['__builtins__', '__cached__', '__doc__', '__file__', '__loader__', '__name__', '__package__', '__path__', '__spec__']\n",
      "['BaseStreamTool', 'BaseTool', 'BaseToolWithState', 'FunctionTool', 'ImageResultContent', 'ParametersSchema', 'StaticStreamWorkbench', 'StaticWorkbench', 'StreamTool', 'TextResultContent', 'Tool', 'ToolResult', 'ToolSchema', 'Workbench', '__all__', '__builtins__', '__cached__', '__doc__', '__file__', '__loader__', '__name__', '__package__', '__path__', '__spec__', '_base', '_function_tool', '_static_workbench', '_workbench']\n"
     ]
    }
   ],
   "source": [
    "import autogen_ext.tools\n",
    "import autogen_core.tools\n",
    "\n",
    "print(dir(autogen_ext.tools))\n",
    "print(dir(autogen_core.tools))\n",
    "\n"
   ]
  },
  {
   "cell_type": "code",
   "execution_count": 4,
   "id": "6bf30abe",
   "metadata": {},
   "outputs": [
    {
     "data": {
      "text/plain": [
       "['BaseStreamTool',\n",
       " 'BaseTool',\n",
       " 'BaseToolWithState',\n",
       " 'FunctionTool',\n",
       " 'ImageResultContent',\n",
       " 'ParametersSchema',\n",
       " 'StaticStreamWorkbench',\n",
       " 'StaticWorkbench',\n",
       " 'StreamTool',\n",
       " 'TextResultContent',\n",
       " 'Tool',\n",
       " 'ToolResult',\n",
       " 'ToolSchema',\n",
       " 'Workbench',\n",
       " '__all__',\n",
       " '__builtins__',\n",
       " '__cached__',\n",
       " '__doc__',\n",
       " '__file__',\n",
       " '__loader__',\n",
       " '__name__',\n",
       " '__package__',\n",
       " '__path__',\n",
       " '__spec__',\n",
       " '_base',\n",
       " '_function_tool',\n",
       " '_static_workbench',\n",
       " '_workbench']"
      ]
     },
     "execution_count": 4,
     "metadata": {},
     "output_type": "execute_result"
    }
   ],
   "source": [
    "tool = dir(autogen_core.tools)\n",
    "tool"
   ]
  },
  {
   "cell_type": "markdown",
   "id": "3a5cb372",
   "metadata": {},
   "source": [
    "messages=[TextMessage(id='338c6852-389d-4f14-bbbe-a005e34b8c9f', source='user', models_usage=None, metadata={}, created_at=datetime.datetime(2025, 7, 13, 23, 32, 19, 973842, tzinfo=datetime.timezone.utc), content='Write a simple code in python to add two numbers', type='TextMessage'), \n",
    "\n",
    "TextMessage(id='191c0490-8850-4c81-9ab4-c19250113341', source='complex_dsa_solver', models_usage=RequestUsage(prompt_tokens=30, completion_tokens=84), metadata={}, created_at=datetime.datetime(2025, 7, 13, 23, 32, 21, 662450, tzinfo=datetime.timezone.utc), content='```python\\ndef add_numbers(x, y):\\n  \"\"\"Adds two numbers.\"\"\"\\n  return x + y\\n\\n# Example usage\\nnum1 = 10\\nnum2 = 5\\nsum_result = add_numbers(num1, num2)\\nprint(f\"The sum of {num1} and {num2} is: {sum_result}\")\\n```\\n', type='TextMessage'), \n",
    "\n",
    "TextMessage(id='9847d409-84bc-46b0-8438-8095c1664124', source='code_reviewer', models_usage=RequestUsage(prompt_tokens=120, completion_tokens=32), metadata={}, created_at=datetime.datetime(2025, 7, 13, 23, 32, 22, 761497, tzinfo=datetime.timezone.utc), content='```python\\ndef add_numbers(x, y):\\n  return x + y\\n```\\nThis is already optimized.  No changes needed.\\n', type='TextMessage'), \n",
    "\n",
    "TextMessage(id='706e5c0d-38d9-42b5-bbef-63a79ad1828a', source='code_editor', models_usage=RequestUsage(prompt_tokens=146, completion_tokens=8), metadata={}, created_at=datetime.datetime(2025, 7, 13, 23, 32, 23, 528847, tzinfo=datetime.timezone.utc), content='No changes needed.  Perfect.\\n', type='TextMessage')] \n",
    "\n",
    "stop_reason='Maximum number of turns 3 reached.'"
   ]
  }
 ],
 "metadata": {
  "kernelspec": {
   "display_name": "Python 3",
   "language": "python",
   "name": "python3"
  },
  "language_info": {
   "codemirror_mode": {
    "name": "ipython",
    "version": 3
   },
   "file_extension": ".py",
   "mimetype": "text/x-python",
   "name": "python",
   "nbconvert_exporter": "python",
   "pygments_lexer": "ipython3",
   "version": "3.12.11"
  }
 },
 "nbformat": 4,
 "nbformat_minor": 5
}
